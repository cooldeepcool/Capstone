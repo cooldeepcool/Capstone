{
 "cells": [
  {
   "cell_type": "code",
   "execution_count": 1,
   "metadata": {},
   "outputs": [],
   "source": [
    "import warnings\n",
    "warnings.simplefilter('ignore')\n",
    "from sklearn.decomposition import PCA\n",
    "import numpy as np\n",
    "import pandas as pd\n",
    "from sklearn.preprocessing import LabelEncoder,StandardScaler\n",
    "from sklearn.cluster import KMeans\n",
    "from sklearn.metrics import silhouette_score,silhouette_samples\n",
    "pd.set_option('display.max_columns', None)\n",
    "pd.set_option('display.max_rows',None)\n",
    "pd.set_option('display.max_columns', None)\n",
    "pd.set_option('float_format', '{:f}'.format)"
   ]
  },
  {
   "cell_type": "code",
   "execution_count": 2,
   "metadata": {},
   "outputs": [],
   "source": [
    "df = pd.read_csv('E:\\CodeChef\\Capstone Project\\Cleaned DataSet\\CleanedMergedData.csv')"
   ]
  },
  {
   "cell_type": "code",
   "execution_count": 3,
   "metadata": {},
   "outputs": [],
   "source": [
    "df['month'] = pd.to_datetime(df['Invoice_DateTime']).dt.month"
   ]
  },
  {
   "cell_type": "code",
   "execution_count": 4,
   "metadata": {},
   "outputs": [],
   "source": [
    "df['year'] = pd.to_datetime(df['Invoice_DateTime']).dt.year"
   ]
  },
  {
   "cell_type": "code",
   "execution_count": 5,
   "metadata": {},
   "outputs": [],
   "source": [
    "df[\"Invoice_DateTime\"]=pd.to_datetime(df[\"Invoice_DateTime\"],dayfirst=True)\n",
    "df[\"JobCard_DateTime\"]=pd.to_datetime(df[\"JobCard_DateTime\"],dayfirst=True)\n",
    "df['Service_Time'] = df['Invoice_DateTime'] - df['JobCard_DateTime']"
   ]
  },
  {
   "cell_type": "code",
   "execution_count": 6,
   "metadata": {},
   "outputs": [],
   "source": [
    "df['Service_Time_Hrs'] = df['Service_Time']/np.timedelta64(1,'h')"
   ]
  },
  {
   "cell_type": "code",
   "execution_count": 7,
   "metadata": {},
   "outputs": [
    {
     "data": {
      "text/plain": [
       "count   936275.000000\n",
       "mean        89.878782\n",
       "std        275.095915\n",
       "min         -0.009167\n",
       "25%          4.048611\n",
       "50%         23.258889\n",
       "75%         73.230278\n",
       "max      17769.261389\n",
       "Name: Service_Time_Hrs, dtype: float64"
      ]
     },
     "execution_count": 7,
     "metadata": {},
     "output_type": "execute_result"
    }
   ],
   "source": [
    "df['Service_Time_Hrs'].describe()"
   ]
  },
  {
   "cell_type": "code",
   "execution_count": 8,
   "metadata": {},
   "outputs": [
    {
     "data": {
      "text/html": [
       "<div>\n",
       "<style scoped>\n",
       "    .dataframe tbody tr th:only-of-type {\n",
       "        vertical-align: middle;\n",
       "    }\n",
       "\n",
       "    .dataframe tbody tr th {\n",
       "        vertical-align: top;\n",
       "    }\n",
       "\n",
       "    .dataframe thead th {\n",
       "        text-align: right;\n",
       "    }\n",
       "</style>\n",
       "<table border=\"1\" class=\"dataframe\">\n",
       "  <thead>\n",
       "    <tr style=\"text-align: right;\">\n",
       "      <th></th>\n",
       "      <th>Unnamed: 0</th>\n",
       "      <th>Unnamed: 0.1</th>\n",
       "      <th>Cust Type</th>\n",
       "      <th>Customer No.</th>\n",
       "      <th>Gate Pass Time</th>\n",
       "      <th>Invoice No</th>\n",
       "      <th>Job Card No</th>\n",
       "      <th>KMs Reading</th>\n",
       "      <th>Labour Total</th>\n",
       "      <th>Make</th>\n",
       "      <th>Misc Total</th>\n",
       "      <th>Model</th>\n",
       "      <th>OSL Total</th>\n",
       "      <th>Order Type</th>\n",
       "      <th>Parts Total</th>\n",
       "      <th>Pin code</th>\n",
       "      <th>Plant</th>\n",
       "      <th>Plant Name1</th>\n",
       "      <th>Print Status</th>\n",
       "      <th>Recovrbl Exp</th>\n",
       "      <th>Total Amt Wtd Tax.</th>\n",
       "      <th>User ID</th>\n",
       "      <th>Clean_Location</th>\n",
       "      <th>Clean_City</th>\n",
       "      <th>Clean_State</th>\n",
       "      <th>JobCard_DateTime</th>\n",
       "      <th>Invoice_DateTime</th>\n",
       "      <th>Service_Time</th>\n",
       "      <th>Business Partner</th>\n",
       "      <th>Partner Type</th>\n",
       "      <th>Data Origin</th>\n",
       "      <th>DBM Order</th>\n",
       "      <th>Item Category</th>\n",
       "      <th>Net value</th>\n",
       "      <th>Order Quantity</th>\n",
       "      <th>month</th>\n",
       "      <th>year</th>\n",
       "      <th>Service_Time_Hrs</th>\n",
       "    </tr>\n",
       "  </thead>\n",
       "  <tbody>\n",
       "    <tr>\n",
       "      <th>714423</th>\n",
       "      <td>714423</td>\n",
       "      <td>794156</td>\n",
       "      <td>Retail</td>\n",
       "      <td>182085</td>\n",
       "      <td>00:00:00</td>\n",
       "      <td>7167000988</td>\n",
       "      <td>363294</td>\n",
       "      <td>62001</td>\n",
       "      <td>0.000000</td>\n",
       "      <td>MARUTI SUZUKI</td>\n",
       "      <td>0.000000</td>\n",
       "      <td>SWIFT DZIRE</td>\n",
       "      <td>0.000000</td>\n",
       "      <td>Running Repairs</td>\n",
       "      <td>0.000000</td>\n",
       "      <td>603103</td>\n",
       "      <td>X085</td>\n",
       "      <td>X085 - SRI MOTORS</td>\n",
       "      <td>NO</td>\n",
       "      <td>0.000000</td>\n",
       "      <td>0.000000</td>\n",
       "      <td>X085SA1</td>\n",
       "      <td>Pudupakkam, Padur, Kelambakkam, Thaiyur</td>\n",
       "      <td>Kanchipuram</td>\n",
       "      <td>Tamil Nadu</td>\n",
       "      <td>2016-05-02 15:12:44</td>\n",
       "      <td>2016-05-02 15:12:11</td>\n",
       "      <td>-1 days +23:59:27</td>\n",
       "      <td>NaN</td>\n",
       "      <td>nan</td>\n",
       "      <td>NaN</td>\n",
       "      <td>363294.000000</td>\n",
       "      <td>G2TX</td>\n",
       "      <td>0.000000</td>\n",
       "      <td>0.000000</td>\n",
       "      <td>5</td>\n",
       "      <td>2016</td>\n",
       "      <td>-0.009167</td>\n",
       "    </tr>\n",
       "  </tbody>\n",
       "</table>\n",
       "</div>"
      ],
      "text/plain": [
       "        Unnamed: 0  Unnamed: 0.1 Cust Type Customer No. Gate Pass Time  \\\n",
       "714423      714423        794156    Retail       182085       00:00:00   \n",
       "\n",
       "        Invoice No  Job Card No  KMs Reading  Labour Total           Make  \\\n",
       "714423  7167000988       363294        62001      0.000000  MARUTI SUZUKI   \n",
       "\n",
       "        Misc Total        Model  OSL Total       Order Type  Parts Total  \\\n",
       "714423    0.000000  SWIFT DZIRE   0.000000  Running Repairs     0.000000   \n",
       "\n",
       "        Pin code Plant        Plant Name1 Print Status  Recovrbl Exp  \\\n",
       "714423    603103  X085  X085 - SRI MOTORS           NO      0.000000   \n",
       "\n",
       "        Total Amt Wtd Tax.  User ID                           Clean_Location  \\\n",
       "714423            0.000000  X085SA1  Pudupakkam, Padur, Kelambakkam, Thaiyur   \n",
       "\n",
       "         Clean_City Clean_State    JobCard_DateTime    Invoice_DateTime  \\\n",
       "714423  Kanchipuram  Tamil Nadu 2016-05-02 15:12:44 2016-05-02 15:12:11   \n",
       "\n",
       "            Service_Time Business Partner  Partner Type Data Origin  \\\n",
       "714423 -1 days +23:59:27              NaN           nan         NaN   \n",
       "\n",
       "           DBM Order Item Category  Net value  Order Quantity  month  year  \\\n",
       "714423 363294.000000          G2TX   0.000000        0.000000      5  2016   \n",
       "\n",
       "        Service_Time_Hrs  \n",
       "714423         -0.009167  "
      ]
     },
     "execution_count": 8,
     "metadata": {},
     "output_type": "execute_result"
    }
   ],
   "source": [
    "# to see and remove entries which have negative time as min value has negative entry\n",
    "df[df['Service_Time_Hrs']<0]"
   ]
  },
  {
   "cell_type": "code",
   "execution_count": 9,
   "metadata": {},
   "outputs": [],
   "source": [
    "df.drop(index=714423,axis=0,inplace=True)"
   ]
  },
  {
   "cell_type": "code",
   "execution_count": 10,
   "metadata": {},
   "outputs": [
    {
     "data": {
      "text/html": [
       "<div>\n",
       "<style scoped>\n",
       "    .dataframe tbody tr th:only-of-type {\n",
       "        vertical-align: middle;\n",
       "    }\n",
       "\n",
       "    .dataframe tbody tr th {\n",
       "        vertical-align: top;\n",
       "    }\n",
       "\n",
       "    .dataframe thead th {\n",
       "        text-align: right;\n",
       "    }\n",
       "</style>\n",
       "<table border=\"1\" class=\"dataframe\">\n",
       "  <thead>\n",
       "    <tr style=\"text-align: right;\">\n",
       "      <th></th>\n",
       "      <th>Unnamed: 0</th>\n",
       "      <th>Unnamed: 0.1</th>\n",
       "      <th>Cust Type</th>\n",
       "      <th>Customer No.</th>\n",
       "      <th>Gate Pass Time</th>\n",
       "      <th>Invoice No</th>\n",
       "      <th>Job Card No</th>\n",
       "      <th>KMs Reading</th>\n",
       "      <th>Labour Total</th>\n",
       "      <th>Make</th>\n",
       "      <th>Misc Total</th>\n",
       "      <th>Model</th>\n",
       "      <th>OSL Total</th>\n",
       "      <th>Order Type</th>\n",
       "      <th>Parts Total</th>\n",
       "      <th>Pin code</th>\n",
       "      <th>Plant</th>\n",
       "      <th>Plant Name1</th>\n",
       "      <th>Print Status</th>\n",
       "      <th>Recovrbl Exp</th>\n",
       "      <th>Total Amt Wtd Tax.</th>\n",
       "      <th>User ID</th>\n",
       "      <th>Clean_Location</th>\n",
       "      <th>Clean_City</th>\n",
       "      <th>Clean_State</th>\n",
       "      <th>JobCard_DateTime</th>\n",
       "      <th>Invoice_DateTime</th>\n",
       "      <th>Service_Time</th>\n",
       "      <th>Business Partner</th>\n",
       "      <th>Partner Type</th>\n",
       "      <th>Data Origin</th>\n",
       "      <th>DBM Order</th>\n",
       "      <th>Item Category</th>\n",
       "      <th>Net value</th>\n",
       "      <th>Order Quantity</th>\n",
       "      <th>month</th>\n",
       "      <th>year</th>\n",
       "      <th>Service_Time_Hrs</th>\n",
       "    </tr>\n",
       "  </thead>\n",
       "  <tbody>\n",
       "  </tbody>\n",
       "</table>\n",
       "</div>"
      ],
      "text/plain": [
       "Empty DataFrame\n",
       "Columns: [Unnamed: 0, Unnamed: 0.1, Cust Type, Customer No., Gate Pass Time, Invoice No, Job Card No, KMs Reading, Labour Total, Make, Misc Total, Model, OSL Total, Order Type, Parts Total, Pin code, Plant, Plant Name1, Print Status, Recovrbl Exp, Total Amt Wtd Tax., User ID, Clean_Location, Clean_City, Clean_State, JobCard_DateTime, Invoice_DateTime, Service_Time, Business Partner, Partner Type, Data Origin, DBM Order, Item Category, Net value, Order Quantity, month, year, Service_Time_Hrs]\n",
       "Index: []"
      ]
     },
     "execution_count": 10,
     "metadata": {},
     "output_type": "execute_result"
    }
   ],
   "source": [
    "#To cross check if all entries with negative time has been removed or not\n",
    "df[df['Service_Time_Hrs']<0]"
   ]
  },
  {
   "cell_type": "code",
   "execution_count": 11,
   "metadata": {},
   "outputs": [
    {
     "data": {
      "text/plain": [
       "count   936274.000000\n",
       "mean        89.878878\n",
       "std        275.096046\n",
       "min          0.010000\n",
       "25%          4.048611\n",
       "50%         23.259028\n",
       "75%         73.230278\n",
       "max      17769.261389\n",
       "Name: Service_Time_Hrs, dtype: float64"
      ]
     },
     "execution_count": 11,
     "metadata": {},
     "output_type": "execute_result"
    }
   ],
   "source": [
    "df['Service_Time_Hrs'].describe()"
   ]
  },
  {
   "cell_type": "markdown",
   "metadata": {},
   "source": [
    "### Clustering "
   ]
  },
  {
   "cell_type": "code",
   "execution_count": 12,
   "metadata": {
    "scrolled": true
   },
   "outputs": [
    {
     "data": {
      "text/html": [
       "<div>\n",
       "<style scoped>\n",
       "    .dataframe tbody tr th:only-of-type {\n",
       "        vertical-align: middle;\n",
       "    }\n",
       "\n",
       "    .dataframe tbody tr th {\n",
       "        vertical-align: top;\n",
       "    }\n",
       "\n",
       "    .dataframe thead th {\n",
       "        text-align: right;\n",
       "    }\n",
       "</style>\n",
       "<table border=\"1\" class=\"dataframe\">\n",
       "  <thead>\n",
       "    <tr style=\"text-align: right;\">\n",
       "      <th></th>\n",
       "      <th>Unnamed: 0</th>\n",
       "      <th>Unnamed: 0.1</th>\n",
       "      <th>Cust Type</th>\n",
       "      <th>Customer No.</th>\n",
       "      <th>Gate Pass Time</th>\n",
       "      <th>Invoice No</th>\n",
       "      <th>Job Card No</th>\n",
       "      <th>KMs Reading</th>\n",
       "      <th>Labour Total</th>\n",
       "      <th>Make</th>\n",
       "      <th>Misc Total</th>\n",
       "      <th>Model</th>\n",
       "      <th>OSL Total</th>\n",
       "      <th>Order Type</th>\n",
       "      <th>Parts Total</th>\n",
       "      <th>Pin code</th>\n",
       "      <th>Plant</th>\n",
       "      <th>Plant Name1</th>\n",
       "      <th>Print Status</th>\n",
       "      <th>Recovrbl Exp</th>\n",
       "      <th>Total Amt Wtd Tax.</th>\n",
       "      <th>User ID</th>\n",
       "      <th>Clean_Location</th>\n",
       "      <th>Clean_City</th>\n",
       "      <th>Clean_State</th>\n",
       "      <th>JobCard_DateTime</th>\n",
       "      <th>Invoice_DateTime</th>\n",
       "      <th>Service_Time</th>\n",
       "      <th>Business Partner</th>\n",
       "      <th>Partner Type</th>\n",
       "      <th>Data Origin</th>\n",
       "      <th>DBM Order</th>\n",
       "      <th>Item Category</th>\n",
       "      <th>Net value</th>\n",
       "      <th>Order Quantity</th>\n",
       "      <th>month</th>\n",
       "      <th>year</th>\n",
       "      <th>Service_Time_Hrs</th>\n",
       "    </tr>\n",
       "  </thead>\n",
       "  <tbody>\n",
       "    <tr>\n",
       "      <th>0</th>\n",
       "      <td>0</td>\n",
       "      <td>0</td>\n",
       "      <td>Retail</td>\n",
       "      <td>67849</td>\n",
       "      <td>00:00:00</td>\n",
       "      <td>7005200002</td>\n",
       "      <td>168303</td>\n",
       "      <td>49317</td>\n",
       "      <td>1203.140000</td>\n",
       "      <td>GENERAL MOTORS</td>\n",
       "      <td>0.000000</td>\n",
       "      <td>SPARK</td>\n",
       "      <td>500.060000</td>\n",
       "      <td>Paid Service</td>\n",
       "      <td>2348.750000</td>\n",
       "      <td>400601</td>\n",
       "      <td>BC01</td>\n",
       "      <td>THANE</td>\n",
       "      <td>NO</td>\n",
       "      <td>0.000000</td>\n",
       "      <td>4051.950000</td>\n",
       "      <td>BC01FS1</td>\n",
       "      <td>Thane Bazar, Thane H.O, Thane R.S.</td>\n",
       "      <td>Thane</td>\n",
       "      <td>Maharashtra</td>\n",
       "      <td>2014-12-13 14:29:43</td>\n",
       "      <td>2015-01-02 11:30:36</td>\n",
       "      <td>19 days 21:00:53</td>\n",
       "      <td>NaN</td>\n",
       "      <td>nan</td>\n",
       "      <td>NaN</td>\n",
       "      <td>168303.000000</td>\n",
       "      <td>P001</td>\n",
       "      <td>1203.140000</td>\n",
       "      <td>73.000000</td>\n",
       "      <td>1</td>\n",
       "      <td>2015</td>\n",
       "      <td>477.014722</td>\n",
       "    </tr>\n",
       "    <tr>\n",
       "      <th>1</th>\n",
       "      <td>1</td>\n",
       "      <td>0</td>\n",
       "      <td>Retail</td>\n",
       "      <td>67849</td>\n",
       "      <td>00:00:00</td>\n",
       "      <td>7005200002</td>\n",
       "      <td>168303</td>\n",
       "      <td>49317</td>\n",
       "      <td>1203.140000</td>\n",
       "      <td>GENERAL MOTORS</td>\n",
       "      <td>0.000000</td>\n",
       "      <td>SPARK</td>\n",
       "      <td>500.060000</td>\n",
       "      <td>Paid Service</td>\n",
       "      <td>2348.750000</td>\n",
       "      <td>400601</td>\n",
       "      <td>BC01</td>\n",
       "      <td>THANE</td>\n",
       "      <td>NO</td>\n",
       "      <td>0.000000</td>\n",
       "      <td>4051.950000</td>\n",
       "      <td>BC01FS1</td>\n",
       "      <td>Thane Bazar, Thane H.O, Thane R.S.</td>\n",
       "      <td>Thane</td>\n",
       "      <td>Maharashtra</td>\n",
       "      <td>2014-12-13 14:29:43</td>\n",
       "      <td>2015-01-02 11:30:36</td>\n",
       "      <td>19 days 21:00:53</td>\n",
       "      <td>NaN</td>\n",
       "      <td>nan</td>\n",
       "      <td>NaN</td>\n",
       "      <td>168303.000000</td>\n",
       "      <td>P002</td>\n",
       "      <td>2348.750000</td>\n",
       "      <td>6.500000</td>\n",
       "      <td>1</td>\n",
       "      <td>2015</td>\n",
       "      <td>477.014722</td>\n",
       "    </tr>\n",
       "    <tr>\n",
       "      <th>2</th>\n",
       "      <td>2</td>\n",
       "      <td>0</td>\n",
       "      <td>Retail</td>\n",
       "      <td>67849</td>\n",
       "      <td>00:00:00</td>\n",
       "      <td>7005200002</td>\n",
       "      <td>168303</td>\n",
       "      <td>49317</td>\n",
       "      <td>1203.140000</td>\n",
       "      <td>GENERAL MOTORS</td>\n",
       "      <td>0.000000</td>\n",
       "      <td>SPARK</td>\n",
       "      <td>500.060000</td>\n",
       "      <td>Paid Service</td>\n",
       "      <td>2348.750000</td>\n",
       "      <td>400601</td>\n",
       "      <td>BC01</td>\n",
       "      <td>THANE</td>\n",
       "      <td>NO</td>\n",
       "      <td>0.000000</td>\n",
       "      <td>4051.950000</td>\n",
       "      <td>BC01FS1</td>\n",
       "      <td>Thane Bazar, Thane H.O, Thane R.S.</td>\n",
       "      <td>Thane</td>\n",
       "      <td>Maharashtra</td>\n",
       "      <td>2014-12-13 14:29:43</td>\n",
       "      <td>2015-01-02 11:30:36</td>\n",
       "      <td>19 days 21:00:53</td>\n",
       "      <td>NaN</td>\n",
       "      <td>nan</td>\n",
       "      <td>NaN</td>\n",
       "      <td>168303.000000</td>\n",
       "      <td>P010</td>\n",
       "      <td>500.060000</td>\n",
       "      <td>1.000000</td>\n",
       "      <td>1</td>\n",
       "      <td>2015</td>\n",
       "      <td>477.014722</td>\n",
       "    </tr>\n",
       "    <tr>\n",
       "      <th>3</th>\n",
       "      <td>3</td>\n",
       "      <td>1</td>\n",
       "      <td>Retail</td>\n",
       "      <td>84419</td>\n",
       "      <td>00:00:00</td>\n",
       "      <td>7005200003</td>\n",
       "      <td>173997</td>\n",
       "      <td>78584</td>\n",
       "      <td>804.260000</td>\n",
       "      <td>TATA MOTORS</td>\n",
       "      <td>197.030000</td>\n",
       "      <td>INDICA</td>\n",
       "      <td>0.000000</td>\n",
       "      <td>SMC Value Package</td>\n",
       "      <td>0.000000</td>\n",
       "      <td>400603</td>\n",
       "      <td>BC01</td>\n",
       "      <td>THANE</td>\n",
       "      <td>NO</td>\n",
       "      <td>0.000000</td>\n",
       "      <td>1001.290000</td>\n",
       "      <td>BC01SA2</td>\n",
       "      <td>Thane East, Kopri Colony</td>\n",
       "      <td>Thane</td>\n",
       "      <td>Maharashtra</td>\n",
       "      <td>2015-01-02 14:12:18</td>\n",
       "      <td>2015-01-03 10:07:32</td>\n",
       "      <td>0 days 19:55:14</td>\n",
       "      <td>NaN</td>\n",
       "      <td>nan</td>\n",
       "      <td>NaN</td>\n",
       "      <td>173997.000000</td>\n",
       "      <td>P001</td>\n",
       "      <td>804.260000</td>\n",
       "      <td>170.000000</td>\n",
       "      <td>1</td>\n",
       "      <td>2015</td>\n",
       "      <td>19.920556</td>\n",
       "    </tr>\n",
       "    <tr>\n",
       "      <th>4</th>\n",
       "      <td>4</td>\n",
       "      <td>1</td>\n",
       "      <td>Retail</td>\n",
       "      <td>84419</td>\n",
       "      <td>00:00:00</td>\n",
       "      <td>7005200003</td>\n",
       "      <td>173997</td>\n",
       "      <td>78584</td>\n",
       "      <td>804.260000</td>\n",
       "      <td>TATA MOTORS</td>\n",
       "      <td>197.030000</td>\n",
       "      <td>INDICA</td>\n",
       "      <td>0.000000</td>\n",
       "      <td>SMC Value Package</td>\n",
       "      <td>0.000000</td>\n",
       "      <td>400603</td>\n",
       "      <td>BC01</td>\n",
       "      <td>THANE</td>\n",
       "      <td>NO</td>\n",
       "      <td>0.000000</td>\n",
       "      <td>1001.290000</td>\n",
       "      <td>BC01SA2</td>\n",
       "      <td>Thane East, Kopri Colony</td>\n",
       "      <td>Thane</td>\n",
       "      <td>Maharashtra</td>\n",
       "      <td>2015-01-02 14:12:18</td>\n",
       "      <td>2015-01-03 10:07:32</td>\n",
       "      <td>0 days 19:55:14</td>\n",
       "      <td>NaN</td>\n",
       "      <td>nan</td>\n",
       "      <td>NaN</td>\n",
       "      <td>173997.000000</td>\n",
       "      <td>P011</td>\n",
       "      <td>197.030000</td>\n",
       "      <td>1.000000</td>\n",
       "      <td>1</td>\n",
       "      <td>2015</td>\n",
       "      <td>19.920556</td>\n",
       "    </tr>\n",
       "  </tbody>\n",
       "</table>\n",
       "</div>"
      ],
      "text/plain": [
       "   Unnamed: 0  Unnamed: 0.1 Cust Type Customer No. Gate Pass Time  Invoice No  \\\n",
       "0           0             0    Retail        67849       00:00:00  7005200002   \n",
       "1           1             0    Retail        67849       00:00:00  7005200002   \n",
       "2           2             0    Retail        67849       00:00:00  7005200002   \n",
       "3           3             1    Retail        84419       00:00:00  7005200003   \n",
       "4           4             1    Retail        84419       00:00:00  7005200003   \n",
       "\n",
       "   Job Card No  KMs Reading  Labour Total            Make  Misc Total   Model  \\\n",
       "0       168303        49317   1203.140000  GENERAL MOTORS    0.000000   SPARK   \n",
       "1       168303        49317   1203.140000  GENERAL MOTORS    0.000000   SPARK   \n",
       "2       168303        49317   1203.140000  GENERAL MOTORS    0.000000   SPARK   \n",
       "3       173997        78584    804.260000     TATA MOTORS  197.030000  INDICA   \n",
       "4       173997        78584    804.260000     TATA MOTORS  197.030000  INDICA   \n",
       "\n",
       "   OSL Total         Order Type  Parts Total  Pin code Plant Plant Name1  \\\n",
       "0 500.060000       Paid Service  2348.750000    400601  BC01       THANE   \n",
       "1 500.060000       Paid Service  2348.750000    400601  BC01       THANE   \n",
       "2 500.060000       Paid Service  2348.750000    400601  BC01       THANE   \n",
       "3   0.000000  SMC Value Package     0.000000    400603  BC01       THANE   \n",
       "4   0.000000  SMC Value Package     0.000000    400603  BC01       THANE   \n",
       "\n",
       "  Print Status  Recovrbl Exp  Total Amt Wtd Tax.  User ID  \\\n",
       "0           NO      0.000000         4051.950000  BC01FS1   \n",
       "1           NO      0.000000         4051.950000  BC01FS1   \n",
       "2           NO      0.000000         4051.950000  BC01FS1   \n",
       "3           NO      0.000000         1001.290000  BC01SA2   \n",
       "4           NO      0.000000         1001.290000  BC01SA2   \n",
       "\n",
       "                       Clean_Location Clean_City  Clean_State  \\\n",
       "0  Thane Bazar, Thane H.O, Thane R.S.      Thane  Maharashtra   \n",
       "1  Thane Bazar, Thane H.O, Thane R.S.      Thane  Maharashtra   \n",
       "2  Thane Bazar, Thane H.O, Thane R.S.      Thane  Maharashtra   \n",
       "3            Thane East, Kopri Colony      Thane  Maharashtra   \n",
       "4            Thane East, Kopri Colony      Thane  Maharashtra   \n",
       "\n",
       "     JobCard_DateTime    Invoice_DateTime     Service_Time Business Partner  \\\n",
       "0 2014-12-13 14:29:43 2015-01-02 11:30:36 19 days 21:00:53              NaN   \n",
       "1 2014-12-13 14:29:43 2015-01-02 11:30:36 19 days 21:00:53              NaN   \n",
       "2 2014-12-13 14:29:43 2015-01-02 11:30:36 19 days 21:00:53              NaN   \n",
       "3 2015-01-02 14:12:18 2015-01-03 10:07:32  0 days 19:55:14              NaN   \n",
       "4 2015-01-02 14:12:18 2015-01-03 10:07:32  0 days 19:55:14              NaN   \n",
       "\n",
       "   Partner Type Data Origin     DBM Order Item Category   Net value  \\\n",
       "0           nan         NaN 168303.000000          P001 1203.140000   \n",
       "1           nan         NaN 168303.000000          P002 2348.750000   \n",
       "2           nan         NaN 168303.000000          P010  500.060000   \n",
       "3           nan         NaN 173997.000000          P001  804.260000   \n",
       "4           nan         NaN 173997.000000          P011  197.030000   \n",
       "\n",
       "   Order Quantity  month  year  Service_Time_Hrs  \n",
       "0       73.000000      1  2015        477.014722  \n",
       "1        6.500000      1  2015        477.014722  \n",
       "2        1.000000      1  2015        477.014722  \n",
       "3      170.000000      1  2015         19.920556  \n",
       "4        1.000000      1  2015         19.920556  "
      ]
     },
     "execution_count": 12,
     "metadata": {},
     "output_type": "execute_result"
    }
   ],
   "source": [
    "df.head()"
   ]
  },
  {
   "cell_type": "code",
   "execution_count": 13,
   "metadata": {},
   "outputs": [],
   "source": [
    "#### Selecting columns required for clustering\n",
    "\n",
    "cluster_df = df[['Cust Type','Customer No.','Make','Model','Order Type','Clean_City','Clean_Location','Invoice No','Service_Time_Hrs','Total Amt Wtd Tax.','Net value']]"
   ]
  },
  {
   "cell_type": "code",
   "execution_count": 14,
   "metadata": {},
   "outputs": [
    {
     "data": {
      "text/plain": [
       "Cust Type                 0\n",
       "Customer No.              0\n",
       "Make                      0\n",
       "Model                  3185\n",
       "Order Type                0\n",
       "Clean_City            94162\n",
       "Clean_Location        94162\n",
       "Invoice No                0\n",
       "Service_Time_Hrs          0\n",
       "Total Amt Wtd Tax.        0\n",
       "Net value                39\n",
       "dtype: int64"
      ]
     },
     "execution_count": 14,
     "metadata": {},
     "output_type": "execute_result"
    }
   ],
   "source": [
    "cluster_df.isnull().sum()"
   ]
  },
  {
   "cell_type": "code",
   "execution_count": 15,
   "metadata": {},
   "outputs": [],
   "source": [
    "cluster_df = cluster_df[cluster_df['Model'].notnull()]\n",
    "cluster_df = cluster_df[cluster_df['Clean_City'].notnull()]\n",
    "cluster_df = cluster_df[cluster_df['Clean_Location'].notnull()]\n",
    "cluster_df = cluster_df[cluster_df['Net value'].notnull()]"
   ]
  },
  {
   "cell_type": "code",
   "execution_count": 16,
   "metadata": {},
   "outputs": [
    {
     "data": {
      "text/plain": [
       "Cust Type             0\n",
       "Customer No.          0\n",
       "Make                  0\n",
       "Model                 0\n",
       "Order Type            0\n",
       "Clean_City            0\n",
       "Clean_Location        0\n",
       "Invoice No            0\n",
       "Service_Time_Hrs      0\n",
       "Total Amt Wtd Tax.    0\n",
       "Net value             0\n",
       "dtype: int64"
      ]
     },
     "execution_count": 16,
     "metadata": {},
     "output_type": "execute_result"
    }
   ],
   "source": [
    "cluster_df.isnull().sum()"
   ]
  },
  {
   "cell_type": "code",
   "execution_count": 17,
   "metadata": {},
   "outputs": [
    {
     "data": {
      "text/plain": [
       "(839153, 11)"
      ]
     },
     "execution_count": 17,
     "metadata": {},
     "output_type": "execute_result"
    }
   ],
   "source": [
    "cluster_df.shape"
   ]
  },
  {
   "cell_type": "code",
   "execution_count": 18,
   "metadata": {},
   "outputs": [
    {
     "data": {
      "text/html": [
       "<div>\n",
       "<style scoped>\n",
       "    .dataframe tbody tr th:only-of-type {\n",
       "        vertical-align: middle;\n",
       "    }\n",
       "\n",
       "    .dataframe tbody tr th {\n",
       "        vertical-align: top;\n",
       "    }\n",
       "\n",
       "    .dataframe thead th {\n",
       "        text-align: right;\n",
       "    }\n",
       "</style>\n",
       "<table border=\"1\" class=\"dataframe\">\n",
       "  <thead>\n",
       "    <tr style=\"text-align: right;\">\n",
       "      <th></th>\n",
       "      <th>Cust Type</th>\n",
       "      <th>Customer No.</th>\n",
       "      <th>Make</th>\n",
       "      <th>Model</th>\n",
       "      <th>Order Type</th>\n",
       "      <th>Clean_City</th>\n",
       "      <th>Clean_Location</th>\n",
       "      <th>Invoice No</th>\n",
       "      <th>Service_Time_Hrs</th>\n",
       "      <th>Total Amt Wtd Tax.</th>\n",
       "      <th>Net value</th>\n",
       "    </tr>\n",
       "  </thead>\n",
       "  <tbody>\n",
       "    <tr>\n",
       "      <th>0</th>\n",
       "      <td>Retail</td>\n",
       "      <td>67849</td>\n",
       "      <td>GENERAL MOTORS</td>\n",
       "      <td>SPARK</td>\n",
       "      <td>Paid Service</td>\n",
       "      <td>Thane</td>\n",
       "      <td>Thane Bazar, Thane H.O, Thane R.S.</td>\n",
       "      <td>7005200002</td>\n",
       "      <td>477.014722</td>\n",
       "      <td>4051.950000</td>\n",
       "      <td>1203.140000</td>\n",
       "    </tr>\n",
       "    <tr>\n",
       "      <th>1</th>\n",
       "      <td>Retail</td>\n",
       "      <td>67849</td>\n",
       "      <td>GENERAL MOTORS</td>\n",
       "      <td>SPARK</td>\n",
       "      <td>Paid Service</td>\n",
       "      <td>Thane</td>\n",
       "      <td>Thane Bazar, Thane H.O, Thane R.S.</td>\n",
       "      <td>7005200002</td>\n",
       "      <td>477.014722</td>\n",
       "      <td>4051.950000</td>\n",
       "      <td>2348.750000</td>\n",
       "    </tr>\n",
       "    <tr>\n",
       "      <th>2</th>\n",
       "      <td>Retail</td>\n",
       "      <td>67849</td>\n",
       "      <td>GENERAL MOTORS</td>\n",
       "      <td>SPARK</td>\n",
       "      <td>Paid Service</td>\n",
       "      <td>Thane</td>\n",
       "      <td>Thane Bazar, Thane H.O, Thane R.S.</td>\n",
       "      <td>7005200002</td>\n",
       "      <td>477.014722</td>\n",
       "      <td>4051.950000</td>\n",
       "      <td>500.060000</td>\n",
       "    </tr>\n",
       "    <tr>\n",
       "      <th>3</th>\n",
       "      <td>Retail</td>\n",
       "      <td>84419</td>\n",
       "      <td>TATA MOTORS</td>\n",
       "      <td>INDICA</td>\n",
       "      <td>SMC Value Package</td>\n",
       "      <td>Thane</td>\n",
       "      <td>Thane East, Kopri Colony</td>\n",
       "      <td>7005200003</td>\n",
       "      <td>19.920556</td>\n",
       "      <td>1001.290000</td>\n",
       "      <td>804.260000</td>\n",
       "    </tr>\n",
       "    <tr>\n",
       "      <th>4</th>\n",
       "      <td>Retail</td>\n",
       "      <td>84419</td>\n",
       "      <td>TATA MOTORS</td>\n",
       "      <td>INDICA</td>\n",
       "      <td>SMC Value Package</td>\n",
       "      <td>Thane</td>\n",
       "      <td>Thane East, Kopri Colony</td>\n",
       "      <td>7005200003</td>\n",
       "      <td>19.920556</td>\n",
       "      <td>1001.290000</td>\n",
       "      <td>197.030000</td>\n",
       "    </tr>\n",
       "  </tbody>\n",
       "</table>\n",
       "</div>"
      ],
      "text/plain": [
       "  Cust Type Customer No.            Make   Model         Order Type  \\\n",
       "0    Retail        67849  GENERAL MOTORS   SPARK       Paid Service   \n",
       "1    Retail        67849  GENERAL MOTORS   SPARK       Paid Service   \n",
       "2    Retail        67849  GENERAL MOTORS   SPARK       Paid Service   \n",
       "3    Retail        84419     TATA MOTORS  INDICA  SMC Value Package   \n",
       "4    Retail        84419     TATA MOTORS  INDICA  SMC Value Package   \n",
       "\n",
       "  Clean_City                      Clean_Location  Invoice No  \\\n",
       "0      Thane  Thane Bazar, Thane H.O, Thane R.S.  7005200002   \n",
       "1      Thane  Thane Bazar, Thane H.O, Thane R.S.  7005200002   \n",
       "2      Thane  Thane Bazar, Thane H.O, Thane R.S.  7005200002   \n",
       "3      Thane            Thane East, Kopri Colony  7005200003   \n",
       "4      Thane            Thane East, Kopri Colony  7005200003   \n",
       "\n",
       "   Service_Time_Hrs  Total Amt Wtd Tax.   Net value  \n",
       "0        477.014722         4051.950000 1203.140000  \n",
       "1        477.014722         4051.950000 2348.750000  \n",
       "2        477.014722         4051.950000  500.060000  \n",
       "3         19.920556         1001.290000  804.260000  \n",
       "4         19.920556         1001.290000  197.030000  "
      ]
     },
     "execution_count": 18,
     "metadata": {},
     "output_type": "execute_result"
    }
   ],
   "source": [
    "cluster_df.head()"
   ]
  },
  {
   "cell_type": "markdown",
   "metadata": {},
   "source": [
    "### Selecting columns required for clustering"
   ]
  },
  {
   "cell_type": "code",
   "execution_count": 19,
   "metadata": {},
   "outputs": [],
   "source": [
    "clusters = cluster_df.groupby(['Customer No.','Cust Type','Make','Model','Clean_City','Order Type']).agg(\n",
    "                                {\n",
    "                                 'Invoice No':'nunique',\n",
    "                                 'Net value':'sum',\n",
    "                                 'Service_Time_Hrs':'mean'\n",
    "                                }\n",
    "                            )"
   ]
  },
  {
   "cell_type": "code",
   "execution_count": 20,
   "metadata": {},
   "outputs": [
    {
     "data": {
      "text/html": [
       "<div>\n",
       "<style scoped>\n",
       "    .dataframe tbody tr th:only-of-type {\n",
       "        vertical-align: middle;\n",
       "    }\n",
       "\n",
       "    .dataframe tbody tr th {\n",
       "        vertical-align: top;\n",
       "    }\n",
       "\n",
       "    .dataframe thead th {\n",
       "        text-align: right;\n",
       "    }\n",
       "</style>\n",
       "<table border=\"1\" class=\"dataframe\">\n",
       "  <thead>\n",
       "    <tr style=\"text-align: right;\">\n",
       "      <th></th>\n",
       "      <th></th>\n",
       "      <th></th>\n",
       "      <th></th>\n",
       "      <th></th>\n",
       "      <th></th>\n",
       "      <th>Invoice No</th>\n",
       "      <th>Net value</th>\n",
       "      <th>Service_Time_Hrs</th>\n",
       "    </tr>\n",
       "    <tr>\n",
       "      <th>Customer No.</th>\n",
       "      <th>Cust Type</th>\n",
       "      <th>Make</th>\n",
       "      <th>Model</th>\n",
       "      <th>Clean_City</th>\n",
       "      <th>Order Type</th>\n",
       "      <th></th>\n",
       "      <th></th>\n",
       "      <th></th>\n",
       "    </tr>\n",
       "  </thead>\n",
       "  <tbody>\n",
       "    <tr>\n",
       "      <th rowspan=\"3\" valign=\"top\">1</th>\n",
       "      <th rowspan=\"3\" valign=\"top\">Retail</th>\n",
       "      <th rowspan=\"3\" valign=\"top\">MARUTI SUZUKI</th>\n",
       "      <th>KIZASHI</th>\n",
       "      <th>Pune</th>\n",
       "      <th>Paid Service</th>\n",
       "      <td>1</td>\n",
       "      <td>0.000000</td>\n",
       "      <td>901.082222</td>\n",
       "    </tr>\n",
       "    <tr>\n",
       "      <th rowspan=\"2\" valign=\"top\">OMNI</th>\n",
       "      <th rowspan=\"2\" valign=\"top\">Pune</th>\n",
       "      <th>Paid Service</th>\n",
       "      <td>2</td>\n",
       "      <td>0.000000</td>\n",
       "      <td>2674.040000</td>\n",
       "    </tr>\n",
       "    <tr>\n",
       "      <th>Running Repairs</th>\n",
       "      <td>1</td>\n",
       "      <td>0.000000</td>\n",
       "      <td>321.365833</td>\n",
       "    </tr>\n",
       "    <tr>\n",
       "      <th rowspan=\"2\" valign=\"top\">10</th>\n",
       "      <th rowspan=\"2\" valign=\"top\">Retail</th>\n",
       "      <th rowspan=\"2\" valign=\"top\">GENERAL MOTORS</th>\n",
       "      <th rowspan=\"2\" valign=\"top\">OPTRA</th>\n",
       "      <th rowspan=\"2\" valign=\"top\">Mumbai</th>\n",
       "      <th>Paid Service</th>\n",
       "      <td>4</td>\n",
       "      <td>10505.720000</td>\n",
       "      <td>20.744222</td>\n",
       "    </tr>\n",
       "    <tr>\n",
       "      <th>Running Repairs</th>\n",
       "      <td>1</td>\n",
       "      <td>599.840000</td>\n",
       "      <td>3.071389</td>\n",
       "    </tr>\n",
       "  </tbody>\n",
       "</table>\n",
       "</div>"
      ],
      "text/plain": [
       "                                                                          Invoice No  \\\n",
       "Customer No. Cust Type Make           Model   Clean_City Order Type                    \n",
       "1            Retail    MARUTI SUZUKI  KIZASHI Pune       Paid Service              1   \n",
       "                                      OMNI    Pune       Paid Service              2   \n",
       "                                                         Running Repairs           1   \n",
       "10           Retail    GENERAL MOTORS OPTRA   Mumbai     Paid Service              4   \n",
       "                                                         Running Repairs           1   \n",
       "\n",
       "                                                                            Net value  \\\n",
       "Customer No. Cust Type Make           Model   Clean_City Order Type                     \n",
       "1            Retail    MARUTI SUZUKI  KIZASHI Pune       Paid Service        0.000000   \n",
       "                                      OMNI    Pune       Paid Service        0.000000   \n",
       "                                                         Running Repairs     0.000000   \n",
       "10           Retail    GENERAL MOTORS OPTRA   Mumbai     Paid Service    10505.720000   \n",
       "                                                         Running Repairs   599.840000   \n",
       "\n",
       "                                                                          Service_Time_Hrs  \n",
       "Customer No. Cust Type Make           Model   Clean_City Order Type                         \n",
       "1            Retail    MARUTI SUZUKI  KIZASHI Pune       Paid Service           901.082222  \n",
       "                                      OMNI    Pune       Paid Service          2674.040000  \n",
       "                                                         Running Repairs        321.365833  \n",
       "10           Retail    GENERAL MOTORS OPTRA   Mumbai     Paid Service            20.744222  \n",
       "                                                         Running Repairs          3.071389  "
      ]
     },
     "execution_count": 20,
     "metadata": {},
     "output_type": "execute_result"
    }
   ],
   "source": [
    "clusters.head()"
   ]
  },
  {
   "cell_type": "code",
   "execution_count": 21,
   "metadata": {},
   "outputs": [
    {
     "data": {
      "text/plain": [
       "Index(['Invoice No', 'Net value', 'Service_Time_Hrs'], dtype='object')"
      ]
     },
     "execution_count": 21,
     "metadata": {},
     "output_type": "execute_result"
    }
   ],
   "source": [
    "clusters.columns"
   ]
  },
  {
   "cell_type": "code",
   "execution_count": 22,
   "metadata": {},
   "outputs": [],
   "source": [
    "clusters.columns =['Total Invoices','Total Revenue','Total Servicing Hrs']"
   ]
  },
  {
   "cell_type": "code",
   "execution_count": 23,
   "metadata": {},
   "outputs": [],
   "source": [
    "clusters = clusters.reset_index()"
   ]
  },
  {
   "cell_type": "code",
   "execution_count": null,
   "metadata": {},
   "outputs": [
    {
     "data": {
      "text/plain": [
       "(310983, 9)"
      ]
     },
     "execution_count": 24,
     "metadata": {},
     "output_type": "execute_result"
    }
   ],
   "source": [
    "clusters.shape"
   ]
  },
  {
   "cell_type": "markdown",
   "metadata": {},
   "source": [
    "### Cluster Analysis"
   ]
  },
  {
   "cell_type": "markdown",
   "metadata": {},
   "source": [
    "#### Separating customers with zero revenue"
   ]
  },
  {
   "cell_type": "code",
   "execution_count": null,
   "metadata": {},
   "outputs": [],
   "source": [
    "zero_revenue = clusters[clusters['Total Revenue']<=0]"
   ]
  },
  {
   "cell_type": "code",
   "execution_count": null,
   "metadata": {},
   "outputs": [
    {
     "data": {
      "text/plain": [
       "(26327, 9)"
      ]
     },
     "execution_count": 26,
     "metadata": {},
     "output_type": "execute_result"
    }
   ],
   "source": [
    "zero_revenue.shape"
   ]
  },
  {
   "cell_type": "code",
   "execution_count": null,
   "metadata": {},
   "outputs": [],
   "source": [
    "zero_revenue['Clusters'] = 'Zero Revenue'"
   ]
  },
  {
   "cell_type": "code",
   "execution_count": null,
   "metadata": {},
   "outputs": [
    {
     "data": {
      "text/html": [
       "<div>\n",
       "<style scoped>\n",
       "    .dataframe tbody tr th:only-of-type {\n",
       "        vertical-align: middle;\n",
       "    }\n",
       "\n",
       "    .dataframe tbody tr th {\n",
       "        vertical-align: top;\n",
       "    }\n",
       "\n",
       "    .dataframe thead th {\n",
       "        text-align: right;\n",
       "    }\n",
       "</style>\n",
       "<table border=\"1\" class=\"dataframe\">\n",
       "  <thead>\n",
       "    <tr style=\"text-align: right;\">\n",
       "      <th></th>\n",
       "      <th>Customer No.</th>\n",
       "      <th>Cust Type</th>\n",
       "      <th>Make</th>\n",
       "      <th>Model</th>\n",
       "      <th>Clean_City</th>\n",
       "      <th>Order Type</th>\n",
       "      <th>Total Invoices</th>\n",
       "      <th>Total Revenue</th>\n",
       "      <th>Total Servicing Hrs</th>\n",
       "      <th>Clusters</th>\n",
       "    </tr>\n",
       "  </thead>\n",
       "  <tbody>\n",
       "    <tr>\n",
       "      <th>0</th>\n",
       "      <td>1</td>\n",
       "      <td>Retail</td>\n",
       "      <td>MARUTI SUZUKI</td>\n",
       "      <td>KIZASHI</td>\n",
       "      <td>Pune</td>\n",
       "      <td>Paid Service</td>\n",
       "      <td>1</td>\n",
       "      <td>0.000000</td>\n",
       "      <td>901.082222</td>\n",
       "      <td>Zero Revenue</td>\n",
       "    </tr>\n",
       "    <tr>\n",
       "      <th>1</th>\n",
       "      <td>1</td>\n",
       "      <td>Retail</td>\n",
       "      <td>MARUTI SUZUKI</td>\n",
       "      <td>OMNI</td>\n",
       "      <td>Pune</td>\n",
       "      <td>Paid Service</td>\n",
       "      <td>2</td>\n",
       "      <td>0.000000</td>\n",
       "      <td>2674.040000</td>\n",
       "      <td>Zero Revenue</td>\n",
       "    </tr>\n",
       "    <tr>\n",
       "      <th>2</th>\n",
       "      <td>1</td>\n",
       "      <td>Retail</td>\n",
       "      <td>MARUTI SUZUKI</td>\n",
       "      <td>OMNI</td>\n",
       "      <td>Pune</td>\n",
       "      <td>Running Repairs</td>\n",
       "      <td>1</td>\n",
       "      <td>0.000000</td>\n",
       "      <td>321.365833</td>\n",
       "      <td>Zero Revenue</td>\n",
       "    </tr>\n",
       "    <tr>\n",
       "      <th>10</th>\n",
       "      <td>10000</td>\n",
       "      <td>Retail</td>\n",
       "      <td>MARUTI SUZUKI</td>\n",
       "      <td>WAGONR</td>\n",
       "      <td>Hyderabad</td>\n",
       "      <td>SMC Redemption</td>\n",
       "      <td>2</td>\n",
       "      <td>0.000000</td>\n",
       "      <td>1.629167</td>\n",
       "      <td>Zero Revenue</td>\n",
       "    </tr>\n",
       "    <tr>\n",
       "      <th>16</th>\n",
       "      <td>100002</td>\n",
       "      <td>Retail</td>\n",
       "      <td>FORD</td>\n",
       "      <td>FIGO</td>\n",
       "      <td>Panchkula</td>\n",
       "      <td>Running Repairs</td>\n",
       "      <td>1</td>\n",
       "      <td>0.000000</td>\n",
       "      <td>0.113333</td>\n",
       "      <td>Zero Revenue</td>\n",
       "    </tr>\n",
       "  </tbody>\n",
       "</table>\n",
       "</div>"
      ],
      "text/plain": [
       "   Customer No. Cust Type           Make    Model Clean_City       Order Type  \\\n",
       "0             1    Retail  MARUTI SUZUKI  KIZASHI       Pune     Paid Service   \n",
       "1             1    Retail  MARUTI SUZUKI     OMNI       Pune     Paid Service   \n",
       "2             1    Retail  MARUTI SUZUKI     OMNI       Pune  Running Repairs   \n",
       "10        10000    Retail  MARUTI SUZUKI   WAGONR  Hyderabad   SMC Redemption   \n",
       "16       100002    Retail           FORD     FIGO  Panchkula  Running Repairs   \n",
       "\n",
       "    Total Invoices  Total Revenue  Total Servicing Hrs      Clusters  \n",
       "0                1       0.000000           901.082222  Zero Revenue  \n",
       "1                2       0.000000          2674.040000  Zero Revenue  \n",
       "2                1       0.000000           321.365833  Zero Revenue  \n",
       "10               2       0.000000             1.629167  Zero Revenue  \n",
       "16               1       0.000000             0.113333  Zero Revenue  "
      ]
     },
     "execution_count": 28,
     "metadata": {},
     "output_type": "execute_result"
    }
   ],
   "source": [
    "zero_revenue.head()"
   ]
  },
  {
   "cell_type": "markdown",
   "metadata": {},
   "source": [
    "#### Separating customers with non zero revenue"
   ]
  },
  {
   "cell_type": "code",
   "execution_count": null,
   "metadata": {},
   "outputs": [],
   "source": [
    "non_zero_revenue = clusters[clusters['Total Revenue']>0]"
   ]
  },
  {
   "cell_type": "code",
   "execution_count": null,
   "metadata": {},
   "outputs": [
    {
     "data": {
      "text/plain": [
       "(284656, 9)"
      ]
     },
     "execution_count": 30,
     "metadata": {},
     "output_type": "execute_result"
    }
   ],
   "source": [
    "non_zero_revenue.shape"
   ]
  },
  {
   "cell_type": "code",
   "execution_count": null,
   "metadata": {},
   "outputs": [
    {
     "data": {
      "text/html": [
       "<div>\n",
       "<style scoped>\n",
       "    .dataframe tbody tr th:only-of-type {\n",
       "        vertical-align: middle;\n",
       "    }\n",
       "\n",
       "    .dataframe tbody tr th {\n",
       "        vertical-align: top;\n",
       "    }\n",
       "\n",
       "    .dataframe thead th {\n",
       "        text-align: right;\n",
       "    }\n",
       "</style>\n",
       "<table border=\"1\" class=\"dataframe\">\n",
       "  <thead>\n",
       "    <tr style=\"text-align: right;\">\n",
       "      <th></th>\n",
       "      <th>Customer No.</th>\n",
       "      <th>Cust Type</th>\n",
       "      <th>Make</th>\n",
       "      <th>Model</th>\n",
       "      <th>Clean_City</th>\n",
       "      <th>Order Type</th>\n",
       "      <th>Total Invoices</th>\n",
       "      <th>Total Revenue</th>\n",
       "      <th>Total Servicing Hrs</th>\n",
       "    </tr>\n",
       "  </thead>\n",
       "  <tbody>\n",
       "    <tr>\n",
       "      <th>3</th>\n",
       "      <td>10</td>\n",
       "      <td>Retail</td>\n",
       "      <td>GENERAL MOTORS</td>\n",
       "      <td>OPTRA</td>\n",
       "      <td>Mumbai</td>\n",
       "      <td>Paid Service</td>\n",
       "      <td>4</td>\n",
       "      <td>10505.720000</td>\n",
       "      <td>20.744222</td>\n",
       "    </tr>\n",
       "    <tr>\n",
       "      <th>4</th>\n",
       "      <td>10</td>\n",
       "      <td>Retail</td>\n",
       "      <td>GENERAL MOTORS</td>\n",
       "      <td>OPTRA</td>\n",
       "      <td>Mumbai</td>\n",
       "      <td>Running Repairs</td>\n",
       "      <td>1</td>\n",
       "      <td>599.840000</td>\n",
       "      <td>3.071389</td>\n",
       "    </tr>\n",
       "    <tr>\n",
       "      <th>5</th>\n",
       "      <td>100</td>\n",
       "      <td>Retail</td>\n",
       "      <td>HONDA</td>\n",
       "      <td>CITY</td>\n",
       "      <td>Mumbai</td>\n",
       "      <td>Accidental</td>\n",
       "      <td>1</td>\n",
       "      <td>14167.070000</td>\n",
       "      <td>98.988333</td>\n",
       "    </tr>\n",
       "    <tr>\n",
       "      <th>6</th>\n",
       "      <td>100</td>\n",
       "      <td>Retail</td>\n",
       "      <td>HONDA</td>\n",
       "      <td>CITY</td>\n",
       "      <td>Mumbai</td>\n",
       "      <td>Paid Service</td>\n",
       "      <td>1</td>\n",
       "      <td>6632.670000</td>\n",
       "      <td>49.808333</td>\n",
       "    </tr>\n",
       "    <tr>\n",
       "      <th>7</th>\n",
       "      <td>1000</td>\n",
       "      <td>Retail</td>\n",
       "      <td>MARUTI SUZUKI</td>\n",
       "      <td>ALTO</td>\n",
       "      <td>Pune</td>\n",
       "      <td>Paid Service</td>\n",
       "      <td>4</td>\n",
       "      <td>7617.270000</td>\n",
       "      <td>5.224389</td>\n",
       "    </tr>\n",
       "  </tbody>\n",
       "</table>\n",
       "</div>"
      ],
      "text/plain": [
       "  Customer No. Cust Type            Make  Model Clean_City       Order Type  \\\n",
       "3           10    Retail  GENERAL MOTORS  OPTRA     Mumbai     Paid Service   \n",
       "4           10    Retail  GENERAL MOTORS  OPTRA     Mumbai  Running Repairs   \n",
       "5          100    Retail           HONDA   CITY     Mumbai       Accidental   \n",
       "6          100    Retail           HONDA   CITY     Mumbai     Paid Service   \n",
       "7         1000    Retail   MARUTI SUZUKI   ALTO       Pune     Paid Service   \n",
       "\n",
       "   Total Invoices  Total Revenue  Total Servicing Hrs  \n",
       "3               4   10505.720000            20.744222  \n",
       "4               1     599.840000             3.071389  \n",
       "5               1   14167.070000            98.988333  \n",
       "6               1    6632.670000            49.808333  \n",
       "7               4    7617.270000             5.224389  "
      ]
     },
     "execution_count": 31,
     "metadata": {},
     "output_type": "execute_result"
    }
   ],
   "source": [
    "non_zero_revenue.head()"
   ]
  },
  {
   "cell_type": "code",
   "execution_count": null,
   "metadata": {},
   "outputs": [
    {
     "name": "stdout",
     "output_type": "stream",
     "text": [
      "0.05 quantile :- 148.58\n",
      "0.25 quantile :- 696.8774999999998\n",
      "0.50 quantile :- 2600.5\n",
      "0.75 quantile :- 6875.282499999999\n",
      "0.95 quantile :- 25853.585\n",
      "minimum total revenue :- 0.01\n",
      "maximum total revenue :- 3852506.8100000084\n",
      "mean total revenue :- 6912.321603901306\n"
     ]
    }
   ],
   "source": [
    "print(\"0.05 quantile :-\",non_zero_revenue['Total Revenue'].quantile(0.05))\n",
    "print(\"0.25 quantile :-\",non_zero_revenue['Total Revenue'].quantile(0.25))\n",
    "print(\"0.50 quantile :-\",non_zero_revenue['Total Revenue'].quantile(0.50))\n",
    "print(\"0.75 quantile :-\",non_zero_revenue['Total Revenue'].quantile(0.75))\n",
    "print(\"0.95 quantile :-\",non_zero_revenue['Total Revenue'].quantile(0.95))\n",
    "print(\"minimum total revenue :-\",non_zero_revenue['Total Revenue'].min())\n",
    "print(\"maximum total revenue :-\",non_zero_revenue['Total Revenue'].max())\n",
    "print(\"mean total revenue :-\",non_zero_revenue['Total Revenue'].mean())"
   ]
  },
  {
   "cell_type": "markdown",
   "metadata": {},
   "source": [
    "#### Quantile Analysis of Total Revenue  is used to segment customers based on Revenue"
   ]
  },
  {
   "cell_type": "code",
   "execution_count": null,
   "metadata": {},
   "outputs": [],
   "source": [
    "# Low revenue customers (less than 0.50 quantile)\n",
    "low_rewarding = non_zero_revenue[(non_zero_revenue['Total Revenue']< non_zero_revenue['Total Revenue'].quantile(0.50))]\n",
    "\n",
    "# Medium revenue customers (between 0.50 to 0.75 quantile)\n",
    "medium_rewarding = non_zero_revenue[\n",
    "                            (non_zero_revenue['Total Revenue'] > non_zero_revenue['Total Revenue'].quantile(0.50)) & \n",
    "                            (non_zero_revenue['Total Revenue']< non_zero_revenue['Total Revenue'].quantile(0.75))\n",
    "                         ]\n",
    "\n",
    "# High revenue customers (moe than 0.95 quantile)\n",
    "highly_rewarding = non_zero_revenue[\n",
    "                        (non_zero_revenue['Total Revenue'] > non_zero_revenue['Total Revenue'].quantile(0.75))\n",
    "                       ]"
   ]
  },
  {
   "cell_type": "code",
   "execution_count": null,
   "metadata": {},
   "outputs": [
    {
     "name": "stdout",
     "output_type": "stream",
     "text": [
      "(142326, 9)\n",
      "(71163, 9)\n",
      "(71164, 9)\n"
     ]
    }
   ],
   "source": [
    "print(low_rewarding.shape)\n",
    "print(medium_rewarding.shape)\n",
    "print(highly_rewarding.shape)"
   ]
  },
  {
   "cell_type": "code",
   "execution_count": null,
   "metadata": {},
   "outputs": [],
   "source": [
    "# Naming the clusters\n",
    "low_rewarding['Clusters'] = 'Low Rewarding and Future Prospect'\n",
    "medium_rewarding['Clusters'] = 'Medium Rewarding and Satisfied'\n",
    "highly_rewarding['Clusters'] = 'Highly Rewarding and Loyal'"
   ]
  },
  {
   "cell_type": "code",
   "execution_count": null,
   "metadata": {},
   "outputs": [],
   "source": [
    "revenue_cluster = pd.concat([low_rewarding,medium_rewarding,highly_rewarding],axis=0)"
   ]
  },
  {
   "cell_type": "code",
   "execution_count": null,
   "metadata": {},
   "outputs": [
    {
     "data": {
      "text/html": [
       "<div>\n",
       "<style scoped>\n",
       "    .dataframe tbody tr th:only-of-type {\n",
       "        vertical-align: middle;\n",
       "    }\n",
       "\n",
       "    .dataframe tbody tr th {\n",
       "        vertical-align: top;\n",
       "    }\n",
       "\n",
       "    .dataframe thead th {\n",
       "        text-align: right;\n",
       "    }\n",
       "</style>\n",
       "<table border=\"1\" class=\"dataframe\">\n",
       "  <thead>\n",
       "    <tr style=\"text-align: right;\">\n",
       "      <th></th>\n",
       "      <th>Total Revenue</th>\n",
       "      <th>Total Servicing Hrs</th>\n",
       "      <th>Customer No.</th>\n",
       "    </tr>\n",
       "    <tr>\n",
       "      <th>Clusters</th>\n",
       "      <th></th>\n",
       "      <th></th>\n",
       "      <th></th>\n",
       "    </tr>\n",
       "  </thead>\n",
       "  <tbody>\n",
       "    <tr>\n",
       "      <th>Highly Rewarding and Loyal</th>\n",
       "      <td>21504.487682</td>\n",
       "      <td>176.953781</td>\n",
       "      <td>71164</td>\n",
       "    </tr>\n",
       "    <tr>\n",
       "      <th>Medium Rewarding and Satisfied</th>\n",
       "      <td>4312.884887</td>\n",
       "      <td>76.767076</td>\n",
       "      <td>71163</td>\n",
       "    </tr>\n",
       "    <tr>\n",
       "      <th>Low Rewarding and Future Prospect</th>\n",
       "      <td>915.945283</td>\n",
       "      <td>55.597661</td>\n",
       "      <td>142326</td>\n",
       "    </tr>\n",
       "  </tbody>\n",
       "</table>\n",
       "</div>"
      ],
      "text/plain": [
       "                                   Total Revenue  Total Servicing Hrs  \\\n",
       "Clusters                                                                \n",
       "Highly Rewarding and Loyal          21504.487682           176.953781   \n",
       "Medium Rewarding and Satisfied       4312.884887            76.767076   \n",
       "Low Rewarding and Future Prospect     915.945283            55.597661   \n",
       "\n",
       "                                   Customer No.  \n",
       "Clusters                                         \n",
       "Highly Rewarding and Loyal                71164  \n",
       "Medium Rewarding and Satisfied            71163  \n",
       "Low Rewarding and Future Prospect        142326  "
      ]
     },
     "execution_count": 37,
     "metadata": {},
     "output_type": "execute_result"
    }
   ],
   "source": [
    "revenue_cluster.groupby(['Clusters']).agg({'Total Revenue':'mean','Total Servicing Hrs':'mean','Customer No.':'count'}).sort_values('Total Revenue',ascending=False)"
   ]
  },
  {
   "cell_type": "code",
   "execution_count": null,
   "metadata": {},
   "outputs": [
    {
     "data": {
      "text/plain": [
       "<seaborn.axisgrid.FacetGrid at 0x21354585ba8>"
      ]
     },
     "execution_count": 38,
     "metadata": {},
     "output_type": "execute_result"
    }
   ],
   "source": [
    "import seaborn as sns\n",
    "sns.lmplot(data=revenue_cluster,x='Total Servicing Hrs', y='Total Revenue', hue='Clusters', fit_reg=False, legend=True, legend_out=True,height=5,aspect=2,scatter_kws={\"s\": 100})"
   ]
  },
  {
   "cell_type": "markdown",
   "metadata": {},
   "source": [
    "###  Segmenting Customers based on avg servicing time"
   ]
  },
  {
   "cell_type": "code",
   "execution_count": null,
   "metadata": {},
   "outputs": [
    {
     "name": "stdout",
     "output_type": "stream",
     "text": [
      "0.05 quantile :- 0.23055555555555557\n",
      "0.25 quantile :- 3.3830555555555555\n",
      "0.50 quantile :- 21.02954861111111\n",
      "0.75 quantile :- 72.82111111111112\n",
      "0.95 quantile :- 387.2446875\n",
      "mimimum servicing time in hrs :- 0.010277777777777778\n",
      "maximum servicing time in hrs :- 17453.070833333335\n",
      "mean servicing time in hrs :- 91.23086523167979\n"
     ]
    }
   ],
   "source": [
    "print(\"0.05 quantile :-\",non_zero_revenue['Total Servicing Hrs'].quantile(0.05))\n",
    "print(\"0.25 quantile :-\",non_zero_revenue['Total Servicing Hrs'].quantile(0.25))\n",
    "print(\"0.50 quantile :-\",non_zero_revenue['Total Servicing Hrs'].quantile(0.50))\n",
    "print(\"0.75 quantile :-\",non_zero_revenue['Total Servicing Hrs'].quantile(0.75))\n",
    "print(\"0.95 quantile :-\",non_zero_revenue['Total Servicing Hrs'].quantile(0.95))\n",
    "print(\"mimimum servicing time in hrs :-\",non_zero_revenue['Total Servicing Hrs'].min())\n",
    "print(\"maximum servicing time in hrs :-\",non_zero_revenue['Total Servicing Hrs'].max())\n",
    "print(\"mean servicing time in hrs :-\",non_zero_revenue['Total Servicing Hrs'].mean())"
   ]
  },
  {
   "cell_type": "markdown",
   "metadata": {},
   "source": [
    "### Quantile Analysis of Total Servicing Hrs is used for segmenting customer as per Service Time duration"
   ]
  },
  {
   "cell_type": "code",
   "execution_count": null,
   "metadata": {},
   "outputs": [],
   "source": [
    "# very rapid service (less than 0.50 quantile)\n",
    "very_rapid = non_zero_revenue[non_zero_revenue['Total Servicing Hrs']< non_zero_revenue['Total Servicing Hrs'].quantile(0.50)]\n",
    "\n",
    "# rapid service (between 0.50 to 0.75 quantile)\n",
    "rapid = non_zero_revenue[\n",
    "                (non_zero_revenue['Total Servicing Hrs']> non_zero_revenue['Total Servicing Hrs'].quantile(0.50)) & \n",
    "                (non_zero_revenue['Total Servicing Hrs']< non_zero_revenue['Total Servicing Hrs'].quantile(0.75))\n",
    "                ]\n",
    "\n",
    "# slow service (between 0.75 to 0.95 quantile)\n",
    "slow = non_zero_revenue[\n",
    "                (non_zero_revenue['Total Servicing Hrs'] > non_zero_revenue['Total Servicing Hrs'].quantile(0.75)) & \n",
    "                (non_zero_revenue['Total Servicing Hrs'] < non_zero_revenue['Total Servicing Hrs'].quantile(0.95))\n",
    "                ]\n",
    "\n",
    "# extremely slow service (more than 0.95 quantile)\n",
    "extremely_slow = non_zero_revenue[\n",
    "                        non_zero_revenue['Total Servicing Hrs'] > non_zero_revenue['Total Servicing Hrs'].quantile(0.95)\n",
    "                     ]\n"
   ]
  },
  {
   "cell_type": "code",
   "execution_count": null,
   "metadata": {},
   "outputs": [
    {
     "name": "stdout",
     "output_type": "stream",
     "text": [
      "(142328, 9)\n",
      "(71164, 9)\n",
      "(56931, 9)\n",
      "(14233, 9)\n"
     ]
    }
   ],
   "source": [
    "print(very_rapid.shape)\n",
    "print(rapid.shape)\n",
    "print(slow.shape)\n",
    "print(extremely_slow.shape)"
   ]
  },
  {
   "cell_type": "code",
   "execution_count": null,
   "metadata": {},
   "outputs": [],
   "source": [
    "very_rapid['Clusters'] = 'Very Rapid'\n",
    "rapid['Clusters'] = 'Rapid'\n",
    "slow['Clusters'] = 'Slow'\n",
    "extremely_slow['Clusters'] = 'Extremely Slow'"
   ]
  },
  {
   "cell_type": "code",
   "execution_count": null,
   "metadata": {},
   "outputs": [],
   "source": [
    "servicetime_cluster = pd.concat([very_rapid,rapid,slow,extremely_slow],axis=0)"
   ]
  },
  {
   "cell_type": "code",
   "execution_count": null,
   "metadata": {},
   "outputs": [
    {
     "data": {
      "text/html": [
       "<div>\n",
       "<style scoped>\n",
       "    .dataframe tbody tr th:only-of-type {\n",
       "        vertical-align: middle;\n",
       "    }\n",
       "\n",
       "    .dataframe tbody tr th {\n",
       "        vertical-align: top;\n",
       "    }\n",
       "\n",
       "    .dataframe thead th {\n",
       "        text-align: right;\n",
       "    }\n",
       "</style>\n",
       "<table border=\"1\" class=\"dataframe\">\n",
       "  <thead>\n",
       "    <tr style=\"text-align: right;\">\n",
       "      <th></th>\n",
       "      <th>Total Revenue</th>\n",
       "      <th>Total Servicing Hrs</th>\n",
       "      <th>Customer No.</th>\n",
       "    </tr>\n",
       "    <tr>\n",
       "      <th>Clusters</th>\n",
       "      <th></th>\n",
       "      <th></th>\n",
       "      <th></th>\n",
       "    </tr>\n",
       "  </thead>\n",
       "  <tbody>\n",
       "    <tr>\n",
       "      <th>Very Rapid</th>\n",
       "      <td>2665.532217</td>\n",
       "      <td>4.685069</td>\n",
       "      <td>142328</td>\n",
       "    </tr>\n",
       "    <tr>\n",
       "      <th>Rapid</th>\n",
       "      <td>6793.334705</td>\n",
       "      <td>39.476048</td>\n",
       "      <td>71164</td>\n",
       "    </tr>\n",
       "    <tr>\n",
       "      <th>Slow</th>\n",
       "      <td>12746.639368</td>\n",
       "      <td>164.518031</td>\n",
       "      <td>56931</td>\n",
       "    </tr>\n",
       "    <tr>\n",
       "      <th>Extremely Slow</th>\n",
       "      <td>26637.683708</td>\n",
       "      <td>922.303598</td>\n",
       "      <td>14233</td>\n",
       "    </tr>\n",
       "  </tbody>\n",
       "</table>\n",
       "</div>"
      ],
      "text/plain": [
       "                Total Revenue  Total Servicing Hrs  Customer No.\n",
       "Clusters                                                        \n",
       "Very Rapid        2665.532217             4.685069        142328\n",
       "Rapid             6793.334705            39.476048         71164\n",
       "Slow             12746.639368           164.518031         56931\n",
       "Extremely Slow   26637.683708           922.303598         14233"
      ]
     },
     "execution_count": 44,
     "metadata": {},
     "output_type": "execute_result"
    }
   ],
   "source": [
    "servicetime_cluster.groupby(['Clusters']).agg({'Total Revenue':'mean','Total Servicing Hrs':'mean','Customer No.':'count'}).sort_values('Total Servicing Hrs',ascending=True)"
   ]
  },
  {
   "cell_type": "code",
   "execution_count": null,
   "metadata": {},
   "outputs": [
    {
     "data": {
      "text/plain": [
       "<seaborn.axisgrid.FacetGrid at 0x2134a21a048>"
      ]
     },
     "execution_count": 45,
     "metadata": {},
     "output_type": "execute_result"
    },
    {
     "data": {
      "image/png": "[encoded data removed]",
      "text/plain": [
       "<Figure size 833.125x360 with 1 Axes>"
      ]
     },
     "metadata": {
      "needs_background": "light"
     },
     "output_type": "display_data"
    }
   ],
   "source": [
    "import seaborn as sns\n",
    "sns.lmplot(data=servicetime_cluster,x='Total Servicing Hrs', y='Total Revenue', hue='Clusters', fit_reg=False, legend=True, legend_out=True,height=5,aspect=2,scatter_kws={\"s\": 100})"
   ]
  },
  {
   "cell_type": "markdown",
   "metadata": {},
   "source": [
    "### K-Means Clustering"
   ]
  },
  {
   "cell_type": "code",
   "execution_count": null,
   "metadata": {},
   "outputs": [],
   "source": [
    "final_cluster = non_zero_revenue"
   ]
  },
  {
   "cell_type": "code",
   "execution_count": null,
   "metadata": {},
   "outputs": [
    {
     "data": {
      "text/plain": [
       "(284656, 9)"
      ]
     },
     "execution_count": 47,
     "metadata": {},
     "output_type": "execute_result"
    }
   ],
   "source": [
    "final_cluster.shape"
   ]
  },
  {
   "cell_type": "code",
   "execution_count": null,
   "metadata": {},
   "outputs": [
    {
     "data": {
      "text/html": [
       "<div>\n",
       "<style scoped>\n",
       "    .dataframe tbody tr th:only-of-type {\n",
       "        vertical-align: middle;\n",
       "    }\n",
       "\n",
       "    .dataframe tbody tr th {\n",
       "        vertical-align: top;\n",
       "    }\n",
       "\n",
       "    .dataframe thead th {\n",
       "        text-align: right;\n",
       "    }\n",
       "</style>\n",
       "<table border=\"1\" class=\"dataframe\">\n",
       "  <thead>\n",
       "    <tr style=\"text-align: right;\">\n",
       "      <th></th>\n",
       "      <th>Total Invoices</th>\n",
       "      <th>Total Revenue</th>\n",
       "      <th>Total Servicing Hrs</th>\n",
       "    </tr>\n",
       "  </thead>\n",
       "  <tbody>\n",
       "    <tr>\n",
       "      <th>count</th>\n",
       "      <td>284656.000000</td>\n",
       "      <td>284656.000000</td>\n",
       "      <td>284656.000000</td>\n",
       "    </tr>\n",
       "    <tr>\n",
       "      <th>mean</th>\n",
       "      <td>1.440328</td>\n",
       "      <td>6912.321604</td>\n",
       "      <td>91.230865</td>\n",
       "    </tr>\n",
       "    <tr>\n",
       "      <th>std</th>\n",
       "      <td>2.679905</td>\n",
       "      <td>21860.715802</td>\n",
       "      <td>279.271556</td>\n",
       "    </tr>\n",
       "    <tr>\n",
       "      <th>min</th>\n",
       "      <td>1.000000</td>\n",
       "      <td>0.010000</td>\n",
       "      <td>0.010278</td>\n",
       "    </tr>\n",
       "    <tr>\n",
       "      <th>25%</th>\n",
       "      <td>1.000000</td>\n",
       "      <td>696.877500</td>\n",
       "      <td>3.383056</td>\n",
       "    </tr>\n",
       "    <tr>\n",
       "      <th>50%</th>\n",
       "      <td>1.000000</td>\n",
       "      <td>2600.500000</td>\n",
       "      <td>21.029549</td>\n",
       "    </tr>\n",
       "    <tr>\n",
       "      <th>75%</th>\n",
       "      <td>1.000000</td>\n",
       "      <td>6875.282500</td>\n",
       "      <td>72.821111</td>\n",
       "    </tr>\n",
       "    <tr>\n",
       "      <th>max</th>\n",
       "      <td>925.000000</td>\n",
       "      <td>3852506.810000</td>\n",
       "      <td>17453.070833</td>\n",
       "    </tr>\n",
       "  </tbody>\n",
       "</table>\n",
       "</div>"
      ],
      "text/plain": [
       "       Total Invoices  Total Revenue  Total Servicing Hrs\n",
       "count   284656.000000  284656.000000        284656.000000\n",
       "mean         1.440328    6912.321604            91.230865\n",
       "std          2.679905   21860.715802           279.271556\n",
       "min          1.000000       0.010000             0.010278\n",
       "25%          1.000000     696.877500             3.383056\n",
       "50%          1.000000    2600.500000            21.029549\n",
       "75%          1.000000    6875.282500            72.821111\n",
       "max        925.000000 3852506.810000         17453.070833"
      ]
     },
     "execution_count": 48,
     "metadata": {},
     "output_type": "execute_result"
    }
   ],
   "source": [
    "final_cluster.describe()"
   ]
  },
  {
   "cell_type": "code",
   "execution_count": null,
   "metadata": {},
   "outputs": [
    {
     "data": {
      "text/html": [
       "<div>\n",
       "<style scoped>\n",
       "    .dataframe tbody tr th:only-of-type {\n",
       "        vertical-align: middle;\n",
       "    }\n",
       "\n",
       "    .dataframe tbody tr th {\n",
       "        vertical-align: top;\n",
       "    }\n",
       "\n",
       "    .dataframe thead th {\n",
       "        text-align: right;\n",
       "    }\n",
       "</style>\n",
       "<table border=\"1\" class=\"dataframe\">\n",
       "  <thead>\n",
       "    <tr style=\"text-align: right;\">\n",
       "      <th></th>\n",
       "      <th>Customer No.</th>\n",
       "      <th>Cust Type</th>\n",
       "      <th>Make</th>\n",
       "      <th>Model</th>\n",
       "      <th>Clean_City</th>\n",
       "      <th>Order Type</th>\n",
       "      <th>Total Invoices</th>\n",
       "      <th>Total Revenue</th>\n",
       "      <th>Total Servicing Hrs</th>\n",
       "    </tr>\n",
       "  </thead>\n",
       "  <tbody>\n",
       "    <tr>\n",
       "      <th>3</th>\n",
       "      <td>10</td>\n",
       "      <td>Retail</td>\n",
       "      <td>GENERAL MOTORS</td>\n",
       "      <td>OPTRA</td>\n",
       "      <td>Mumbai</td>\n",
       "      <td>Paid Service</td>\n",
       "      <td>4</td>\n",
       "      <td>10505.720000</td>\n",
       "      <td>20.744222</td>\n",
       "    </tr>\n",
       "    <tr>\n",
       "      <th>4</th>\n",
       "      <td>10</td>\n",
       "      <td>Retail</td>\n",
       "      <td>GENERAL MOTORS</td>\n",
       "      <td>OPTRA</td>\n",
       "      <td>Mumbai</td>\n",
       "      <td>Running Repairs</td>\n",
       "      <td>1</td>\n",
       "      <td>599.840000</td>\n",
       "      <td>3.071389</td>\n",
       "    </tr>\n",
       "    <tr>\n",
       "      <th>5</th>\n",
       "      <td>100</td>\n",
       "      <td>Retail</td>\n",
       "      <td>HONDA</td>\n",
       "      <td>CITY</td>\n",
       "      <td>Mumbai</td>\n",
       "      <td>Accidental</td>\n",
       "      <td>1</td>\n",
       "      <td>14167.070000</td>\n",
       "      <td>98.988333</td>\n",
       "    </tr>\n",
       "    <tr>\n",
       "      <th>6</th>\n",
       "      <td>100</td>\n",
       "      <td>Retail</td>\n",
       "      <td>HONDA</td>\n",
       "      <td>CITY</td>\n",
       "      <td>Mumbai</td>\n",
       "      <td>Paid Service</td>\n",
       "      <td>1</td>\n",
       "      <td>6632.670000</td>\n",
       "      <td>49.808333</td>\n",
       "    </tr>\n",
       "    <tr>\n",
       "      <th>7</th>\n",
       "      <td>1000</td>\n",
       "      <td>Retail</td>\n",
       "      <td>MARUTI SUZUKI</td>\n",
       "      <td>ALTO</td>\n",
       "      <td>Pune</td>\n",
       "      <td>Paid Service</td>\n",
       "      <td>4</td>\n",
       "      <td>7617.270000</td>\n",
       "      <td>5.224389</td>\n",
       "    </tr>\n",
       "  </tbody>\n",
       "</table>\n",
       "</div>"
      ],
      "text/plain": [
       "  Customer No. Cust Type            Make  Model Clean_City       Order Type  \\\n",
       "3           10    Retail  GENERAL MOTORS  OPTRA     Mumbai     Paid Service   \n",
       "4           10    Retail  GENERAL MOTORS  OPTRA     Mumbai  Running Repairs   \n",
       "5          100    Retail           HONDA   CITY     Mumbai       Accidental   \n",
       "6          100    Retail           HONDA   CITY     Mumbai     Paid Service   \n",
       "7         1000    Retail   MARUTI SUZUKI   ALTO       Pune     Paid Service   \n",
       "\n",
       "   Total Invoices  Total Revenue  Total Servicing Hrs  \n",
       "3               4   10505.720000            20.744222  \n",
       "4               1     599.840000             3.071389  \n",
       "5               1   14167.070000            98.988333  \n",
       "6               1    6632.670000            49.808333  \n",
       "7               4    7617.270000             5.224389  "
      ]
     },
     "execution_count": 49,
     "metadata": {},
     "output_type": "execute_result"
    }
   ],
   "source": [
    "final_cluster.head()"
   ]
  },
  {
   "cell_type": "markdown",
   "metadata": {},
   "source": [
    "#### Label Encoding Categorical Columns"
   ]
  },
  {
   "cell_type": "code",
   "execution_count": null,
   "metadata": {},
   "outputs": [],
   "source": [
    "X = final_cluster.drop(['Customer No.'],axis=1)"
   ]
  },
  {
   "cell_type": "code",
   "execution_count": null,
   "metadata": {},
   "outputs": [],
   "source": [
    "le=LabelEncoder()\n",
    "X[\"Make\"]=le.fit_transform(X[\"Make\"])\n",
    "X[\"Model\"]=le.fit_transform(X[\"Model\"])\n",
    "X[\"Clean_City\"]=le.fit_transform(X[\"Clean_City\"])\n",
    "X[\"Cust Type\"]=le.fit_transform(X[\"Cust Type\"])\n",
    "X[\"Order Type\"]=le.fit_transform(X[\"Order Type\"])"
   ]
  },
  {
   "cell_type": "code",
   "execution_count": null,
   "metadata": {},
   "outputs": [
    {
     "data": {
      "text/html": [
       "<div>\n",
       "<style scoped>\n",
       "    .dataframe tbody tr th:only-of-type {\n",
       "        vertical-align: middle;\n",
       "    }\n",
       "\n",
       "    .dataframe tbody tr th {\n",
       "        vertical-align: top;\n",
       "    }\n",
       "\n",
       "    .dataframe thead th {\n",
       "        text-align: right;\n",
       "    }\n",
       "</style>\n",
       "<table border=\"1\" class=\"dataframe\">\n",
       "  <thead>\n",
       "    <tr style=\"text-align: right;\">\n",
       "      <th></th>\n",
       "      <th>Cust Type</th>\n",
       "      <th>Make</th>\n",
       "      <th>Model</th>\n",
       "      <th>Clean_City</th>\n",
       "      <th>Order Type</th>\n",
       "      <th>Total Invoices</th>\n",
       "      <th>Total Revenue</th>\n",
       "      <th>Total Servicing Hrs</th>\n",
       "    </tr>\n",
       "  </thead>\n",
       "  <tbody>\n",
       "    <tr>\n",
       "      <th>3</th>\n",
       "      <td>6</td>\n",
       "      <td>6</td>\n",
       "      <td>146</td>\n",
       "      <td>285</td>\n",
       "      <td>2</td>\n",
       "      <td>4</td>\n",
       "      <td>10505.720000</td>\n",
       "      <td>20.744222</td>\n",
       "    </tr>\n",
       "    <tr>\n",
       "      <th>4</th>\n",
       "      <td>6</td>\n",
       "      <td>6</td>\n",
       "      <td>146</td>\n",
       "      <td>285</td>\n",
       "      <td>4</td>\n",
       "      <td>1</td>\n",
       "      <td>599.840000</td>\n",
       "      <td>3.071389</td>\n",
       "    </tr>\n",
       "    <tr>\n",
       "      <th>5</th>\n",
       "      <td>6</td>\n",
       "      <td>8</td>\n",
       "      <td>50</td>\n",
       "      <td>285</td>\n",
       "      <td>0</td>\n",
       "      <td>1</td>\n",
       "      <td>14167.070000</td>\n",
       "      <td>98.988333</td>\n",
       "    </tr>\n",
       "    <tr>\n",
       "      <th>6</th>\n",
       "      <td>6</td>\n",
       "      <td>8</td>\n",
       "      <td>50</td>\n",
       "      <td>285</td>\n",
       "      <td>2</td>\n",
       "      <td>1</td>\n",
       "      <td>6632.670000</td>\n",
       "      <td>49.808333</td>\n",
       "    </tr>\n",
       "    <tr>\n",
       "      <th>7</th>\n",
       "      <td>6</td>\n",
       "      <td>13</td>\n",
       "      <td>16</td>\n",
       "      <td>339</td>\n",
       "      <td>2</td>\n",
       "      <td>4</td>\n",
       "      <td>7617.270000</td>\n",
       "      <td>5.224389</td>\n",
       "    </tr>\n",
       "  </tbody>\n",
       "</table>\n",
       "</div>"
      ],
      "text/plain": [
       "   Cust Type  Make  Model  Clean_City  Order Type  Total Invoices  \\\n",
       "3          6     6    146         285           2               4   \n",
       "4          6     6    146         285           4               1   \n",
       "5          6     8     50         285           0               1   \n",
       "6          6     8     50         285           2               1   \n",
       "7          6    13     16         339           2               4   \n",
       "\n",
       "   Total Revenue  Total Servicing Hrs  \n",
       "3   10505.720000            20.744222  \n",
       "4     599.840000             3.071389  \n",
       "5   14167.070000            98.988333  \n",
       "6    6632.670000            49.808333  \n",
       "7    7617.270000             5.224389  "
      ]
     },
     "execution_count": 52,
     "metadata": {},
     "output_type": "execute_result"
    }
   ],
   "source": [
    "X.head()"
   ]
  },
  {
   "cell_type": "markdown",
   "metadata": {},
   "source": [
    "#### Scaling the features"
   ]
  },
  {
   "cell_type": "code",
   "execution_count": null,
   "metadata": {},
   "outputs": [],
   "source": [
    "ss = StandardScaler()\n",
    "X=ss.fit_transform(X)"
   ]
  },
  {
   "cell_type": "code",
   "execution_count": null,
   "metadata": {},
   "outputs": [
    {
     "data": {
      "text/html": [
       "<div>\n",
       "<style scoped>\n",
       "    .dataframe tbody tr th:only-of-type {\n",
       "        vertical-align: middle;\n",
       "    }\n",
       "\n",
       "    .dataframe tbody tr th {\n",
       "        vertical-align: top;\n",
       "    }\n",
       "\n",
       "    .dataframe thead th {\n",
       "        text-align: right;\n",
       "    }\n",
       "</style>\n",
       "<table border=\"1\" class=\"dataframe\">\n",
       "  <thead>\n",
       "    <tr style=\"text-align: right;\">\n",
       "      <th></th>\n",
       "      <th>Cust Type</th>\n",
       "      <th>Make</th>\n",
       "      <th>Model</th>\n",
       "      <th>Clean_City</th>\n",
       "      <th>Order Type</th>\n",
       "      <th>Total Invoices</th>\n",
       "      <th>Total Revenue</th>\n",
       "      <th>Total Servicing Hrs</th>\n",
       "    </tr>\n",
       "  </thead>\n",
       "  <tbody>\n",
       "    <tr>\n",
       "      <th>0</th>\n",
       "      <td>0.040313</td>\n",
       "      <td>-1.221489</td>\n",
       "      <td>0.210503</td>\n",
       "      <td>0.349681</td>\n",
       "      <td>-0.566148</td>\n",
       "      <td>0.955137</td>\n",
       "      <td>0.164377</td>\n",
       "      <td>-0.252395</td>\n",
       "    </tr>\n",
       "    <tr>\n",
       "      <th>1</th>\n",
       "      <td>0.040313</td>\n",
       "      <td>-1.221489</td>\n",
       "      <td>0.210503</td>\n",
       "      <td>0.349681</td>\n",
       "      <td>0.763544</td>\n",
       "      <td>-0.164308</td>\n",
       "      <td>-0.288760</td>\n",
       "      <td>-0.315677</td>\n",
       "    </tr>\n",
       "    <tr>\n",
       "      <th>2</th>\n",
       "      <td>0.040313</td>\n",
       "      <td>-0.883150</td>\n",
       "      <td>-1.111337</td>\n",
       "      <td>0.349681</td>\n",
       "      <td>-1.895840</td>\n",
       "      <td>-0.164308</td>\n",
       "      <td>0.331863</td>\n",
       "      <td>0.027778</td>\n",
       "    </tr>\n",
       "    <tr>\n",
       "      <th>3</th>\n",
       "      <td>0.040313</td>\n",
       "      <td>-0.883150</td>\n",
       "      <td>-1.111337</td>\n",
       "      <td>0.349681</td>\n",
       "      <td>-0.566148</td>\n",
       "      <td>-0.164308</td>\n",
       "      <td>-0.012792</td>\n",
       "      <td>-0.148324</td>\n",
       "    </tr>\n",
       "    <tr>\n",
       "      <th>4</th>\n",
       "      <td>0.040313</td>\n",
       "      <td>-0.037302</td>\n",
       "      <td>-1.579489</td>\n",
       "      <td>0.762621</td>\n",
       "      <td>-0.566148</td>\n",
       "      <td>0.955137</td>\n",
       "      <td>0.032247</td>\n",
       "      <td>-0.307968</td>\n",
       "    </tr>\n",
       "  </tbody>\n",
       "</table>\n",
       "</div>"
      ],
      "text/plain": [
       "   Cust Type      Make     Model  Clean_City  Order Type  Total Invoices  \\\n",
       "0   0.040313 -1.221489  0.210503    0.349681   -0.566148        0.955137   \n",
       "1   0.040313 -1.221489  0.210503    0.349681    0.763544       -0.164308   \n",
       "2   0.040313 -0.883150 -1.111337    0.349681   -1.895840       -0.164308   \n",
       "3   0.040313 -0.883150 -1.111337    0.349681   -0.566148       -0.164308   \n",
       "4   0.040313 -0.037302 -1.579489    0.762621   -0.566148        0.955137   \n",
       "\n",
       "   Total Revenue  Total Servicing Hrs  \n",
       "0       0.164377            -0.252395  \n",
       "1      -0.288760            -0.315677  \n",
       "2       0.331863             0.027778  \n",
       "3      -0.012792            -0.148324  \n",
       "4       0.032247            -0.307968  "
      ]
     },
     "execution_count": 54,
     "metadata": {},
     "output_type": "execute_result"
    }
   ],
   "source": [
    "final_scaled_df = pd.DataFrame(X)\n",
    "final_scaled_df.columns = ['Cust Type','Make','Model','Clean_City','Order Type','Total Invoices','Total Revenue','Total Servicing Hrs']\n",
    "final_scaled_df.head()"
   ]
  },
  {
   "cell_type": "markdown",
   "metadata": {},
   "source": [
    "#### Calculating wcss score using elbow method"
   ]
  },
  {
   "cell_type": "code",
   "execution_count": null,
   "metadata": {},
   "outputs": [],
   "source": [
    "wcss=[]\n",
    "for i in range(2,11):\n",
    "    clf=KMeans(n_clusters=i,random_state=42,init='k-means++')\n",
    "    clf.fit(X)\n",
    "    wcss.append(clf.inertia_)"
   ]
  },
  {
   "cell_type": "code",
   "execution_count": null,
   "metadata": {},
   "outputs": [
    {
     "data": {
      "image/png": "[encoded data removed]",
      "text/plain": [
       "<Figure size 432x288 with 1 Axes>"
      ]
     },
     "metadata": {
      "needs_background": "light"
     },
     "output_type": "display_data"
    }
   ],
   "source": [
    "import matplotlib.pyplot as plt\n",
    "x=np.arange(2,11)\n",
    "plt.plot(x,wcss)\n",
    "plt.scatter(x,wcss)\n",
    "plt.ylabel(\"Within Cluster Sum of Squares (WCSS)\")\n",
    "plt.xlabel(\"Number of Clusters\");"
   ]
  },
  {
   "cell_type": "markdown",
   "metadata": {},
   "source": [
    "### Calculating silhoutte score"
   ]
  },
  {
   "cell_type": "code",
   "execution_count": null,
   "metadata": {},
   "outputs": [],
   "source": [
    "sil_score=[]\n",
    "for j in range(2,11):\n",
    "    kmeans=KMeans(n_clusters=j,init='k-means++',random_state=42)\n",
    "    kmeans.fit(X)\n",
    "    labels=kmeans.labels_\n",
    "    centroids=kmeans.cluster_centers_\n",
    "    sil_score.append(silhouette_score(X, labels, metric='euclidean'))"
   ]
  },
  {
   "cell_type": "code",
   "execution_count": null,
   "metadata": {},
   "outputs": [],
   "source": [
    "x=np.arange(2,11)\n",
    "plt.plot(x,sil_score)\n",
    "plt.scatter(x,sil_score)\n",
    "plt.xlabel(\"Number of Clusters\")\n",
    "plt.ylabel(\"Silhouette Score\")"
   ]
  },
  {
   "cell_type": "code",
   "execution_count": null,
   "metadata": {},
   "outputs": [],
   "source": [
    "clf_final=KMeans(n_clusters=6,random_state=42,init='k-means++')"
   ]
  },
  {
   "cell_type": "code",
   "execution_count": null,
   "metadata": {},
   "outputs": [],
   "source": [
    "clf_final.fit(X)"
   ]
  },
  {
   "cell_type": "code",
   "execution_count": null,
   "metadata": {},
   "outputs": [],
   "source": [
    "final_cluster[\"Clusters\"]=clf_final.predict(X)"
   ]
  },
  {
   "cell_type": "code",
   "execution_count": null,
   "metadata": {},
   "outputs": [],
   "source": [
    "final_cluster.head()"
   ]
  },
  {
   "cell_type": "code",
   "execution_count": null,
   "metadata": {},
   "outputs": [],
   "source": [
    "final_cluster.to_csv('Clustering_Final.csv')"
   ]
  },
  {
   "cell_type": "code",
   "execution_count": null,
   "metadata": {},
   "outputs": [],
   "source": [
    "cluster_representation = final_cluster.groupby([\"Clusters\",\"Cust Type\"]).agg({\"Total Revenue\":\"mean\",\"Total Servicing Hrs\":'mean',\"Customer No.\":\"count\"}).sort_values('Total Revenue')"
   ]
  },
  {
   "cell_type": "code",
   "execution_count": null,
   "metadata": {},
   "outputs": [],
   "source": [
    "final_cluster.groupby([\"Clusters\",\"Order Type\"]).agg({\"Total Revenue\":\"mean\",\"Total Servicing Hrs\":'mean',\"Customer No.\":\"count\"})"
   ]
  },
  {
   "cell_type": "code",
   "execution_count": null,
   "metadata": {},
   "outputs": [],
   "source": [
    "cluster_representation.columns = ['Avg revenue','Avg Servicing Hrs','Customer Count']"
   ]
  },
  {
   "cell_type": "code",
   "execution_count": null,
   "metadata": {},
   "outputs": [],
   "source": [
    "cluster_representation = cluster_representation.reset_index()"
   ]
  },
  {
   "cell_type": "code",
   "execution_count": null,
   "metadata": {},
   "outputs": [],
   "source": [
    "cluster_representation.sort_values(by='Clusters')"
   ]
  },
  {
   "cell_type": "code",
   "execution_count": null,
   "metadata": {},
   "outputs": [],
   "source": [
    "cluster_representation.to_csv('Clustering_Representation.csv')"
   ]
  },
  {
   "cell_type": "code",
   "execution_count": null,
   "metadata": {},
   "outputs": [],
   "source": [
    "sns.lmplot(data=final_cluster,x='Total Servicing Hrs', y='Total Revenue', hue='Clusters', fit_reg=False, legend=True, legend_out=True,size=5,aspect=2,scatter_kws={\"s\": 100})"
   ]
  },
  {
   "cell_type": "code",
   "execution_count": null,
   "metadata": {},
   "outputs": [],
   "source": []
  }
 ],
 "metadata": {
  "kernelspec": {
   "display_name": "Python 3",
   "language": "python",
   "name": "python3"
  },
  "language_info": {
   "codemirror_mode": {
    "name": "ipython",
    "version": 3
   },
   "file_extension": ".py",
   "mimetype": "text/x-python",
   "name": "python",
   "nbconvert_exporter": "python",
   "pygments_lexer": "ipython3",
   "version": "3.7.3"
  }
 },
 "nbformat": 4,
 "nbformat_minor": 2
}
