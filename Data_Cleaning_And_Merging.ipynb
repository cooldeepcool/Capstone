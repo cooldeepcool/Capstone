{
 "cells": [
  {
   "cell_type": "code",
   "execution_count": 38,
   "metadata": {},
   "outputs": [],
   "source": [
    "import numpy as np\n",
    "import pandas as pd\n",
    "pd.set_option('display.max_columns', None)\n",
    "pd.set_option('display.max_rows',50)\n"
   ]
  },
  {
   "cell_type": "code",
   "execution_count": 39,
   "metadata": {},
   "outputs": [
    {
     "name": "stdout",
     "output_type": "stream",
     "text": [
      "Requirement already satisfied: pgeocode in c:\\users\\kuldeep\\anaconda3\\lib\\site-packages (0.2.1)\n",
      "Requirement already satisfied: pandas in c:\\users\\kuldeep\\anaconda3\\lib\\site-packages (from pgeocode) (0.24.2)\n",
      "Requirement already satisfied: numpy in c:\\users\\kuldeep\\anaconda3\\lib\\site-packages (from pgeocode) (1.16.2)\n",
      "Requirement already satisfied: requests in c:\\users\\kuldeep\\anaconda3\\lib\\site-packages (from pgeocode) (2.21.0)\n",
      "Requirement already satisfied: python-dateutil>=2.5.0 in c:\\users\\kuldeep\\anaconda3\\lib\\site-packages (from pandas->pgeocode) (2.8.0)\n",
      "Requirement already satisfied: pytz>=2011k in c:\\users\\kuldeep\\anaconda3\\lib\\site-packages (from pandas->pgeocode) (2018.9)\n",
      "Requirement already satisfied: urllib3<1.25,>=1.21.1 in c:\\users\\kuldeep\\anaconda3\\lib\\site-packages (from requests->pgeocode) (1.24.1)\n",
      "Requirement already satisfied: chardet<3.1.0,>=3.0.2 in c:\\users\\kuldeep\\anaconda3\\lib\\site-packages (from requests->pgeocode) (3.0.4)\n",
      "Requirement already satisfied: idna<2.9,>=2.5 in c:\\users\\kuldeep\\anaconda3\\lib\\site-packages (from requests->pgeocode) (2.8)\n",
      "Requirement already satisfied: certifi>=2017.4.17 in c:\\users\\kuldeep\\anaconda3\\lib\\site-packages (from requests->pgeocode) (2019.3.9)\n",
      "Requirement already satisfied: six>=1.5 in c:\\users\\kuldeep\\anaconda3\\lib\\site-packages (from python-dateutil>=2.5.0->pandas->pgeocode) (1.12.0)\n"
     ]
    },
    {
     "name": "stderr",
     "output_type": "stream",
     "text": [
      "WARNING: You are using pip version 20.0.2; however, version 20.2.2 is available.\n",
      "You should consider upgrading via the 'c:\\users\\kuldeep\\anaconda3\\python.exe -m pip install --upgrade pip' command.\n"
     ]
    }
   ],
   "source": [
    "!pip install pgeocode\n",
    "import pgeocode\n",
    "nomi = pgeocode.Nominatim('IN')\n",
    "import warnings\n",
    "warnings.simplefilter('ignore')"
   ]
  },
  {
   "cell_type": "code",
   "execution_count": 40,
   "metadata": {},
   "outputs": [
    {
     "name": "stdout",
     "output_type": "stream",
     "text": [
      " Volume in drive C is OS\n",
      " Volume Serial Number is 1455-5943\n",
      "\n",
      " Directory of C:\\Users\\Kuldeep\\Capstone Project\n",
      "\n",
      "23-08-2020  12:56    <DIR>          .\n",
      "23-08-2020  12:56    <DIR>          ..\n",
      "23-08-2020  12:40    <DIR>          .ipynb_checkpoints\n",
      "23-08-2020  12:56            51,861 Data_Cleaning_And_Merging.ipynb\n",
      "               1 File(s)         51,861 bytes\n",
      "               3 Dir(s)  1,046,356,398,080 bytes free\n"
     ]
    }
   ],
   "source": [
    "ls"
   ]
  },
  {
   "cell_type": "code",
   "execution_count": 41,
   "metadata": {},
   "outputs": [],
   "source": [
    "invoice_data = pd.read_csv('E:\\CodeChef\\Capstone Project\\Input_DataSet\\Final_invoice.csv')\n",
    "customer_data = pd.read_excel('E:\\CodeChef\\Capstone Project\\Input_DataSet\\Customer_Data.xlsx')"
   ]
  },
  {
   "cell_type": "code",
   "execution_count": 42,
   "metadata": {},
   "outputs": [
    {
     "name": "stdout",
     "output_type": "stream",
     "text": [
      "invoice data shape (492314, 59)\n",
      "customer data shape (555338, 9)\n"
     ]
    }
   ],
   "source": [
    "print(\"invoice data shape\" , invoice_data.shape)\n",
    "print(\"customer data shape\" ,customer_data.shape)"
   ]
  },
  {
   "cell_type": "code",
   "execution_count": 43,
   "metadata": {},
   "outputs": [],
   "source": [
    "## dropping records more than 50% missing values from customer data \n",
    "customer_data = customer_data.drop(['Title','Marital Status','Occupation','Date of Birth','Death date'],axis=1)\n",
    "\n",
    "# Imputing Partner type & Data origin with mode\n",
    "\n",
    "customer_data['Partner Type'] = customer_data['Partner Type'].fillna(customer_data['Partner Type'].mode()[0])\n",
    "customer_data['Data Origin'] = customer_data['Data Origin'].fillna(customer_data['Data Origin'].mode()[0])"
   ]
  },
  {
   "cell_type": "code",
   "execution_count": 44,
   "metadata": {},
   "outputs": [],
   "source": [
    "## dropping records more than 50% missing values\n",
    "invoice_data = invoice_data.drop(['Amt Rcvd From Custom','Amt Rcvd From Ins Co',\n",
    "                                          'CGST(14%)','CGST(2.5%)', 'CGST(6%)','IGST(12%)','CGST(9%)',\n",
    "                                          'IGST(18%)','IGST(28%)','IGST(5%)','SGST/UGST(14%)',\n",
    "                                          'SGST/UGST(2.5%)','SGST/UGST(6%)','SGST/UGST(9%)',\n",
    "                                          'TDS amount','Service Advisor Name','Outstanding Amt',\n",
    "                                        'Total CGST','Total GST','Total IGST','Total SGST/UGST',\n",
    "                                          'Policy no.','Cash /Cashless Type','Expiry Date','Gate Pass Date',\n",
    "                                          'Insurance Company','Claim No.'\n",
    "                                         ],axis=1)"
   ]
  },
  {
   "cell_type": "markdown",
   "metadata": {},
   "source": [
    "### Deriving invoice date time , job card date time & service time"
   ]
  },
  {
   "cell_type": "code",
   "execution_count": 45,
   "metadata": {},
   "outputs": [],
   "source": [
    "invoice_data[\"Invoice_DateTime\"]=invoice_data[\"Invoice Date\"]+' '+invoice_data[\"Invoice Time\"]\n",
    "invoice_data[\"JobCard_DateTime\"]=invoice_data[\"JobCard Date\"]+' '+invoice_data[\"JobCard Time\"]\n",
    "invoice_data['JobCard_DateTime'] = pd.to_datetime(invoice_data['JobCard_DateTime'],dayfirst=True)\n",
    "invoice_data['Invoice_DateTime'] = pd.to_datetime(invoice_data['Invoice_DateTime'],dayfirst=True)\n",
    "invoice_data[\"Service_Time\"]=invoice_data[\"Invoice_DateTime\"]-invoice_data[\"JobCard_DateTime\"]"
   ]
  },
  {
   "cell_type": "code",
   "execution_count": 46,
   "metadata": {},
   "outputs": [],
   "source": [
    "invoice_data.drop(['JobCard Date','JobCard Time','Invoice Date','Invoice Time'],axis = 1,inplace=True)"
   ]
  },
  {
   "cell_type": "markdown",
   "metadata": {},
   "source": [
    "### Cleaning \"Area/Locality\", \"City\" and \"District\" columns using pgeocode library  "
   ]
  },
  {
   "cell_type": "code",
   "execution_count": 47,
   "metadata": {},
   "outputs": [
    {
     "data": {
      "text/plain": [
       "postal_code                               400615\n",
       "country code                                  IN\n",
       "place_name        Kasarvadavali, Ghodbunder Road\n",
       "state_name                           Maharashtra\n",
       "state_code                                    16\n",
       "county_name                                Thane\n",
       "county_code                                  517\n",
       "community_name                             Thane\n",
       "community_code                               NaN\n",
       "latitude                                 19.1941\n",
       "longitude                                73.0002\n",
       "accuracy                                       1\n",
       "Name: 0, dtype: object"
      ]
     },
     "execution_count": 47,
     "metadata": {},
     "output_type": "execute_result"
    }
   ],
   "source": [
    "nomi.query_postal_code('400615')"
   ]
  },
  {
   "cell_type": "code",
   "execution_count": 48,
   "metadata": {},
   "outputs": [],
   "source": [
    "invoice_data[\"Clean_CITY\"]=nomi.query_postal_code(np.array(invoice_data[\"Pin code\"].astype(str))).county_name\n",
    "invoice_data[\"Clean_District\"]=nomi.query_postal_code(np.array(invoice_data[\"Pin code\"].astype(str))).state_name\n",
    "invoice_data[\"Clean_Location_Area\"]=nomi.query_postal_code(np.array(invoice_data[\"Pin code\"].astype(str))).place_name"
   ]
  },
  {
   "cell_type": "markdown",
   "metadata": {},
   "source": [
    "### Dropping old \"Area/Locality\", \"City\" and \"District\" columns "
   ]
  },
  {
   "cell_type": "code",
   "execution_count": 49,
   "metadata": {},
   "outputs": [],
   "source": [
    "invoice_data.drop([\"Area / Locality\",\"CITY\",\"District\"],1,inplace=True)"
   ]
  },
  {
   "cell_type": "markdown",
   "metadata": {},
   "source": [
    "### Storing Cleaned Invoice & Customer Data "
   ]
  },
  {
   "cell_type": "code",
   "execution_count": 50,
   "metadata": {},
   "outputs": [],
   "source": [
    "invoice_data.to_csv('E:\\CodeChef\\Capstone Project\\Cleaned DataSet\\Invoice_Data.csv')\n",
    "customer_data.to_csv('E:\\CodeChef\\Capstone Project\\Cleaned DataSet\\Customer_Data.csv')"
   ]
  },
  {
   "cell_type": "markdown",
   "metadata": {},
   "source": [
    "### Reading cleaned Invoice & Customer Data "
   ]
  },
  {
   "cell_type": "code",
   "execution_count": 51,
   "metadata": {},
   "outputs": [],
   "source": [
    "invoice_data = pd.read_csv('E:\\CodeChef\\Capstone Project\\Cleaned DataSet\\Invoice_Data.csv',index_col= False)\n",
    "customer_data = pd.read_csv('E:\\CodeChef\\Capstone Project\\Cleaned DataSet\\Customer_Data.csv',index_col = False)\n",
    "jtd_data = pd.read_csv('E:\\CodeChef\\Capstone Project\\Input_DataSet\\JTD.csv')"
   ]
  },
  {
   "cell_type": "code",
   "execution_count": 52,
   "metadata": {},
   "outputs": [
    {
     "name": "stdout",
     "output_type": "stream",
     "text": [
      "invoice data shape (492314, 32)\n",
      " customer data shape (555338, 5)\n",
      " jtd data shape (5619484, 10)\n"
     ]
    }
   ],
   "source": [
    "print(\"invoice data shape\" , invoice_data.shape)\n",
    "print(\" customer data shape\" ,customer_data.shape)\n",
    "print(\" jtd data shape\", jtd_data.shape)"
   ]
  },
  {
   "cell_type": "code",
   "execution_count": 53,
   "metadata": {},
   "outputs": [
    {
     "data": {
      "text/plain": [
       "Unnamed: 0          0\n",
       "Business Partner    0\n",
       "Customer No.        0\n",
       "Partner Type        0\n",
       "Data Origin         0\n",
       "dtype: int64"
      ]
     },
     "execution_count": 53,
     "metadata": {},
     "output_type": "execute_result"
    }
   ],
   "source": [
    "customer_data.isnull().sum()"
   ]
  },
  {
   "cell_type": "code",
   "execution_count": 54,
   "metadata": {},
   "outputs": [
    {
     "data": {
      "text/plain": [
       "Unnamed: 0                  0\n",
       "Unnamed: 0.1                0\n",
       "Cust Type                   0\n",
       "Customer No.                0\n",
       "Gate Pass Time              0\n",
       "Invoice No                  0\n",
       "Job Card No                 0\n",
       "KMs Reading                 0\n",
       "Labour Total                0\n",
       "Make                        0\n",
       "Misc Total                  0\n",
       "Model                    1525\n",
       "ODN No.                197286\n",
       "OSL Total                   0\n",
       "Order Type                  0\n",
       "Parts Total                 0\n",
       "Pin code                    0\n",
       "Plant                       0\n",
       "Plant Name1                 0\n",
       "Print Status                0\n",
       "Recovrbl Exp                0\n",
       "Regn No                    16\n",
       "Technician Name        236834\n",
       "Total Amt Wtd Tax.          0\n",
       "Total Value            197286\n",
       "User ID                     0\n",
       "Invoice_DateTime            0\n",
       "JobCard_DateTime            0\n",
       "Service_Time                0\n",
       "Clean_CITY              47246\n",
       "Clean_District          47246\n",
       "Clean_Location_Area     47246\n",
       "dtype: int64"
      ]
     },
     "execution_count": 54,
     "metadata": {},
     "output_type": "execute_result"
    }
   ],
   "source": [
    "invoice_data.isnull().sum()"
   ]
  },
  {
   "cell_type": "code",
   "execution_count": 55,
   "metadata": {},
   "outputs": [
    {
     "data": {
      "text/plain": [
       "Unnamed: 0                   0\n",
       "DBM Order                    0\n",
       "Order Item                   0\n",
       "Material                 51629\n",
       "Labor Value Number     3774033\n",
       "Description              51629\n",
       "Item Category                0\n",
       "Order Quantity               0\n",
       "Target quantity UoM      51629\n",
       "Net value                    0\n",
       "dtype: int64"
      ]
     },
     "execution_count": 55,
     "metadata": {},
     "output_type": "execute_result"
    }
   ],
   "source": [
    "jtd_data.isnull().sum()"
   ]
  },
  {
   "cell_type": "markdown",
   "metadata": {},
   "source": [
    "#### Dropping unncessary columns & columns with more missing values"
   ]
  },
  {
   "cell_type": "code",
   "execution_count": 56,
   "metadata": {},
   "outputs": [],
   "source": [
    "# # dropping unnecessary columns\n",
    "customer_data.drop(['Unnamed: 0'],axis=1,inplace=True)\n",
    "invoice_data.drop(['Unnamed: 0','ODN No.','Technician Name','Regn No','Total Value'],axis=1,inplace=True)\n",
    "jtd_data.drop(['Unnamed: 0','Labor Value Number'],axis=1,inplace=True)"
   ]
  },
  {
   "cell_type": "code",
   "execution_count": 57,
   "metadata": {},
   "outputs": [
    {
     "data": {
      "text/html": [
       "<div>\n",
       "<style scoped>\n",
       "    .dataframe tbody tr th:only-of-type {\n",
       "        vertical-align: middle;\n",
       "    }\n",
       "\n",
       "    .dataframe tbody tr th {\n",
       "        vertical-align: top;\n",
       "    }\n",
       "\n",
       "    .dataframe thead th {\n",
       "        text-align: right;\n",
       "    }\n",
       "</style>\n",
       "<table border=\"1\" class=\"dataframe\">\n",
       "  <thead>\n",
       "    <tr style=\"text-align: right;\">\n",
       "      <th></th>\n",
       "      <th>DBM Order</th>\n",
       "      <th>Order Item</th>\n",
       "      <th>Material</th>\n",
       "      <th>Description</th>\n",
       "      <th>Item Category</th>\n",
       "      <th>Order Quantity</th>\n",
       "      <th>Target quantity UoM</th>\n",
       "      <th>Net value</th>\n",
       "    </tr>\n",
       "  </thead>\n",
       "  <tbody>\n",
       "    <tr>\n",
       "      <th>0</th>\n",
       "      <td>22385</td>\n",
       "      <td>180</td>\n",
       "      <td>OSLCC_SRV31</td>\n",
       "      <td>MACHINING RR.SUSPENSION CHARGE  (MAJOR)</td>\n",
       "      <td>P010</td>\n",
       "      <td>1.2</td>\n",
       "      <td>MIN</td>\n",
       "      <td>1869.87</td>\n",
       "    </tr>\n",
       "    <tr>\n",
       "      <th>1</th>\n",
       "      <td>23910</td>\n",
       "      <td>10</td>\n",
       "      <td>1DM279018170117</td>\n",
       "      <td>ASSY.OIL COOLER (6-PLATE) (VOR</td>\n",
       "      <td>P002</td>\n",
       "      <td>1.0</td>\n",
       "      <td>EA</td>\n",
       "      <td>2151.13</td>\n",
       "    </tr>\n",
       "    <tr>\n",
       "      <th>2</th>\n",
       "      <td>23910</td>\n",
       "      <td>40</td>\n",
       "      <td>1IS150203BE01</td>\n",
       "      <td>FRONT WHEEL BEARING/ LUBRICATE</td>\n",
       "      <td>P002</td>\n",
       "      <td>1.0</td>\n",
       "      <td>EA</td>\n",
       "      <td>2552.92</td>\n",
       "    </tr>\n",
       "    <tr>\n",
       "      <th>3</th>\n",
       "      <td>23910</td>\n",
       "      <td>60</td>\n",
       "      <td>1DM279001990173</td>\n",
       "      <td>ASSY.CYL.HEAD W /O INJ.(NA W /O</td>\n",
       "      <td>P002</td>\n",
       "      <td>1.0</td>\n",
       "      <td>EA</td>\n",
       "      <td>20360.14</td>\n",
       "    </tr>\n",
       "    <tr>\n",
       "      <th>4</th>\n",
       "      <td>23910</td>\n",
       "      <td>70</td>\n",
       "      <td>1DM88552790S001SA</td>\n",
       "      <td>Engine Overhaul Kit -Indica Di</td>\n",
       "      <td>P002</td>\n",
       "      <td>1.0</td>\n",
       "      <td>EA</td>\n",
       "      <td>10691.63</td>\n",
       "    </tr>\n",
       "  </tbody>\n",
       "</table>\n",
       "</div>"
      ],
      "text/plain": [
       "   DBM Order  Order Item           Material  \\\n",
       "0      22385         180        OSLCC_SRV31   \n",
       "1      23910          10    1DM279018170117   \n",
       "2      23910          40      1IS150203BE01   \n",
       "3      23910          60    1DM279001990173   \n",
       "4      23910          70  1DM88552790S001SA   \n",
       "\n",
       "                               Description Item Category  Order Quantity  \\\n",
       "0  MACHINING RR.SUSPENSION CHARGE  (MAJOR)          P010             1.2   \n",
       "1           ASSY.OIL COOLER (6-PLATE) (VOR          P002             1.0   \n",
       "2           FRONT WHEEL BEARING/ LUBRICATE          P002             1.0   \n",
       "3          ASSY.CYL.HEAD W /O INJ.(NA W /O          P002             1.0   \n",
       "4           Engine Overhaul Kit -Indica Di          P002             1.0   \n",
       "\n",
       "  Target quantity UoM  Net value  \n",
       "0                 MIN    1869.87  \n",
       "1                  EA    2151.13  \n",
       "2                  EA    2552.92  \n",
       "3                  EA   20360.14  \n",
       "4                  EA   10691.63  "
      ]
     },
     "execution_count": 57,
     "metadata": {},
     "output_type": "execute_result"
    }
   ],
   "source": [
    "jtd_data.head()"
   ]
  },
  {
   "cell_type": "code",
   "execution_count": 58,
   "metadata": {},
   "outputs": [
    {
     "data": {
      "text/html": [
       "<div>\n",
       "<style scoped>\n",
       "    .dataframe tbody tr th:only-of-type {\n",
       "        vertical-align: middle;\n",
       "    }\n",
       "\n",
       "    .dataframe tbody tr th {\n",
       "        vertical-align: top;\n",
       "    }\n",
       "\n",
       "    .dataframe thead th {\n",
       "        text-align: right;\n",
       "    }\n",
       "</style>\n",
       "<table border=\"1\" class=\"dataframe\">\n",
       "  <thead>\n",
       "    <tr style=\"text-align: right;\">\n",
       "      <th></th>\n",
       "      <th>Unnamed: 0.1</th>\n",
       "      <th>Cust Type</th>\n",
       "      <th>Customer No.</th>\n",
       "      <th>Gate Pass Time</th>\n",
       "      <th>Invoice No</th>\n",
       "      <th>Job Card No</th>\n",
       "      <th>KMs Reading</th>\n",
       "      <th>Labour Total</th>\n",
       "      <th>Make</th>\n",
       "      <th>Misc Total</th>\n",
       "      <th>Model</th>\n",
       "      <th>OSL Total</th>\n",
       "      <th>Order Type</th>\n",
       "      <th>Parts Total</th>\n",
       "      <th>Pin code</th>\n",
       "      <th>Plant</th>\n",
       "      <th>Plant Name1</th>\n",
       "      <th>Print Status</th>\n",
       "      <th>Recovrbl Exp</th>\n",
       "      <th>Total Amt Wtd Tax.</th>\n",
       "      <th>User ID</th>\n",
       "      <th>Invoice_DateTime</th>\n",
       "      <th>JobCard_DateTime</th>\n",
       "      <th>Service_Time</th>\n",
       "      <th>Clean_CITY</th>\n",
       "      <th>Clean_District</th>\n",
       "      <th>Clean_Location_Area</th>\n",
       "    </tr>\n",
       "  </thead>\n",
       "  <tbody>\n",
       "    <tr>\n",
       "      <th>0</th>\n",
       "      <td>0</td>\n",
       "      <td>Retail</td>\n",
       "      <td>67849</td>\n",
       "      <td>00:00:00</td>\n",
       "      <td>7005200002</td>\n",
       "      <td>168303</td>\n",
       "      <td>49317</td>\n",
       "      <td>1203.14</td>\n",
       "      <td>GENERAL MOTORS</td>\n",
       "      <td>0.00</td>\n",
       "      <td>SPARK</td>\n",
       "      <td>500.06</td>\n",
       "      <td>Paid Service</td>\n",
       "      <td>2348.75</td>\n",
       "      <td>400601</td>\n",
       "      <td>BC01</td>\n",
       "      <td>THANE</td>\n",
       "      <td>NO</td>\n",
       "      <td>0.0</td>\n",
       "      <td>4051.95</td>\n",
       "      <td>BC01FS1</td>\n",
       "      <td>2015-01-02 11:30:36</td>\n",
       "      <td>2014-12-13 14:29:43</td>\n",
       "      <td>19 days 21:00:53.000000000</td>\n",
       "      <td>Thane</td>\n",
       "      <td>Maharashtra</td>\n",
       "      <td>Thane Bazar, Thane H.O, Thane R.S.</td>\n",
       "    </tr>\n",
       "    <tr>\n",
       "      <th>1</th>\n",
       "      <td>1</td>\n",
       "      <td>Retail</td>\n",
       "      <td>84419</td>\n",
       "      <td>00:00:00</td>\n",
       "      <td>7005200003</td>\n",
       "      <td>173997</td>\n",
       "      <td>78584</td>\n",
       "      <td>804.26</td>\n",
       "      <td>TATA MOTORS</td>\n",
       "      <td>197.03</td>\n",
       "      <td>INDICA</td>\n",
       "      <td>0.00</td>\n",
       "      <td>SMC Value Package</td>\n",
       "      <td>0.00</td>\n",
       "      <td>400603</td>\n",
       "      <td>BC01</td>\n",
       "      <td>THANE</td>\n",
       "      <td>NO</td>\n",
       "      <td>0.0</td>\n",
       "      <td>1001.29</td>\n",
       "      <td>BC01SA2</td>\n",
       "      <td>2015-01-03 10:07:32</td>\n",
       "      <td>2015-01-02 14:12:18</td>\n",
       "      <td>0 days 19:55:14.000000000</td>\n",
       "      <td>Thane</td>\n",
       "      <td>Maharashtra</td>\n",
       "      <td>Thane East, Kopri Colony</td>\n",
       "    </tr>\n",
       "    <tr>\n",
       "      <th>2</th>\n",
       "      <td>2</td>\n",
       "      <td>Retail</td>\n",
       "      <td>81055</td>\n",
       "      <td>00:00:00</td>\n",
       "      <td>7005200004</td>\n",
       "      <td>173889</td>\n",
       "      <td>33985</td>\n",
       "      <td>180.19</td>\n",
       "      <td>MARUTI SUZUKI</td>\n",
       "      <td>0.00</td>\n",
       "      <td>ZEN</td>\n",
       "      <td>0.00</td>\n",
       "      <td>Running Repairs</td>\n",
       "      <td>52.95</td>\n",
       "      <td>400607</td>\n",
       "      <td>BC01</td>\n",
       "      <td>THANE</td>\n",
       "      <td>NO</td>\n",
       "      <td>0.0</td>\n",
       "      <td>233.14</td>\n",
       "      <td>BC01SA2</td>\n",
       "      <td>2015-01-03 11:12:57</td>\n",
       "      <td>2015-01-02 11:40:44</td>\n",
       "      <td>0 days 23:32:13.000000000</td>\n",
       "      <td>Thane</td>\n",
       "      <td>Maharashtra</td>\n",
       "      <td>Chitalsar Manpada, Sandozbaugh</td>\n",
       "    </tr>\n",
       "    <tr>\n",
       "      <th>3</th>\n",
       "      <td>3</td>\n",
       "      <td>Retail</td>\n",
       "      <td>84419</td>\n",
       "      <td>00:00:00</td>\n",
       "      <td>7005200005</td>\n",
       "      <td>174158</td>\n",
       "      <td>78584</td>\n",
       "      <td>0.00</td>\n",
       "      <td>TATA MOTORS</td>\n",
       "      <td>0.00</td>\n",
       "      <td>INDICA</td>\n",
       "      <td>0.00</td>\n",
       "      <td>SMC Redemption</td>\n",
       "      <td>0.00</td>\n",
       "      <td>400603</td>\n",
       "      <td>BC01</td>\n",
       "      <td>THANE</td>\n",
       "      <td>NO</td>\n",
       "      <td>0.0</td>\n",
       "      <td>0.00</td>\n",
       "      <td>BC01SA2</td>\n",
       "      <td>2015-01-03 11:40:44</td>\n",
       "      <td>2015-01-03 10:12:32</td>\n",
       "      <td>0 days 01:28:12.000000000</td>\n",
       "      <td>Thane</td>\n",
       "      <td>Maharashtra</td>\n",
       "      <td>Thane East, Kopri Colony</td>\n",
       "    </tr>\n",
       "    <tr>\n",
       "      <th>4</th>\n",
       "      <td>4</td>\n",
       "      <td>Retail</td>\n",
       "      <td>18980</td>\n",
       "      <td>00:00:00</td>\n",
       "      <td>7005200006</td>\n",
       "      <td>173860</td>\n",
       "      <td>50057</td>\n",
       "      <td>1202.97</td>\n",
       "      <td>HYUNDAI</td>\n",
       "      <td>100.00</td>\n",
       "      <td>SANTRO XING</td>\n",
       "      <td>499.99</td>\n",
       "      <td>Paid Service</td>\n",
       "      <td>944.16</td>\n",
       "      <td>400603</td>\n",
       "      <td>BC01</td>\n",
       "      <td>THANE</td>\n",
       "      <td>NO</td>\n",
       "      <td>0.0</td>\n",
       "      <td>2747.12</td>\n",
       "      <td>BC01SA2</td>\n",
       "      <td>2015-01-03 12:07:17</td>\n",
       "      <td>2015-01-02 10:45:42</td>\n",
       "      <td>1 days 01:21:35.000000000</td>\n",
       "      <td>Thane</td>\n",
       "      <td>Maharashtra</td>\n",
       "      <td>Thane East, Kopri Colony</td>\n",
       "    </tr>\n",
       "  </tbody>\n",
       "</table>\n",
       "</div>"
      ],
      "text/plain": [
       "   Unnamed: 0.1 Cust Type Customer No. Gate Pass Time  Invoice No  \\\n",
       "0             0    Retail        67849       00:00:00  7005200002   \n",
       "1             1    Retail        84419       00:00:00  7005200003   \n",
       "2             2    Retail        81055       00:00:00  7005200004   \n",
       "3             3    Retail        84419       00:00:00  7005200005   \n",
       "4             4    Retail        18980       00:00:00  7005200006   \n",
       "\n",
       "   Job Card No  KMs Reading  Labour Total            Make  Misc Total  \\\n",
       "0       168303        49317       1203.14  GENERAL MOTORS        0.00   \n",
       "1       173997        78584        804.26     TATA MOTORS      197.03   \n",
       "2       173889        33985        180.19   MARUTI SUZUKI        0.00   \n",
       "3       174158        78584          0.00     TATA MOTORS        0.00   \n",
       "4       173860        50057       1202.97         HYUNDAI      100.00   \n",
       "\n",
       "         Model  OSL Total         Order Type  Parts Total  Pin code Plant  \\\n",
       "0        SPARK     500.06       Paid Service      2348.75    400601  BC01   \n",
       "1       INDICA       0.00  SMC Value Package         0.00    400603  BC01   \n",
       "2          ZEN       0.00    Running Repairs        52.95    400607  BC01   \n",
       "3       INDICA       0.00     SMC Redemption         0.00    400603  BC01   \n",
       "4  SANTRO XING     499.99       Paid Service       944.16    400603  BC01   \n",
       "\n",
       "  Plant Name1 Print Status  Recovrbl Exp  Total Amt Wtd Tax.  User ID  \\\n",
       "0       THANE           NO           0.0             4051.95  BC01FS1   \n",
       "1       THANE           NO           0.0             1001.29  BC01SA2   \n",
       "2       THANE           NO           0.0              233.14  BC01SA2   \n",
       "3       THANE           NO           0.0                0.00  BC01SA2   \n",
       "4       THANE           NO           0.0             2747.12  BC01SA2   \n",
       "\n",
       "      Invoice_DateTime     JobCard_DateTime                Service_Time  \\\n",
       "0  2015-01-02 11:30:36  2014-12-13 14:29:43  19 days 21:00:53.000000000   \n",
       "1  2015-01-03 10:07:32  2015-01-02 14:12:18   0 days 19:55:14.000000000   \n",
       "2  2015-01-03 11:12:57  2015-01-02 11:40:44   0 days 23:32:13.000000000   \n",
       "3  2015-01-03 11:40:44  2015-01-03 10:12:32   0 days 01:28:12.000000000   \n",
       "4  2015-01-03 12:07:17  2015-01-02 10:45:42   1 days 01:21:35.000000000   \n",
       "\n",
       "  Clean_CITY Clean_District                 Clean_Location_Area  \n",
       "0      Thane    Maharashtra  Thane Bazar, Thane H.O, Thane R.S.  \n",
       "1      Thane    Maharashtra            Thane East, Kopri Colony  \n",
       "2      Thane    Maharashtra      Chitalsar Manpada, Sandozbaugh  \n",
       "3      Thane    Maharashtra            Thane East, Kopri Colony  \n",
       "4      Thane    Maharashtra            Thane East, Kopri Colony  "
      ]
     },
     "execution_count": 58,
     "metadata": {},
     "output_type": "execute_result"
    }
   ],
   "source": [
    "invoice_data.head()"
   ]
  },
  {
   "cell_type": "markdown",
   "metadata": {},
   "source": [
    "### Joining Invoice & Customer Data"
   ]
  },
  {
   "cell_type": "code",
   "execution_count": 59,
   "metadata": {},
   "outputs": [],
   "source": [
    "inv_cust = pd.merge(invoice_data,customer_data,how='left',on='Customer No.')"
   ]
  },
  {
   "cell_type": "code",
   "execution_count": 60,
   "metadata": {},
   "outputs": [
    {
     "data": {
      "text/plain": [
       "(492314, 30)"
      ]
     },
     "execution_count": 60,
     "metadata": {},
     "output_type": "execute_result"
    }
   ],
   "source": [
    "inv_cust.shape"
   ]
  },
  {
   "cell_type": "code",
   "execution_count": 61,
   "metadata": {},
   "outputs": [
    {
     "data": {
      "text/html": [
       "<div>\n",
       "<style scoped>\n",
       "    .dataframe tbody tr th:only-of-type {\n",
       "        vertical-align: middle;\n",
       "    }\n",
       "\n",
       "    .dataframe tbody tr th {\n",
       "        vertical-align: top;\n",
       "    }\n",
       "\n",
       "    .dataframe thead th {\n",
       "        text-align: right;\n",
       "    }\n",
       "</style>\n",
       "<table border=\"1\" class=\"dataframe\">\n",
       "  <thead>\n",
       "    <tr style=\"text-align: right;\">\n",
       "      <th></th>\n",
       "      <th>Unnamed: 0.1</th>\n",
       "      <th>Cust Type</th>\n",
       "      <th>Customer No.</th>\n",
       "      <th>Gate Pass Time</th>\n",
       "      <th>Invoice No</th>\n",
       "      <th>Job Card No</th>\n",
       "      <th>KMs Reading</th>\n",
       "      <th>Labour Total</th>\n",
       "      <th>Make</th>\n",
       "      <th>Misc Total</th>\n",
       "      <th>Model</th>\n",
       "      <th>OSL Total</th>\n",
       "      <th>Order Type</th>\n",
       "      <th>Parts Total</th>\n",
       "      <th>Pin code</th>\n",
       "      <th>Plant</th>\n",
       "      <th>Plant Name1</th>\n",
       "      <th>Print Status</th>\n",
       "      <th>Recovrbl Exp</th>\n",
       "      <th>Total Amt Wtd Tax.</th>\n",
       "      <th>User ID</th>\n",
       "      <th>Invoice_DateTime</th>\n",
       "      <th>JobCard_DateTime</th>\n",
       "      <th>Service_Time</th>\n",
       "      <th>Clean_CITY</th>\n",
       "      <th>Clean_District</th>\n",
       "      <th>Clean_Location_Area</th>\n",
       "      <th>Business Partner</th>\n",
       "      <th>Partner Type</th>\n",
       "      <th>Data Origin</th>\n",
       "    </tr>\n",
       "  </thead>\n",
       "  <tbody>\n",
       "    <tr>\n",
       "      <th>0</th>\n",
       "      <td>0</td>\n",
       "      <td>Retail</td>\n",
       "      <td>67849</td>\n",
       "      <td>00:00:00</td>\n",
       "      <td>7005200002</td>\n",
       "      <td>168303</td>\n",
       "      <td>49317</td>\n",
       "      <td>1203.14</td>\n",
       "      <td>GENERAL MOTORS</td>\n",
       "      <td>0.00</td>\n",
       "      <td>SPARK</td>\n",
       "      <td>500.06</td>\n",
       "      <td>Paid Service</td>\n",
       "      <td>2348.75</td>\n",
       "      <td>400601</td>\n",
       "      <td>BC01</td>\n",
       "      <td>THANE</td>\n",
       "      <td>NO</td>\n",
       "      <td>0.0</td>\n",
       "      <td>4051.95</td>\n",
       "      <td>BC01FS1</td>\n",
       "      <td>2015-01-02 11:30:36</td>\n",
       "      <td>2014-12-13 14:29:43</td>\n",
       "      <td>19 days 21:00:53.000000000</td>\n",
       "      <td>Thane</td>\n",
       "      <td>Maharashtra</td>\n",
       "      <td>Thane Bazar, Thane H.O, Thane R.S.</td>\n",
       "      <td>NaN</td>\n",
       "      <td>NaN</td>\n",
       "      <td>NaN</td>\n",
       "    </tr>\n",
       "    <tr>\n",
       "      <th>1</th>\n",
       "      <td>1</td>\n",
       "      <td>Retail</td>\n",
       "      <td>84419</td>\n",
       "      <td>00:00:00</td>\n",
       "      <td>7005200003</td>\n",
       "      <td>173997</td>\n",
       "      <td>78584</td>\n",
       "      <td>804.26</td>\n",
       "      <td>TATA MOTORS</td>\n",
       "      <td>197.03</td>\n",
       "      <td>INDICA</td>\n",
       "      <td>0.00</td>\n",
       "      <td>SMC Value Package</td>\n",
       "      <td>0.00</td>\n",
       "      <td>400603</td>\n",
       "      <td>BC01</td>\n",
       "      <td>THANE</td>\n",
       "      <td>NO</td>\n",
       "      <td>0.0</td>\n",
       "      <td>1001.29</td>\n",
       "      <td>BC01SA2</td>\n",
       "      <td>2015-01-03 10:07:32</td>\n",
       "      <td>2015-01-02 14:12:18</td>\n",
       "      <td>0 days 19:55:14.000000000</td>\n",
       "      <td>Thane</td>\n",
       "      <td>Maharashtra</td>\n",
       "      <td>Thane East, Kopri Colony</td>\n",
       "      <td>NaN</td>\n",
       "      <td>NaN</td>\n",
       "      <td>NaN</td>\n",
       "    </tr>\n",
       "    <tr>\n",
       "      <th>2</th>\n",
       "      <td>2</td>\n",
       "      <td>Retail</td>\n",
       "      <td>81055</td>\n",
       "      <td>00:00:00</td>\n",
       "      <td>7005200004</td>\n",
       "      <td>173889</td>\n",
       "      <td>33985</td>\n",
       "      <td>180.19</td>\n",
       "      <td>MARUTI SUZUKI</td>\n",
       "      <td>0.00</td>\n",
       "      <td>ZEN</td>\n",
       "      <td>0.00</td>\n",
       "      <td>Running Repairs</td>\n",
       "      <td>52.95</td>\n",
       "      <td>400607</td>\n",
       "      <td>BC01</td>\n",
       "      <td>THANE</td>\n",
       "      <td>NO</td>\n",
       "      <td>0.0</td>\n",
       "      <td>233.14</td>\n",
       "      <td>BC01SA2</td>\n",
       "      <td>2015-01-03 11:12:57</td>\n",
       "      <td>2015-01-02 11:40:44</td>\n",
       "      <td>0 days 23:32:13.000000000</td>\n",
       "      <td>Thane</td>\n",
       "      <td>Maharashtra</td>\n",
       "      <td>Chitalsar Manpada, Sandozbaugh</td>\n",
       "      <td>NaN</td>\n",
       "      <td>NaN</td>\n",
       "      <td>NaN</td>\n",
       "    </tr>\n",
       "    <tr>\n",
       "      <th>3</th>\n",
       "      <td>3</td>\n",
       "      <td>Retail</td>\n",
       "      <td>84419</td>\n",
       "      <td>00:00:00</td>\n",
       "      <td>7005200005</td>\n",
       "      <td>174158</td>\n",
       "      <td>78584</td>\n",
       "      <td>0.00</td>\n",
       "      <td>TATA MOTORS</td>\n",
       "      <td>0.00</td>\n",
       "      <td>INDICA</td>\n",
       "      <td>0.00</td>\n",
       "      <td>SMC Redemption</td>\n",
       "      <td>0.00</td>\n",
       "      <td>400603</td>\n",
       "      <td>BC01</td>\n",
       "      <td>THANE</td>\n",
       "      <td>NO</td>\n",
       "      <td>0.0</td>\n",
       "      <td>0.00</td>\n",
       "      <td>BC01SA2</td>\n",
       "      <td>2015-01-03 11:40:44</td>\n",
       "      <td>2015-01-03 10:12:32</td>\n",
       "      <td>0 days 01:28:12.000000000</td>\n",
       "      <td>Thane</td>\n",
       "      <td>Maharashtra</td>\n",
       "      <td>Thane East, Kopri Colony</td>\n",
       "      <td>NaN</td>\n",
       "      <td>NaN</td>\n",
       "      <td>NaN</td>\n",
       "    </tr>\n",
       "    <tr>\n",
       "      <th>4</th>\n",
       "      <td>4</td>\n",
       "      <td>Retail</td>\n",
       "      <td>18980</td>\n",
       "      <td>00:00:00</td>\n",
       "      <td>7005200006</td>\n",
       "      <td>173860</td>\n",
       "      <td>50057</td>\n",
       "      <td>1202.97</td>\n",
       "      <td>HYUNDAI</td>\n",
       "      <td>100.00</td>\n",
       "      <td>SANTRO XING</td>\n",
       "      <td>499.99</td>\n",
       "      <td>Paid Service</td>\n",
       "      <td>944.16</td>\n",
       "      <td>400603</td>\n",
       "      <td>BC01</td>\n",
       "      <td>THANE</td>\n",
       "      <td>NO</td>\n",
       "      <td>0.0</td>\n",
       "      <td>2747.12</td>\n",
       "      <td>BC01SA2</td>\n",
       "      <td>2015-01-03 12:07:17</td>\n",
       "      <td>2015-01-02 10:45:42</td>\n",
       "      <td>1 days 01:21:35.000000000</td>\n",
       "      <td>Thane</td>\n",
       "      <td>Maharashtra</td>\n",
       "      <td>Thane East, Kopri Colony</td>\n",
       "      <td>NaN</td>\n",
       "      <td>NaN</td>\n",
       "      <td>NaN</td>\n",
       "    </tr>\n",
       "  </tbody>\n",
       "</table>\n",
       "</div>"
      ],
      "text/plain": [
       "   Unnamed: 0.1 Cust Type Customer No. Gate Pass Time  Invoice No  \\\n",
       "0             0    Retail        67849       00:00:00  7005200002   \n",
       "1             1    Retail        84419       00:00:00  7005200003   \n",
       "2             2    Retail        81055       00:00:00  7005200004   \n",
       "3             3    Retail        84419       00:00:00  7005200005   \n",
       "4             4    Retail        18980       00:00:00  7005200006   \n",
       "\n",
       "   Job Card No  KMs Reading  Labour Total            Make  Misc Total  \\\n",
       "0       168303        49317       1203.14  GENERAL MOTORS        0.00   \n",
       "1       173997        78584        804.26     TATA MOTORS      197.03   \n",
       "2       173889        33985        180.19   MARUTI SUZUKI        0.00   \n",
       "3       174158        78584          0.00     TATA MOTORS        0.00   \n",
       "4       173860        50057       1202.97         HYUNDAI      100.00   \n",
       "\n",
       "         Model  OSL Total         Order Type  Parts Total  Pin code Plant  \\\n",
       "0        SPARK     500.06       Paid Service      2348.75    400601  BC01   \n",
       "1       INDICA       0.00  SMC Value Package         0.00    400603  BC01   \n",
       "2          ZEN       0.00    Running Repairs        52.95    400607  BC01   \n",
       "3       INDICA       0.00     SMC Redemption         0.00    400603  BC01   \n",
       "4  SANTRO XING     499.99       Paid Service       944.16    400603  BC01   \n",
       "\n",
       "  Plant Name1 Print Status  Recovrbl Exp  Total Amt Wtd Tax.  User ID  \\\n",
       "0       THANE           NO           0.0             4051.95  BC01FS1   \n",
       "1       THANE           NO           0.0             1001.29  BC01SA2   \n",
       "2       THANE           NO           0.0              233.14  BC01SA2   \n",
       "3       THANE           NO           0.0                0.00  BC01SA2   \n",
       "4       THANE           NO           0.0             2747.12  BC01SA2   \n",
       "\n",
       "      Invoice_DateTime     JobCard_DateTime                Service_Time  \\\n",
       "0  2015-01-02 11:30:36  2014-12-13 14:29:43  19 days 21:00:53.000000000   \n",
       "1  2015-01-03 10:07:32  2015-01-02 14:12:18   0 days 19:55:14.000000000   \n",
       "2  2015-01-03 11:12:57  2015-01-02 11:40:44   0 days 23:32:13.000000000   \n",
       "3  2015-01-03 11:40:44  2015-01-03 10:12:32   0 days 01:28:12.000000000   \n",
       "4  2015-01-03 12:07:17  2015-01-02 10:45:42   1 days 01:21:35.000000000   \n",
       "\n",
       "  Clean_CITY Clean_District                 Clean_Location_Area  \\\n",
       "0      Thane    Maharashtra  Thane Bazar, Thane H.O, Thane R.S.   \n",
       "1      Thane    Maharashtra            Thane East, Kopri Colony   \n",
       "2      Thane    Maharashtra      Chitalsar Manpada, Sandozbaugh   \n",
       "3      Thane    Maharashtra            Thane East, Kopri Colony   \n",
       "4      Thane    Maharashtra            Thane East, Kopri Colony   \n",
       "\n",
       "  Business Partner  Partner Type Data Origin  \n",
       "0              NaN           NaN         NaN  \n",
       "1              NaN           NaN         NaN  \n",
       "2              NaN           NaN         NaN  \n",
       "3              NaN           NaN         NaN  \n",
       "4              NaN           NaN         NaN  "
      ]
     },
     "execution_count": 61,
     "metadata": {},
     "output_type": "execute_result"
    }
   ],
   "source": [
    "inv_cust.head()"
   ]
  },
  {
   "cell_type": "markdown",
   "metadata": {},
   "source": [
    "### Joining inv_cust with jtd data"
   ]
  },
  {
   "cell_type": "markdown",
   "metadata": {},
   "source": [
    "#### grouping the jtd data on dbm order to reduce duplicate order entries"
   ]
  },
  {
   "cell_type": "code",
   "execution_count": 62,
   "metadata": {},
   "outputs": [],
   "source": [
    "jtd_group=jtd_data.groupby([\"DBM Order\",\"Item Category\"],as_index=False).agg({\"Net value\":'sum',\"Order Quantity\":\"sum\"})"
   ]
  },
  {
   "cell_type": "code",
   "execution_count": 63,
   "metadata": {},
   "outputs": [
    {
     "data": {
      "text/html": [
       "<div>\n",
       "<style scoped>\n",
       "    .dataframe tbody tr th:only-of-type {\n",
       "        vertical-align: middle;\n",
       "    }\n",
       "\n",
       "    .dataframe tbody tr th {\n",
       "        vertical-align: top;\n",
       "    }\n",
       "\n",
       "    .dataframe thead th {\n",
       "        text-align: right;\n",
       "    }\n",
       "</style>\n",
       "<table border=\"1\" class=\"dataframe\">\n",
       "  <thead>\n",
       "    <tr style=\"text-align: right;\">\n",
       "      <th></th>\n",
       "      <th>DBM Order</th>\n",
       "      <th>Item Category</th>\n",
       "      <th>Net value</th>\n",
       "      <th>Order Quantity</th>\n",
       "    </tr>\n",
       "  </thead>\n",
       "  <tbody>\n",
       "    <tr>\n",
       "      <th>0</th>\n",
       "      <td>4</td>\n",
       "      <td>P001</td>\n",
       "      <td>3455.92</td>\n",
       "      <td>714.0</td>\n",
       "    </tr>\n",
       "    <tr>\n",
       "      <th>1</th>\n",
       "      <td>4</td>\n",
       "      <td>P002</td>\n",
       "      <td>11042.62</td>\n",
       "      <td>15.6</td>\n",
       "    </tr>\n",
       "    <tr>\n",
       "      <th>2</th>\n",
       "      <td>4</td>\n",
       "      <td>P010</td>\n",
       "      <td>2399.95</td>\n",
       "      <td>1.0</td>\n",
       "    </tr>\n",
       "    <tr>\n",
       "      <th>3</th>\n",
       "      <td>4</td>\n",
       "      <td>P011</td>\n",
       "      <td>100.00</td>\n",
       "      <td>1.0</td>\n",
       "    </tr>\n",
       "    <tr>\n",
       "      <th>4</th>\n",
       "      <td>5</td>\n",
       "      <td>P001</td>\n",
       "      <td>2310.47</td>\n",
       "      <td>283.0</td>\n",
       "    </tr>\n",
       "  </tbody>\n",
       "</table>\n",
       "</div>"
      ],
      "text/plain": [
       "   DBM Order Item Category  Net value  Order Quantity\n",
       "0          4          P001    3455.92           714.0\n",
       "1          4          P002   11042.62            15.6\n",
       "2          4          P010    2399.95             1.0\n",
       "3          4          P011     100.00             1.0\n",
       "4          5          P001    2310.47           283.0"
      ]
     },
     "execution_count": 63,
     "metadata": {},
     "output_type": "execute_result"
    }
   ],
   "source": [
    "jtd_group.head()"
   ]
  },
  {
   "cell_type": "code",
   "execution_count": 64,
   "metadata": {},
   "outputs": [
    {
     "data": {
      "text/plain": [
       "(1735310, 4)"
      ]
     },
     "execution_count": 64,
     "metadata": {},
     "output_type": "execute_result"
    }
   ],
   "source": [
    "jtd_group.shape"
   ]
  },
  {
   "cell_type": "code",
   "execution_count": 65,
   "metadata": {},
   "outputs": [],
   "source": [
    "invoice_customer_jtd=pd.merge(inv_cust,jtd_group,how=\"left\",left_on=\"Job Card No\",right_on=\"DBM Order\")"
   ]
  },
  {
   "cell_type": "code",
   "execution_count": 66,
   "metadata": {},
   "outputs": [
    {
     "data": {
      "text/plain": [
       "(936275, 34)"
      ]
     },
     "execution_count": 66,
     "metadata": {},
     "output_type": "execute_result"
    }
   ],
   "source": [
    "invoice_customer_jtd.shape"
   ]
  },
  {
   "cell_type": "code",
   "execution_count": 67,
   "metadata": {},
   "outputs": [],
   "source": [
    "invoice_customer_jtd.to_csv('E:\\CodeChef\\Capstone Project\\Cleaned DataSet\\Cleaned_Merged_Data.csv')"
   ]
  },
  {
   "cell_type": "code",
   "execution_count": 68,
   "metadata": {},
   "outputs": [
    {
     "data": {
      "text/plain": [
       "Unnamed: 0.1                0\n",
       "Cust Type                   0\n",
       "Customer No.                0\n",
       "Gate Pass Time              0\n",
       "Invoice No                  0\n",
       "Job Card No                 0\n",
       "KMs Reading                 0\n",
       "Labour Total                0\n",
       "Make                        0\n",
       "Misc Total                  0\n",
       "Model                    3185\n",
       "OSL Total                   0\n",
       "Order Type                  0\n",
       "Parts Total                 0\n",
       "Pin code                    0\n",
       "Plant                       0\n",
       "Plant Name1                 0\n",
       "Print Status                0\n",
       "Recovrbl Exp                0\n",
       "Total Amt Wtd Tax.          0\n",
       "User ID                     0\n",
       "Invoice_DateTime            0\n",
       "JobCard_DateTime            0\n",
       "Service_Time                0\n",
       "Clean_CITY              94162\n",
       "Clean_District          94162\n",
       "Clean_Location_Area     94162\n",
       "Business Partner       894749\n",
       "Partner Type           894749\n",
       "Data Origin            894749\n",
       "DBM Order                  39\n",
       "Item Category              39\n",
       "Net value                  39\n",
       "Order Quantity             39\n",
       "dtype: int64"
      ]
     },
     "execution_count": 68,
     "metadata": {},
     "output_type": "execute_result"
    }
   ],
   "source": [
    "invoice_customer_jtd.isnull().sum()"
   ]
  },
  {
   "cell_type": "code",
   "execution_count": null,
   "metadata": {},
   "outputs": [],
   "source": []
  }
 ],
 "metadata": {
  "kernelspec": {
   "display_name": "Python 3",
   "language": "python",
   "name": "python3"
  },
  "language_info": {
   "codemirror_mode": {
    "name": "ipython",
    "version": 3
   },
   "file_extension": ".py",
   "mimetype": "text/x-python",
   "name": "python",
   "nbconvert_exporter": "python",
   "pygments_lexer": "ipython3",
   "version": "3.7.3"
  }
 },
 "nbformat": 4,
 "nbformat_minor": 2
}
