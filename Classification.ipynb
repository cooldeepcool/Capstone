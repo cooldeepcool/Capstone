{
 "cells": [
  {
   "cell_type": "code",
   "execution_count": 4,
   "metadata": {
    "colab": {},
    "colab_type": "code",
    "id": "agkCJmPGioam"
   },
   "outputs": [],
   "source": [
    "import warnings\n",
    "warnings.simplefilter('ignore')\n",
    "import pandas as pd\n",
    "import numpy as np \n",
    "import matplotlib.pyplot as plt\n",
    "import seaborn as sns\n",
    "import pgeocode\n",
    "nomi = pgeocode.Nominatim('IN')\n",
    "from sklearn.preprocessing import LabelEncoder,StandardScaler\n",
    "from sklearn.model_selection import train_test_split as tts,cross_val_score,ShuffleSplit\n",
    "from imblearn.over_sampling import SMOTE\n",
    "from sklearn.tree import DecisionTreeClassifier\n",
    "from sklearn.ensemble import RandomForestClassifier\n",
    "from xgboost import XGBClassifier\n",
    "from sklearn.cluster import KMeans\n",
    "from sklearn.decomposition import PCA\n",
    "from sklearn.metrics import accuracy_score,f1_score,classification_report,roc_auc_score\n",
    "pd.set_option('display.max_columns', None)\n",
    "pd.set_option('display.max_rows',None)"
   ]
  },
  {
   "cell_type": "code",
   "execution_count": 6,
   "metadata": {
    "colab": {
     "base_uri": "https://localhost:8080/",
     "height": 383
    },
    "colab_type": "code",
    "id": "IovcOuIGiobD",
    "outputId": "813ed19a-d5a2-45bf-d57f-c60282605862"
   },
   "outputs": [],
   "source": [
    "invoice = pd.read_csv('E:\\CodeChef\\Capstone Project\\Cleaned DataSet\\CleanedMergedData.csv')"
   ]
  },
  {
   "cell_type": "code",
   "execution_count": 7,
   "metadata": {
    "colab": {
     "base_uri": "https://localhost:8080/",
     "height": 35
    },
    "colab_type": "code",
    "id": "lsffmVJ6iobf",
    "outputId": "781daef5-34e6-4063-9f71-fad97f627df0"
   },
   "outputs": [
    {
     "data": {
      "text/plain": [
       "(936275, 35)"
      ]
     },
     "execution_count": 7,
     "metadata": {},
     "output_type": "execute_result"
    }
   ],
   "source": [
    "invoice.shape"
   ]
  },
  {
   "cell_type": "markdown",
   "metadata": {},
   "source": [
    "### Calculating service time in Hrs "
   ]
  },
  {
   "cell_type": "code",
   "execution_count": 8,
   "metadata": {},
   "outputs": [
    {
     "data": {
      "text/plain": [
       "count    936275.000000\n",
       "mean         89.878782\n",
       "std         275.095915\n",
       "min          -0.009167\n",
       "25%           4.048611\n",
       "50%          23.258889\n",
       "75%          73.230278\n",
       "max       17769.261389\n",
       "Name: Service_Time_Hrs, dtype: float64"
      ]
     },
     "execution_count": 8,
     "metadata": {},
     "output_type": "execute_result"
    }
   ],
   "source": [
    "invoice['year'] = pd.to_datetime(invoice['Invoice_DateTime']).dt.year\n",
    "invoice['month'] = pd.to_datetime(invoice['Invoice_DateTime']).dt.month\n",
    "invoice[\"Invoice_DateTime\"]=pd.to_datetime(invoice[\"Invoice_DateTime\"],dayfirst=True)\n",
    "invoice[\"JobCard_DateTime\"]=pd.to_datetime(invoice[\"JobCard_DateTime\"],dayfirst=True)\n",
    "invoice['Service_Time'] = invoice['Invoice_DateTime'] - invoice['JobCard_DateTime']\n",
    "invoice['Service_Time_Hrs'] = invoice['Service_Time']/np.timedelta64(1,'h')\n",
    "invoice['Service_Time_Hrs'].describe()"
   ]
  },
  {
   "cell_type": "code",
   "execution_count": 9,
   "metadata": {},
   "outputs": [
    {
     "data": {
      "text/html": [
       "<div>\n",
       "<style scoped>\n",
       "    .dataframe tbody tr th:only-of-type {\n",
       "        vertical-align: middle;\n",
       "    }\n",
       "\n",
       "    .dataframe tbody tr th {\n",
       "        vertical-align: top;\n",
       "    }\n",
       "\n",
       "    .dataframe thead th {\n",
       "        text-align: right;\n",
       "    }\n",
       "</style>\n",
       "<table border=\"1\" class=\"dataframe\">\n",
       "  <thead>\n",
       "    <tr style=\"text-align: right;\">\n",
       "      <th></th>\n",
       "      <th>Unnamed: 0</th>\n",
       "      <th>Unnamed: 0.1</th>\n",
       "      <th>Cust Type</th>\n",
       "      <th>Customer No.</th>\n",
       "      <th>Gate Pass Time</th>\n",
       "      <th>Invoice No</th>\n",
       "      <th>Job Card No</th>\n",
       "      <th>KMs Reading</th>\n",
       "      <th>Labour Total</th>\n",
       "      <th>Make</th>\n",
       "      <th>Misc Total</th>\n",
       "      <th>Model</th>\n",
       "      <th>OSL Total</th>\n",
       "      <th>Order Type</th>\n",
       "      <th>Parts Total</th>\n",
       "      <th>Pin code</th>\n",
       "      <th>Plant</th>\n",
       "      <th>Plant Name1</th>\n",
       "      <th>Print Status</th>\n",
       "      <th>Recovrbl Exp</th>\n",
       "      <th>Total Amt Wtd Tax.</th>\n",
       "      <th>User ID</th>\n",
       "      <th>Clean_Location</th>\n",
       "      <th>Clean_City</th>\n",
       "      <th>Clean_State</th>\n",
       "      <th>JobCard_DateTime</th>\n",
       "      <th>Invoice_DateTime</th>\n",
       "      <th>Service_Time</th>\n",
       "      <th>Business Partner</th>\n",
       "      <th>Partner Type</th>\n",
       "      <th>Data Origin</th>\n",
       "      <th>DBM Order</th>\n",
       "      <th>Item Category</th>\n",
       "      <th>Net value</th>\n",
       "      <th>Order Quantity</th>\n",
       "      <th>year</th>\n",
       "      <th>month</th>\n",
       "      <th>Service_Time_Hrs</th>\n",
       "    </tr>\n",
       "  </thead>\n",
       "  <tbody>\n",
       "    <tr>\n",
       "      <th>714423</th>\n",
       "      <td>714423</td>\n",
       "      <td>794156</td>\n",
       "      <td>Retail</td>\n",
       "      <td>182085</td>\n",
       "      <td>00:00:00</td>\n",
       "      <td>7167000988</td>\n",
       "      <td>363294</td>\n",
       "      <td>62001</td>\n",
       "      <td>0.0</td>\n",
       "      <td>MARUTI SUZUKI</td>\n",
       "      <td>0.0</td>\n",
       "      <td>SWIFT DZIRE</td>\n",
       "      <td>0.0</td>\n",
       "      <td>Running Repairs</td>\n",
       "      <td>0.0</td>\n",
       "      <td>603103</td>\n",
       "      <td>X085</td>\n",
       "      <td>X085 - SRI MOTORS</td>\n",
       "      <td>NO</td>\n",
       "      <td>0.0</td>\n",
       "      <td>0.0</td>\n",
       "      <td>X085SA1</td>\n",
       "      <td>Pudupakkam, Padur, Kelambakkam, Thaiyur</td>\n",
       "      <td>Kanchipuram</td>\n",
       "      <td>Tamil Nadu</td>\n",
       "      <td>2016-05-02 15:12:44</td>\n",
       "      <td>2016-05-02 15:12:11</td>\n",
       "      <td>-1 days +23:59:27</td>\n",
       "      <td>NaN</td>\n",
       "      <td>NaN</td>\n",
       "      <td>NaN</td>\n",
       "      <td>363294.0</td>\n",
       "      <td>G2TX</td>\n",
       "      <td>0.0</td>\n",
       "      <td>0.0</td>\n",
       "      <td>2016</td>\n",
       "      <td>5</td>\n",
       "      <td>-0.009167</td>\n",
       "    </tr>\n",
       "  </tbody>\n",
       "</table>\n",
       "</div>"
      ],
      "text/plain": [
       "        Unnamed: 0  Unnamed: 0.1 Cust Type Customer No. Gate Pass Time  \\\n",
       "714423      714423        794156    Retail       182085       00:00:00   \n",
       "\n",
       "        Invoice No  Job Card No  KMs Reading  Labour Total           Make  \\\n",
       "714423  7167000988       363294        62001           0.0  MARUTI SUZUKI   \n",
       "\n",
       "        Misc Total        Model  OSL Total       Order Type  Parts Total  \\\n",
       "714423         0.0  SWIFT DZIRE        0.0  Running Repairs          0.0   \n",
       "\n",
       "        Pin code Plant        Plant Name1 Print Status  Recovrbl Exp  \\\n",
       "714423    603103  X085  X085 - SRI MOTORS           NO           0.0   \n",
       "\n",
       "        Total Amt Wtd Tax.  User ID                           Clean_Location  \\\n",
       "714423                 0.0  X085SA1  Pudupakkam, Padur, Kelambakkam, Thaiyur   \n",
       "\n",
       "         Clean_City Clean_State    JobCard_DateTime    Invoice_DateTime  \\\n",
       "714423  Kanchipuram  Tamil Nadu 2016-05-02 15:12:44 2016-05-02 15:12:11   \n",
       "\n",
       "            Service_Time Business Partner  Partner Type Data Origin  \\\n",
       "714423 -1 days +23:59:27              NaN           NaN         NaN   \n",
       "\n",
       "        DBM Order Item Category  Net value  Order Quantity  year  month  \\\n",
       "714423   363294.0          G2TX        0.0             0.0  2016      5   \n",
       "\n",
       "        Service_Time_Hrs  \n",
       "714423         -0.009167  "
      ]
     },
     "execution_count": 9,
     "metadata": {},
     "output_type": "execute_result"
    }
   ],
   "source": [
    "invoice[invoice['Service_Time_Hrs']<0]"
   ]
  },
  {
   "cell_type": "code",
   "execution_count": 10,
   "metadata": {},
   "outputs": [],
   "source": [
    "# dropping a row where service time is in negative\n",
    "invoice.drop(index=714423,axis=0,inplace=True)"
   ]
  },
  {
   "cell_type": "code",
   "execution_count": 11,
   "metadata": {},
   "outputs": [
    {
     "data": {
      "text/html": [
       "<div>\n",
       "<style scoped>\n",
       "    .dataframe tbody tr th:only-of-type {\n",
       "        vertical-align: middle;\n",
       "    }\n",
       "\n",
       "    .dataframe tbody tr th {\n",
       "        vertical-align: top;\n",
       "    }\n",
       "\n",
       "    .dataframe thead th {\n",
       "        text-align: right;\n",
       "    }\n",
       "</style>\n",
       "<table border=\"1\" class=\"dataframe\">\n",
       "  <thead>\n",
       "    <tr style=\"text-align: right;\">\n",
       "      <th></th>\n",
       "      <th>Unnamed: 0</th>\n",
       "      <th>Unnamed: 0.1</th>\n",
       "      <th>Cust Type</th>\n",
       "      <th>Customer No.</th>\n",
       "      <th>Gate Pass Time</th>\n",
       "      <th>Invoice No</th>\n",
       "      <th>Job Card No</th>\n",
       "      <th>KMs Reading</th>\n",
       "      <th>Labour Total</th>\n",
       "      <th>Make</th>\n",
       "      <th>Misc Total</th>\n",
       "      <th>Model</th>\n",
       "      <th>OSL Total</th>\n",
       "      <th>Order Type</th>\n",
       "      <th>Parts Total</th>\n",
       "      <th>Pin code</th>\n",
       "      <th>Plant</th>\n",
       "      <th>Plant Name1</th>\n",
       "      <th>Print Status</th>\n",
       "      <th>Recovrbl Exp</th>\n",
       "      <th>Total Amt Wtd Tax.</th>\n",
       "      <th>User ID</th>\n",
       "      <th>Clean_Location</th>\n",
       "      <th>Clean_City</th>\n",
       "      <th>Clean_State</th>\n",
       "      <th>JobCard_DateTime</th>\n",
       "      <th>Invoice_DateTime</th>\n",
       "      <th>Service_Time</th>\n",
       "      <th>Business Partner</th>\n",
       "      <th>Partner Type</th>\n",
       "      <th>Data Origin</th>\n",
       "      <th>DBM Order</th>\n",
       "      <th>Item Category</th>\n",
       "      <th>Net value</th>\n",
       "      <th>Order Quantity</th>\n",
       "      <th>year</th>\n",
       "      <th>month</th>\n",
       "      <th>Service_Time_Hrs</th>\n",
       "    </tr>\n",
       "  </thead>\n",
       "  <tbody>\n",
       "    <tr>\n",
       "      <th>0</th>\n",
       "      <td>0</td>\n",
       "      <td>0</td>\n",
       "      <td>Retail</td>\n",
       "      <td>67849</td>\n",
       "      <td>00:00:00</td>\n",
       "      <td>7005200002</td>\n",
       "      <td>168303</td>\n",
       "      <td>49317</td>\n",
       "      <td>1203.14</td>\n",
       "      <td>GENERAL MOTORS</td>\n",
       "      <td>0.00</td>\n",
       "      <td>SPARK</td>\n",
       "      <td>500.06</td>\n",
       "      <td>Paid Service</td>\n",
       "      <td>2348.75</td>\n",
       "      <td>400601</td>\n",
       "      <td>BC01</td>\n",
       "      <td>THANE</td>\n",
       "      <td>NO</td>\n",
       "      <td>0.0</td>\n",
       "      <td>4051.95</td>\n",
       "      <td>BC01FS1</td>\n",
       "      <td>Thane Bazar, Thane H.O, Thane R.S.</td>\n",
       "      <td>Thane</td>\n",
       "      <td>Maharashtra</td>\n",
       "      <td>2014-12-13 14:29:43</td>\n",
       "      <td>2015-01-02 11:30:36</td>\n",
       "      <td>19 days 21:00:53</td>\n",
       "      <td>NaN</td>\n",
       "      <td>NaN</td>\n",
       "      <td>NaN</td>\n",
       "      <td>168303.0</td>\n",
       "      <td>P001</td>\n",
       "      <td>1203.14</td>\n",
       "      <td>73.0</td>\n",
       "      <td>2015</td>\n",
       "      <td>1</td>\n",
       "      <td>477.014722</td>\n",
       "    </tr>\n",
       "    <tr>\n",
       "      <th>1</th>\n",
       "      <td>1</td>\n",
       "      <td>0</td>\n",
       "      <td>Retail</td>\n",
       "      <td>67849</td>\n",
       "      <td>00:00:00</td>\n",
       "      <td>7005200002</td>\n",
       "      <td>168303</td>\n",
       "      <td>49317</td>\n",
       "      <td>1203.14</td>\n",
       "      <td>GENERAL MOTORS</td>\n",
       "      <td>0.00</td>\n",
       "      <td>SPARK</td>\n",
       "      <td>500.06</td>\n",
       "      <td>Paid Service</td>\n",
       "      <td>2348.75</td>\n",
       "      <td>400601</td>\n",
       "      <td>BC01</td>\n",
       "      <td>THANE</td>\n",
       "      <td>NO</td>\n",
       "      <td>0.0</td>\n",
       "      <td>4051.95</td>\n",
       "      <td>BC01FS1</td>\n",
       "      <td>Thane Bazar, Thane H.O, Thane R.S.</td>\n",
       "      <td>Thane</td>\n",
       "      <td>Maharashtra</td>\n",
       "      <td>2014-12-13 14:29:43</td>\n",
       "      <td>2015-01-02 11:30:36</td>\n",
       "      <td>19 days 21:00:53</td>\n",
       "      <td>NaN</td>\n",
       "      <td>NaN</td>\n",
       "      <td>NaN</td>\n",
       "      <td>168303.0</td>\n",
       "      <td>P002</td>\n",
       "      <td>2348.75</td>\n",
       "      <td>6.5</td>\n",
       "      <td>2015</td>\n",
       "      <td>1</td>\n",
       "      <td>477.014722</td>\n",
       "    </tr>\n",
       "    <tr>\n",
       "      <th>2</th>\n",
       "      <td>2</td>\n",
       "      <td>0</td>\n",
       "      <td>Retail</td>\n",
       "      <td>67849</td>\n",
       "      <td>00:00:00</td>\n",
       "      <td>7005200002</td>\n",
       "      <td>168303</td>\n",
       "      <td>49317</td>\n",
       "      <td>1203.14</td>\n",
       "      <td>GENERAL MOTORS</td>\n",
       "      <td>0.00</td>\n",
       "      <td>SPARK</td>\n",
       "      <td>500.06</td>\n",
       "      <td>Paid Service</td>\n",
       "      <td>2348.75</td>\n",
       "      <td>400601</td>\n",
       "      <td>BC01</td>\n",
       "      <td>THANE</td>\n",
       "      <td>NO</td>\n",
       "      <td>0.0</td>\n",
       "      <td>4051.95</td>\n",
       "      <td>BC01FS1</td>\n",
       "      <td>Thane Bazar, Thane H.O, Thane R.S.</td>\n",
       "      <td>Thane</td>\n",
       "      <td>Maharashtra</td>\n",
       "      <td>2014-12-13 14:29:43</td>\n",
       "      <td>2015-01-02 11:30:36</td>\n",
       "      <td>19 days 21:00:53</td>\n",
       "      <td>NaN</td>\n",
       "      <td>NaN</td>\n",
       "      <td>NaN</td>\n",
       "      <td>168303.0</td>\n",
       "      <td>P010</td>\n",
       "      <td>500.06</td>\n",
       "      <td>1.0</td>\n",
       "      <td>2015</td>\n",
       "      <td>1</td>\n",
       "      <td>477.014722</td>\n",
       "    </tr>\n",
       "    <tr>\n",
       "      <th>3</th>\n",
       "      <td>3</td>\n",
       "      <td>1</td>\n",
       "      <td>Retail</td>\n",
       "      <td>84419</td>\n",
       "      <td>00:00:00</td>\n",
       "      <td>7005200003</td>\n",
       "      <td>173997</td>\n",
       "      <td>78584</td>\n",
       "      <td>804.26</td>\n",
       "      <td>TATA MOTORS</td>\n",
       "      <td>197.03</td>\n",
       "      <td>INDICA</td>\n",
       "      <td>0.00</td>\n",
       "      <td>SMC Value Package</td>\n",
       "      <td>0.00</td>\n",
       "      <td>400603</td>\n",
       "      <td>BC01</td>\n",
       "      <td>THANE</td>\n",
       "      <td>NO</td>\n",
       "      <td>0.0</td>\n",
       "      <td>1001.29</td>\n",
       "      <td>BC01SA2</td>\n",
       "      <td>Thane East, Kopri Colony</td>\n",
       "      <td>Thane</td>\n",
       "      <td>Maharashtra</td>\n",
       "      <td>2015-01-02 14:12:18</td>\n",
       "      <td>2015-01-03 10:07:32</td>\n",
       "      <td>0 days 19:55:14</td>\n",
       "      <td>NaN</td>\n",
       "      <td>NaN</td>\n",
       "      <td>NaN</td>\n",
       "      <td>173997.0</td>\n",
       "      <td>P001</td>\n",
       "      <td>804.26</td>\n",
       "      <td>170.0</td>\n",
       "      <td>2015</td>\n",
       "      <td>1</td>\n",
       "      <td>19.920556</td>\n",
       "    </tr>\n",
       "    <tr>\n",
       "      <th>4</th>\n",
       "      <td>4</td>\n",
       "      <td>1</td>\n",
       "      <td>Retail</td>\n",
       "      <td>84419</td>\n",
       "      <td>00:00:00</td>\n",
       "      <td>7005200003</td>\n",
       "      <td>173997</td>\n",
       "      <td>78584</td>\n",
       "      <td>804.26</td>\n",
       "      <td>TATA MOTORS</td>\n",
       "      <td>197.03</td>\n",
       "      <td>INDICA</td>\n",
       "      <td>0.00</td>\n",
       "      <td>SMC Value Package</td>\n",
       "      <td>0.00</td>\n",
       "      <td>400603</td>\n",
       "      <td>BC01</td>\n",
       "      <td>THANE</td>\n",
       "      <td>NO</td>\n",
       "      <td>0.0</td>\n",
       "      <td>1001.29</td>\n",
       "      <td>BC01SA2</td>\n",
       "      <td>Thane East, Kopri Colony</td>\n",
       "      <td>Thane</td>\n",
       "      <td>Maharashtra</td>\n",
       "      <td>2015-01-02 14:12:18</td>\n",
       "      <td>2015-01-03 10:07:32</td>\n",
       "      <td>0 days 19:55:14</td>\n",
       "      <td>NaN</td>\n",
       "      <td>NaN</td>\n",
       "      <td>NaN</td>\n",
       "      <td>173997.0</td>\n",
       "      <td>P011</td>\n",
       "      <td>197.03</td>\n",
       "      <td>1.0</td>\n",
       "      <td>2015</td>\n",
       "      <td>1</td>\n",
       "      <td>19.920556</td>\n",
       "    </tr>\n",
       "  </tbody>\n",
       "</table>\n",
       "</div>"
      ],
      "text/plain": [
       "   Unnamed: 0  Unnamed: 0.1 Cust Type Customer No. Gate Pass Time  Invoice No  \\\n",
       "0           0             0    Retail        67849       00:00:00  7005200002   \n",
       "1           1             0    Retail        67849       00:00:00  7005200002   \n",
       "2           2             0    Retail        67849       00:00:00  7005200002   \n",
       "3           3             1    Retail        84419       00:00:00  7005200003   \n",
       "4           4             1    Retail        84419       00:00:00  7005200003   \n",
       "\n",
       "   Job Card No  KMs Reading  Labour Total            Make  Misc Total   Model  \\\n",
       "0       168303        49317       1203.14  GENERAL MOTORS        0.00   SPARK   \n",
       "1       168303        49317       1203.14  GENERAL MOTORS        0.00   SPARK   \n",
       "2       168303        49317       1203.14  GENERAL MOTORS        0.00   SPARK   \n",
       "3       173997        78584        804.26     TATA MOTORS      197.03  INDICA   \n",
       "4       173997        78584        804.26     TATA MOTORS      197.03  INDICA   \n",
       "\n",
       "   OSL Total         Order Type  Parts Total  Pin code Plant Plant Name1  \\\n",
       "0     500.06       Paid Service      2348.75    400601  BC01       THANE   \n",
       "1     500.06       Paid Service      2348.75    400601  BC01       THANE   \n",
       "2     500.06       Paid Service      2348.75    400601  BC01       THANE   \n",
       "3       0.00  SMC Value Package         0.00    400603  BC01       THANE   \n",
       "4       0.00  SMC Value Package         0.00    400603  BC01       THANE   \n",
       "\n",
       "  Print Status  Recovrbl Exp  Total Amt Wtd Tax.  User ID  \\\n",
       "0           NO           0.0             4051.95  BC01FS1   \n",
       "1           NO           0.0             4051.95  BC01FS1   \n",
       "2           NO           0.0             4051.95  BC01FS1   \n",
       "3           NO           0.0             1001.29  BC01SA2   \n",
       "4           NO           0.0             1001.29  BC01SA2   \n",
       "\n",
       "                       Clean_Location Clean_City  Clean_State  \\\n",
       "0  Thane Bazar, Thane H.O, Thane R.S.      Thane  Maharashtra   \n",
       "1  Thane Bazar, Thane H.O, Thane R.S.      Thane  Maharashtra   \n",
       "2  Thane Bazar, Thane H.O, Thane R.S.      Thane  Maharashtra   \n",
       "3            Thane East, Kopri Colony      Thane  Maharashtra   \n",
       "4            Thane East, Kopri Colony      Thane  Maharashtra   \n",
       "\n",
       "     JobCard_DateTime    Invoice_DateTime     Service_Time Business Partner  \\\n",
       "0 2014-12-13 14:29:43 2015-01-02 11:30:36 19 days 21:00:53              NaN   \n",
       "1 2014-12-13 14:29:43 2015-01-02 11:30:36 19 days 21:00:53              NaN   \n",
       "2 2014-12-13 14:29:43 2015-01-02 11:30:36 19 days 21:00:53              NaN   \n",
       "3 2015-01-02 14:12:18 2015-01-03 10:07:32  0 days 19:55:14              NaN   \n",
       "4 2015-01-02 14:12:18 2015-01-03 10:07:32  0 days 19:55:14              NaN   \n",
       "\n",
       "   Partner Type Data Origin  DBM Order Item Category  Net value  \\\n",
       "0           NaN         NaN   168303.0          P001    1203.14   \n",
       "1           NaN         NaN   168303.0          P002    2348.75   \n",
       "2           NaN         NaN   168303.0          P010     500.06   \n",
       "3           NaN         NaN   173997.0          P001     804.26   \n",
       "4           NaN         NaN   173997.0          P011     197.03   \n",
       "\n",
       "   Order Quantity  year  month  Service_Time_Hrs  \n",
       "0            73.0  2015      1        477.014722  \n",
       "1             6.5  2015      1        477.014722  \n",
       "2             1.0  2015      1        477.014722  \n",
       "3           170.0  2015      1         19.920556  \n",
       "4             1.0  2015      1         19.920556  "
      ]
     },
     "execution_count": 11,
     "metadata": {},
     "output_type": "execute_result"
    }
   ],
   "source": [
    "invoice.head()"
   ]
  },
  {
   "cell_type": "markdown",
   "metadata": {
    "colab_type": "text",
    "id": "S-N_WbWLiofR"
   },
   "source": [
    "### Calculation of Life Time Value for each customer over a period of 2015 (1 year) based on \"Make\" and \"Model\" of the cars"
   ]
  },
  {
   "cell_type": "code",
   "execution_count": 13,
   "metadata": {
    "colab": {},
    "colab_type": "code",
    "id": "mKAeRcMeiofU"
   },
   "outputs": [],
   "source": [
    "invoice_15=invoice[invoice[\"year\"]==2015]"
   ]
  },
  {
   "cell_type": "code",
   "execution_count": 14,
   "metadata": {
    "colab": {
     "base_uri": "https://localhost:8080/",
     "height": 35
    },
    "colab_type": "code",
    "id": "4iczUaJgiofa",
    "outputId": "d1e56b3a-756a-4754-a9a2-99f29dbd4e12"
   },
   "outputs": [
    {
     "data": {
      "text/plain": [
       "(248353, 38)"
      ]
     },
     "execution_count": 14,
     "metadata": {},
     "output_type": "execute_result"
    }
   ],
   "source": [
    "invoice_15.shape"
   ]
  },
  {
   "cell_type": "code",
   "execution_count": 15,
   "metadata": {
    "colab": {
     "base_uri": "https://localhost:8080/",
     "height": 348
    },
    "colab_type": "code",
    "id": "NKfplMg1iofm",
    "outputId": "6cee1f54-8aef-41e2-8ae0-0b123a647de5"
   },
   "outputs": [
    {
     "data": {
      "text/html": [
       "<div>\n",
       "<style scoped>\n",
       "    .dataframe tbody tr th:only-of-type {\n",
       "        vertical-align: middle;\n",
       "    }\n",
       "\n",
       "    .dataframe tbody tr th {\n",
       "        vertical-align: top;\n",
       "    }\n",
       "\n",
       "    .dataframe thead th {\n",
       "        text-align: right;\n",
       "    }\n",
       "</style>\n",
       "<table border=\"1\" class=\"dataframe\">\n",
       "  <thead>\n",
       "    <tr style=\"text-align: right;\">\n",
       "      <th></th>\n",
       "      <th>Unnamed: 0</th>\n",
       "      <th>Unnamed: 0.1</th>\n",
       "      <th>Cust Type</th>\n",
       "      <th>Customer No.</th>\n",
       "      <th>Gate Pass Time</th>\n",
       "      <th>Invoice No</th>\n",
       "      <th>Job Card No</th>\n",
       "      <th>KMs Reading</th>\n",
       "      <th>Labour Total</th>\n",
       "      <th>Make</th>\n",
       "      <th>Misc Total</th>\n",
       "      <th>Model</th>\n",
       "      <th>OSL Total</th>\n",
       "      <th>Order Type</th>\n",
       "      <th>Parts Total</th>\n",
       "      <th>Pin code</th>\n",
       "      <th>Plant</th>\n",
       "      <th>Plant Name1</th>\n",
       "      <th>Print Status</th>\n",
       "      <th>Recovrbl Exp</th>\n",
       "      <th>Total Amt Wtd Tax.</th>\n",
       "      <th>User ID</th>\n",
       "      <th>Clean_Location</th>\n",
       "      <th>Clean_City</th>\n",
       "      <th>Clean_State</th>\n",
       "      <th>JobCard_DateTime</th>\n",
       "      <th>Invoice_DateTime</th>\n",
       "      <th>Service_Time</th>\n",
       "      <th>Business Partner</th>\n",
       "      <th>Partner Type</th>\n",
       "      <th>Data Origin</th>\n",
       "      <th>DBM Order</th>\n",
       "      <th>Item Category</th>\n",
       "      <th>Net value</th>\n",
       "      <th>Order Quantity</th>\n",
       "      <th>year</th>\n",
       "      <th>month</th>\n",
       "      <th>Service_Time_Hrs</th>\n",
       "    </tr>\n",
       "  </thead>\n",
       "  <tbody>\n",
       "    <tr>\n",
       "      <th>0</th>\n",
       "      <td>0</td>\n",
       "      <td>0</td>\n",
       "      <td>Retail</td>\n",
       "      <td>67849</td>\n",
       "      <td>00:00:00</td>\n",
       "      <td>7005200002</td>\n",
       "      <td>168303</td>\n",
       "      <td>49317</td>\n",
       "      <td>1203.14</td>\n",
       "      <td>GENERAL MOTORS</td>\n",
       "      <td>0.00</td>\n",
       "      <td>SPARK</td>\n",
       "      <td>500.06</td>\n",
       "      <td>Paid Service</td>\n",
       "      <td>2348.75</td>\n",
       "      <td>400601</td>\n",
       "      <td>BC01</td>\n",
       "      <td>THANE</td>\n",
       "      <td>NO</td>\n",
       "      <td>0.0</td>\n",
       "      <td>4051.95</td>\n",
       "      <td>BC01FS1</td>\n",
       "      <td>Thane Bazar, Thane H.O, Thane R.S.</td>\n",
       "      <td>Thane</td>\n",
       "      <td>Maharashtra</td>\n",
       "      <td>2014-12-13 14:29:43</td>\n",
       "      <td>2015-01-02 11:30:36</td>\n",
       "      <td>19 days 21:00:53</td>\n",
       "      <td>NaN</td>\n",
       "      <td>NaN</td>\n",
       "      <td>NaN</td>\n",
       "      <td>168303.0</td>\n",
       "      <td>P001</td>\n",
       "      <td>1203.14</td>\n",
       "      <td>73.0</td>\n",
       "      <td>2015</td>\n",
       "      <td>1</td>\n",
       "      <td>477.014722</td>\n",
       "    </tr>\n",
       "    <tr>\n",
       "      <th>1</th>\n",
       "      <td>1</td>\n",
       "      <td>0</td>\n",
       "      <td>Retail</td>\n",
       "      <td>67849</td>\n",
       "      <td>00:00:00</td>\n",
       "      <td>7005200002</td>\n",
       "      <td>168303</td>\n",
       "      <td>49317</td>\n",
       "      <td>1203.14</td>\n",
       "      <td>GENERAL MOTORS</td>\n",
       "      <td>0.00</td>\n",
       "      <td>SPARK</td>\n",
       "      <td>500.06</td>\n",
       "      <td>Paid Service</td>\n",
       "      <td>2348.75</td>\n",
       "      <td>400601</td>\n",
       "      <td>BC01</td>\n",
       "      <td>THANE</td>\n",
       "      <td>NO</td>\n",
       "      <td>0.0</td>\n",
       "      <td>4051.95</td>\n",
       "      <td>BC01FS1</td>\n",
       "      <td>Thane Bazar, Thane H.O, Thane R.S.</td>\n",
       "      <td>Thane</td>\n",
       "      <td>Maharashtra</td>\n",
       "      <td>2014-12-13 14:29:43</td>\n",
       "      <td>2015-01-02 11:30:36</td>\n",
       "      <td>19 days 21:00:53</td>\n",
       "      <td>NaN</td>\n",
       "      <td>NaN</td>\n",
       "      <td>NaN</td>\n",
       "      <td>168303.0</td>\n",
       "      <td>P002</td>\n",
       "      <td>2348.75</td>\n",
       "      <td>6.5</td>\n",
       "      <td>2015</td>\n",
       "      <td>1</td>\n",
       "      <td>477.014722</td>\n",
       "    </tr>\n",
       "    <tr>\n",
       "      <th>2</th>\n",
       "      <td>2</td>\n",
       "      <td>0</td>\n",
       "      <td>Retail</td>\n",
       "      <td>67849</td>\n",
       "      <td>00:00:00</td>\n",
       "      <td>7005200002</td>\n",
       "      <td>168303</td>\n",
       "      <td>49317</td>\n",
       "      <td>1203.14</td>\n",
       "      <td>GENERAL MOTORS</td>\n",
       "      <td>0.00</td>\n",
       "      <td>SPARK</td>\n",
       "      <td>500.06</td>\n",
       "      <td>Paid Service</td>\n",
       "      <td>2348.75</td>\n",
       "      <td>400601</td>\n",
       "      <td>BC01</td>\n",
       "      <td>THANE</td>\n",
       "      <td>NO</td>\n",
       "      <td>0.0</td>\n",
       "      <td>4051.95</td>\n",
       "      <td>BC01FS1</td>\n",
       "      <td>Thane Bazar, Thane H.O, Thane R.S.</td>\n",
       "      <td>Thane</td>\n",
       "      <td>Maharashtra</td>\n",
       "      <td>2014-12-13 14:29:43</td>\n",
       "      <td>2015-01-02 11:30:36</td>\n",
       "      <td>19 days 21:00:53</td>\n",
       "      <td>NaN</td>\n",
       "      <td>NaN</td>\n",
       "      <td>NaN</td>\n",
       "      <td>168303.0</td>\n",
       "      <td>P010</td>\n",
       "      <td>500.06</td>\n",
       "      <td>1.0</td>\n",
       "      <td>2015</td>\n",
       "      <td>1</td>\n",
       "      <td>477.014722</td>\n",
       "    </tr>\n",
       "    <tr>\n",
       "      <th>3</th>\n",
       "      <td>3</td>\n",
       "      <td>1</td>\n",
       "      <td>Retail</td>\n",
       "      <td>84419</td>\n",
       "      <td>00:00:00</td>\n",
       "      <td>7005200003</td>\n",
       "      <td>173997</td>\n",
       "      <td>78584</td>\n",
       "      <td>804.26</td>\n",
       "      <td>TATA MOTORS</td>\n",
       "      <td>197.03</td>\n",
       "      <td>INDICA</td>\n",
       "      <td>0.00</td>\n",
       "      <td>SMC Value Package</td>\n",
       "      <td>0.00</td>\n",
       "      <td>400603</td>\n",
       "      <td>BC01</td>\n",
       "      <td>THANE</td>\n",
       "      <td>NO</td>\n",
       "      <td>0.0</td>\n",
       "      <td>1001.29</td>\n",
       "      <td>BC01SA2</td>\n",
       "      <td>Thane East, Kopri Colony</td>\n",
       "      <td>Thane</td>\n",
       "      <td>Maharashtra</td>\n",
       "      <td>2015-01-02 14:12:18</td>\n",
       "      <td>2015-01-03 10:07:32</td>\n",
       "      <td>0 days 19:55:14</td>\n",
       "      <td>NaN</td>\n",
       "      <td>NaN</td>\n",
       "      <td>NaN</td>\n",
       "      <td>173997.0</td>\n",
       "      <td>P001</td>\n",
       "      <td>804.26</td>\n",
       "      <td>170.0</td>\n",
       "      <td>2015</td>\n",
       "      <td>1</td>\n",
       "      <td>19.920556</td>\n",
       "    </tr>\n",
       "    <tr>\n",
       "      <th>4</th>\n",
       "      <td>4</td>\n",
       "      <td>1</td>\n",
       "      <td>Retail</td>\n",
       "      <td>84419</td>\n",
       "      <td>00:00:00</td>\n",
       "      <td>7005200003</td>\n",
       "      <td>173997</td>\n",
       "      <td>78584</td>\n",
       "      <td>804.26</td>\n",
       "      <td>TATA MOTORS</td>\n",
       "      <td>197.03</td>\n",
       "      <td>INDICA</td>\n",
       "      <td>0.00</td>\n",
       "      <td>SMC Value Package</td>\n",
       "      <td>0.00</td>\n",
       "      <td>400603</td>\n",
       "      <td>BC01</td>\n",
       "      <td>THANE</td>\n",
       "      <td>NO</td>\n",
       "      <td>0.0</td>\n",
       "      <td>1001.29</td>\n",
       "      <td>BC01SA2</td>\n",
       "      <td>Thane East, Kopri Colony</td>\n",
       "      <td>Thane</td>\n",
       "      <td>Maharashtra</td>\n",
       "      <td>2015-01-02 14:12:18</td>\n",
       "      <td>2015-01-03 10:07:32</td>\n",
       "      <td>0 days 19:55:14</td>\n",
       "      <td>NaN</td>\n",
       "      <td>NaN</td>\n",
       "      <td>NaN</td>\n",
       "      <td>173997.0</td>\n",
       "      <td>P011</td>\n",
       "      <td>197.03</td>\n",
       "      <td>1.0</td>\n",
       "      <td>2015</td>\n",
       "      <td>1</td>\n",
       "      <td>19.920556</td>\n",
       "    </tr>\n",
       "  </tbody>\n",
       "</table>\n",
       "</div>"
      ],
      "text/plain": [
       "   Unnamed: 0  Unnamed: 0.1 Cust Type Customer No. Gate Pass Time  Invoice No  \\\n",
       "0           0             0    Retail        67849       00:00:00  7005200002   \n",
       "1           1             0    Retail        67849       00:00:00  7005200002   \n",
       "2           2             0    Retail        67849       00:00:00  7005200002   \n",
       "3           3             1    Retail        84419       00:00:00  7005200003   \n",
       "4           4             1    Retail        84419       00:00:00  7005200003   \n",
       "\n",
       "   Job Card No  KMs Reading  Labour Total            Make  Misc Total   Model  \\\n",
       "0       168303        49317       1203.14  GENERAL MOTORS        0.00   SPARK   \n",
       "1       168303        49317       1203.14  GENERAL MOTORS        0.00   SPARK   \n",
       "2       168303        49317       1203.14  GENERAL MOTORS        0.00   SPARK   \n",
       "3       173997        78584        804.26     TATA MOTORS      197.03  INDICA   \n",
       "4       173997        78584        804.26     TATA MOTORS      197.03  INDICA   \n",
       "\n",
       "   OSL Total         Order Type  Parts Total  Pin code Plant Plant Name1  \\\n",
       "0     500.06       Paid Service      2348.75    400601  BC01       THANE   \n",
       "1     500.06       Paid Service      2348.75    400601  BC01       THANE   \n",
       "2     500.06       Paid Service      2348.75    400601  BC01       THANE   \n",
       "3       0.00  SMC Value Package         0.00    400603  BC01       THANE   \n",
       "4       0.00  SMC Value Package         0.00    400603  BC01       THANE   \n",
       "\n",
       "  Print Status  Recovrbl Exp  Total Amt Wtd Tax.  User ID  \\\n",
       "0           NO           0.0             4051.95  BC01FS1   \n",
       "1           NO           0.0             4051.95  BC01FS1   \n",
       "2           NO           0.0             4051.95  BC01FS1   \n",
       "3           NO           0.0             1001.29  BC01SA2   \n",
       "4           NO           0.0             1001.29  BC01SA2   \n",
       "\n",
       "                       Clean_Location Clean_City  Clean_State  \\\n",
       "0  Thane Bazar, Thane H.O, Thane R.S.      Thane  Maharashtra   \n",
       "1  Thane Bazar, Thane H.O, Thane R.S.      Thane  Maharashtra   \n",
       "2  Thane Bazar, Thane H.O, Thane R.S.      Thane  Maharashtra   \n",
       "3            Thane East, Kopri Colony      Thane  Maharashtra   \n",
       "4            Thane East, Kopri Colony      Thane  Maharashtra   \n",
       "\n",
       "     JobCard_DateTime    Invoice_DateTime     Service_Time Business Partner  \\\n",
       "0 2014-12-13 14:29:43 2015-01-02 11:30:36 19 days 21:00:53              NaN   \n",
       "1 2014-12-13 14:29:43 2015-01-02 11:30:36 19 days 21:00:53              NaN   \n",
       "2 2014-12-13 14:29:43 2015-01-02 11:30:36 19 days 21:00:53              NaN   \n",
       "3 2015-01-02 14:12:18 2015-01-03 10:07:32  0 days 19:55:14              NaN   \n",
       "4 2015-01-02 14:12:18 2015-01-03 10:07:32  0 days 19:55:14              NaN   \n",
       "\n",
       "   Partner Type Data Origin  DBM Order Item Category  Net value  \\\n",
       "0           NaN         NaN   168303.0          P001    1203.14   \n",
       "1           NaN         NaN   168303.0          P002    2348.75   \n",
       "2           NaN         NaN   168303.0          P010     500.06   \n",
       "3           NaN         NaN   173997.0          P001     804.26   \n",
       "4           NaN         NaN   173997.0          P011     197.03   \n",
       "\n",
       "   Order Quantity  year  month  Service_Time_Hrs  \n",
       "0            73.0  2015      1        477.014722  \n",
       "1             6.5  2015      1        477.014722  \n",
       "2             1.0  2015      1        477.014722  \n",
       "3           170.0  2015      1         19.920556  \n",
       "4             1.0  2015      1         19.920556  "
      ]
     },
     "execution_count": 15,
     "metadata": {},
     "output_type": "execute_result"
    }
   ],
   "source": [
    "invoice_15.head()"
   ]
  },
  {
   "cell_type": "code",
   "execution_count": 17,
   "metadata": {
    "colab": {
     "base_uri": "https://localhost:8080/",
     "height": 348
    },
    "colab_type": "code",
    "id": "r_wYXYEpiofw",
    "outputId": "adc447e9-824f-43f6-e24c-ffde4f47141e"
   },
   "outputs": [
    {
     "data": {
      "text/html": [
       "<div>\n",
       "<style scoped>\n",
       "    .dataframe tbody tr th:only-of-type {\n",
       "        vertical-align: middle;\n",
       "    }\n",
       "\n",
       "    .dataframe tbody tr th {\n",
       "        vertical-align: top;\n",
       "    }\n",
       "\n",
       "    .dataframe thead th {\n",
       "        text-align: right;\n",
       "    }\n",
       "</style>\n",
       "<table border=\"1\" class=\"dataframe\">\n",
       "  <thead>\n",
       "    <tr style=\"text-align: right;\">\n",
       "      <th></th>\n",
       "      <th>Make</th>\n",
       "      <th>Model</th>\n",
       "      <th>Clean_Location</th>\n",
       "      <th>Customer No.</th>\n",
       "      <th>Invoice No</th>\n",
       "      <th>Total Amt Wtd Tax.</th>\n",
       "      <th>Service_Time_Hrs</th>\n",
       "      <th>LTV</th>\n",
       "    </tr>\n",
       "  </thead>\n",
       "  <tbody>\n",
       "    <tr>\n",
       "      <th>0</th>\n",
       "      <td>AUDI</td>\n",
       "      <td>A4</td>\n",
       "      <td>Anandibazar, Ahmednagar City, Ahmednagar H.O, ...</td>\n",
       "      <td>118262</td>\n",
       "      <td>1</td>\n",
       "      <td>1754.440</td>\n",
       "      <td>0.268056</td>\n",
       "      <td>1754.44</td>\n",
       "    </tr>\n",
       "    <tr>\n",
       "      <th>1</th>\n",
       "      <td>AUDI</td>\n",
       "      <td>A4</td>\n",
       "      <td>Block 5,Neyveli, Block 26,Neyveli, Block 18,Ne...</td>\n",
       "      <td>121383</td>\n",
       "      <td>2</td>\n",
       "      <td>6126.835</td>\n",
       "      <td>55.498750</td>\n",
       "      <td>12253.67</td>\n",
       "    </tr>\n",
       "    <tr>\n",
       "      <th>2</th>\n",
       "      <td>AUDI</td>\n",
       "      <td>A4</td>\n",
       "      <td>Deccan Gymkhana, Film Institute, A.R. Shala</td>\n",
       "      <td>98005</td>\n",
       "      <td>1</td>\n",
       "      <td>14549.910</td>\n",
       "      <td>103.956667</td>\n",
       "      <td>14549.91</td>\n",
       "    </tr>\n",
       "    <tr>\n",
       "      <th>3</th>\n",
       "      <td>AUDI</td>\n",
       "      <td>A4</td>\n",
       "      <td>Electronics City</td>\n",
       "      <td>113926</td>\n",
       "      <td>1</td>\n",
       "      <td>21834.920</td>\n",
       "      <td>28.306389</td>\n",
       "      <td>21834.92</td>\n",
       "    </tr>\n",
       "    <tr>\n",
       "      <th>4</th>\n",
       "      <td>AUDI</td>\n",
       "      <td>A4</td>\n",
       "      <td>Maravankudiyiruppu, Kottar, Irulappapuram, Eda...</td>\n",
       "      <td>122360</td>\n",
       "      <td>2</td>\n",
       "      <td>1049.570</td>\n",
       "      <td>1.635000</td>\n",
       "      <td>2099.14</td>\n",
       "    </tr>\n",
       "  </tbody>\n",
       "</table>\n",
       "</div>"
      ],
      "text/plain": [
       "   Make Model                                     Clean_Location Customer No.  \\\n",
       "0  AUDI    A4  Anandibazar, Ahmednagar City, Ahmednagar H.O, ...       118262   \n",
       "1  AUDI    A4  Block 5,Neyveli, Block 26,Neyveli, Block 18,Ne...       121383   \n",
       "2  AUDI    A4        Deccan Gymkhana, Film Institute, A.R. Shala        98005   \n",
       "3  AUDI    A4                                   Electronics City       113926   \n",
       "4  AUDI    A4  Maravankudiyiruppu, Kottar, Irulappapuram, Eda...       122360   \n",
       "\n",
       "   Invoice No  Total Amt Wtd Tax.  Service_Time_Hrs       LTV  \n",
       "0           1            1754.440          0.268056   1754.44  \n",
       "1           2            6126.835         55.498750  12253.67  \n",
       "2           1           14549.910        103.956667  14549.91  \n",
       "3           1           21834.920         28.306389  21834.92  \n",
       "4           2            1049.570          1.635000   2099.14  "
      ]
     },
     "execution_count": 17,
     "metadata": {},
     "output_type": "execute_result"
    }
   ],
   "source": [
    "# Calculating frequency of visits & total revenue of a customer for calculation of lifetime value\n",
    "\n",
    "customer_freq=invoice_15.groupby([\"Make\",\"Model\",\"Clean_Location\",\"Customer No.\"]).agg({\"Invoice No\":'nunique',\"Total Amt Wtd Tax.\":'mean',\"Service_Time_Hrs\":'mean'})\n",
    "customer_freq=customer_freq.reset_index()\n",
    "\n",
    "customer_freq.head()\n",
    "\n",
    "ltv_make_model_r=customer_freq.copy()\n",
    "ltv_make_model_r[\"LTV\"] = ltv_make_model_r[\"Invoice No\"] * ltv_make_model_r[\"Total Amt Wtd Tax.\"]\n",
    "ltv_make_model_r.head()"
   ]
  },
  {
   "cell_type": "markdown",
   "metadata": {},
   "source": [
    "### Filtering customer having LTV/Total revenue > 0 "
   ]
  },
  {
   "cell_type": "code",
   "execution_count": 18,
   "metadata": {},
   "outputs": [],
   "source": [
    "ltv_make_model_r = ltv_make_model_r[ltv_make_model_r['LTV'] > 0]"
   ]
  },
  {
   "cell_type": "code",
   "execution_count": 19,
   "metadata": {},
   "outputs": [
    {
     "data": {
      "text/plain": [
       "(65088, 8)"
      ]
     },
     "execution_count": 19,
     "metadata": {},
     "output_type": "execute_result"
    }
   ],
   "source": [
    "ltv_make_model_r.shape"
   ]
  },
  {
   "cell_type": "markdown",
   "metadata": {},
   "source": [
    "### Quantile based analysis of LTV to decide threshold"
   ]
  },
  {
   "cell_type": "code",
   "execution_count": 20,
   "metadata": {
    "colab": {
     "base_uri": "https://localhost:8080/",
     "height": 35
    },
    "colab_type": "code",
    "id": "qz9dqYk2iof3",
    "outputId": "91798fe4-cd12-46ed-f720-e5614aad6eb5"
   },
   "outputs": [
    {
     "name": "stdout",
     "output_type": "stream",
     "text": [
      "0.05 quantile :- 194.9840000000001\n",
      "0.25 quantile :- 749.4\n",
      "0.50 quantile :- 3036.01\n",
      "0.75 quantile :- 8801.681363636362\n",
      "0.95 quantile :- 33434.124277777766\n",
      "minimum LTV :- 0.85\n",
      "maximum LTV :- 2109690.8168778275\n",
      "mean LTV :- 8739.854409827774\n"
     ]
    }
   ],
   "source": [
    "print(\"0.05 quantile :-\",ltv_make_model_r['LTV'].quantile(0.05))\n",
    "print(\"0.25 quantile :-\",ltv_make_model_r['LTV'].quantile(0.25))\n",
    "print(\"0.50 quantile :-\",ltv_make_model_r['LTV'].quantile(0.50))\n",
    "print(\"0.75 quantile :-\",ltv_make_model_r['LTV'].quantile(0.75))\n",
    "print(\"0.95 quantile :-\",ltv_make_model_r['LTV'].quantile(0.95))\n",
    "print(\"minimum LTV :-\",ltv_make_model_r['LTV'].min())\n",
    "print(\"maximum LTV :-\",ltv_make_model_r['LTV'].max())\n",
    "print(\"mean LTV :-\",ltv_make_model_r['LTV'].mean())"
   ]
  },
  {
   "cell_type": "code",
   "execution_count": 21,
   "metadata": {
    "colab": {
     "base_uri": "https://localhost:8080/",
     "height": 72
    },
    "colab_type": "code",
    "id": "5ZS8c2APiogF",
    "outputId": "b2145fc5-702b-433e-cf80-7238cd781690"
   },
   "outputs": [
    {
     "name": "stdout",
     "output_type": "stream",
     "text": [
      "(32544, 8)\n",
      "(16272, 8)\n",
      "(16272, 8)\n"
     ]
    }
   ],
   "source": [
    "print(ltv_make_model_r[ltv_make_model_r[\"LTV\"]<=3036.01].shape)\n",
    "print(ltv_make_model_r[(ltv_make_model_r[\"LTV\"]>3036.01)&(ltv_make_model_r[\"LTV\"]<=8801.681363636362)].shape)\n",
    "print(ltv_make_model_r[ltv_make_model_r[\"LTV\"]>8801.681363636362].shape)"
   ]
  },
  {
   "cell_type": "code",
   "execution_count": 22,
   "metadata": {
    "colab": {},
    "colab_type": "code",
    "id": "Car18mzNiogL"
   },
   "outputs": [],
   "source": [
    "bins=[-1,3036.01,8801.681363636362,2109690.8168778275]\n",
    "labels=[\"Low\",\"Medium\",\"High\"]\n",
    "ltv_make_model_r[\"LTV Binned\"]=pd.cut(ltv_make_model_r[\"LTV\"], bins=bins, labels=labels)"
   ]
  },
  {
   "cell_type": "code",
   "execution_count": 23,
   "metadata": {
    "colab": {
     "base_uri": "https://localhost:8080/",
     "height": 90
    },
    "colab_type": "code",
    "id": "znlkYh20mZwv",
    "outputId": "f2abfbde-a8fd-4f8c-d0e8-2a654809d6e1"
   },
   "outputs": [
    {
     "data": {
      "text/plain": [
       "Low       32544\n",
       "High      16272\n",
       "Medium    16272\n",
       "Name: LTV Binned, dtype: int64"
      ]
     },
     "execution_count": 23,
     "metadata": {},
     "output_type": "execute_result"
    }
   ],
   "source": [
    "ltv_make_model_r[\"LTV Binned\"].value_counts(dropna=False)"
   ]
  },
  {
   "cell_type": "code",
   "execution_count": 24,
   "metadata": {
    "colab": {},
    "colab_type": "code",
    "id": "Ac6Gdi7ZiogQ"
   },
   "outputs": [],
   "source": [
    "ltv_make_model_r.dropna(inplace=True)"
   ]
  },
  {
   "cell_type": "code",
   "execution_count": 25,
   "metadata": {
    "colab": {},
    "colab_type": "code",
    "id": "GzvhflCyiogV"
   },
   "outputs": [],
   "source": [
    "temp_ltv_make_model_r=ltv_make_model_r.copy()"
   ]
  },
  {
   "cell_type": "code",
   "execution_count": 27,
   "metadata": {
    "colab": {},
    "colab_type": "code",
    "id": "VGbc3tR5ioga"
   },
   "outputs": [],
   "source": [
    "le=LabelEncoder()\n",
    "temp_ltv_make_model_r[\"Make\"]=le.fit_transform(temp_ltv_make_model_r[\"Make\"])\n",
    "temp_ltv_make_model_r[\"Model\"]=le.fit_transform(temp_ltv_make_model_r[\"Model\"])\n",
    "temp_ltv_make_model_r[\"LTV Binned\"]=le.fit_transform(temp_ltv_make_model_r[\"LTV Binned\"])\n",
    "temp_ltv_make_model_r[\"Clean_Location\"]=le.fit_transform(temp_ltv_make_model_r[\"Clean_Location\"])"
   ]
  },
  {
   "cell_type": "code",
   "execution_count": 28,
   "metadata": {
    "colab": {
     "base_uri": "https://localhost:8080/",
     "height": 244
    },
    "colab_type": "code",
    "id": "wxuoOpK6iogg",
    "outputId": "068b7cb8-5127-4f5b-ab1e-c2a1b71d5dff"
   },
   "outputs": [
    {
     "data": {
      "text/html": [
       "<div>\n",
       "<style scoped>\n",
       "    .dataframe tbody tr th:only-of-type {\n",
       "        vertical-align: middle;\n",
       "    }\n",
       "\n",
       "    .dataframe tbody tr th {\n",
       "        vertical-align: top;\n",
       "    }\n",
       "\n",
       "    .dataframe thead th {\n",
       "        text-align: right;\n",
       "    }\n",
       "</style>\n",
       "<table border=\"1\" class=\"dataframe\">\n",
       "  <thead>\n",
       "    <tr style=\"text-align: right;\">\n",
       "      <th></th>\n",
       "      <th>Make</th>\n",
       "      <th>Model</th>\n",
       "      <th>Clean_Location</th>\n",
       "      <th>Customer No.</th>\n",
       "      <th>Invoice No</th>\n",
       "      <th>Total Amt Wtd Tax.</th>\n",
       "      <th>Service_Time_Hrs</th>\n",
       "      <th>LTV</th>\n",
       "      <th>LTV Binned</th>\n",
       "    </tr>\n",
       "  </thead>\n",
       "  <tbody>\n",
       "    <tr>\n",
       "      <th>0</th>\n",
       "      <td>0</td>\n",
       "      <td>7</td>\n",
       "      <td>123</td>\n",
       "      <td>118262</td>\n",
       "      <td>1</td>\n",
       "      <td>1754.440</td>\n",
       "      <td>0.268056</td>\n",
       "      <td>1754.44</td>\n",
       "      <td>1</td>\n",
       "    </tr>\n",
       "    <tr>\n",
       "      <th>1</th>\n",
       "      <td>0</td>\n",
       "      <td>7</td>\n",
       "      <td>371</td>\n",
       "      <td>121383</td>\n",
       "      <td>2</td>\n",
       "      <td>6126.835</td>\n",
       "      <td>55.498750</td>\n",
       "      <td>12253.67</td>\n",
       "      <td>0</td>\n",
       "    </tr>\n",
       "    <tr>\n",
       "      <th>2</th>\n",
       "      <td>0</td>\n",
       "      <td>7</td>\n",
       "      <td>582</td>\n",
       "      <td>98005</td>\n",
       "      <td>1</td>\n",
       "      <td>14549.910</td>\n",
       "      <td>103.956667</td>\n",
       "      <td>14549.91</td>\n",
       "      <td>0</td>\n",
       "    </tr>\n",
       "    <tr>\n",
       "      <th>3</th>\n",
       "      <td>0</td>\n",
       "      <td>7</td>\n",
       "      <td>692</td>\n",
       "      <td>113926</td>\n",
       "      <td>1</td>\n",
       "      <td>21834.920</td>\n",
       "      <td>28.306389</td>\n",
       "      <td>21834.92</td>\n",
       "      <td>0</td>\n",
       "    </tr>\n",
       "    <tr>\n",
       "      <th>4</th>\n",
       "      <td>0</td>\n",
       "      <td>7</td>\n",
       "      <td>1648</td>\n",
       "      <td>122360</td>\n",
       "      <td>2</td>\n",
       "      <td>1049.570</td>\n",
       "      <td>1.635000</td>\n",
       "      <td>2099.14</td>\n",
       "      <td>1</td>\n",
       "    </tr>\n",
       "  </tbody>\n",
       "</table>\n",
       "</div>"
      ],
      "text/plain": [
       "   Make  Model  Clean_Location Customer No.  Invoice No  Total Amt Wtd Tax.  \\\n",
       "0     0      7             123       118262           1            1754.440   \n",
       "1     0      7             371       121383           2            6126.835   \n",
       "2     0      7             582        98005           1           14549.910   \n",
       "3     0      7             692       113926           1           21834.920   \n",
       "4     0      7            1648       122360           2            1049.570   \n",
       "\n",
       "   Service_Time_Hrs       LTV  LTV Binned  \n",
       "0          0.268056   1754.44           1  \n",
       "1         55.498750  12253.67           0  \n",
       "2        103.956667  14549.91           0  \n",
       "3         28.306389  21834.92           0  \n",
       "4          1.635000   2099.14           1  "
      ]
     },
     "execution_count": 28,
     "metadata": {},
     "output_type": "execute_result"
    }
   ],
   "source": [
    "temp_ltv_make_model_r.head()"
   ]
  },
  {
   "cell_type": "code",
   "execution_count": 29,
   "metadata": {
    "colab": {},
    "colab_type": "code",
    "id": "y_ldDpBNiogl"
   },
   "outputs": [],
   "source": [
    "X=temp_ltv_make_model_r.drop([\"Customer No.\",\"LTV\",\"LTV Binned\",\"Invoice No\"],1)\n",
    "y=temp_ltv_make_model_r[\"LTV Binned\"]"
   ]
  },
  {
   "cell_type": "code",
   "execution_count": 30,
   "metadata": {
    "colab": {
     "base_uri": "https://localhost:8080/",
     "height": 35
    },
    "colab_type": "code",
    "id": "3JWk8nIdiu_K",
    "outputId": "84c6685c-9a00-4c6e-e84c-2df73a39ebae"
   },
   "outputs": [
    {
     "data": {
      "text/plain": [
       "['Make', 'Model', 'Clean_Location', 'Total Amt Wtd Tax.', 'Service_Time_Hrs']"
      ]
     },
     "execution_count": 30,
     "metadata": {},
     "output_type": "execute_result"
    }
   ],
   "source": [
    "list(X)"
   ]
  },
  {
   "cell_type": "code",
   "execution_count": 31,
   "metadata": {
    "colab": {},
    "colab_type": "code",
    "id": "nbClf_FSiogp"
   },
   "outputs": [],
   "source": [
    "X_train,X_test,y_train,y_test=tts(X,y,test_size=0.3,random_state=0)"
   ]
  },
  {
   "cell_type": "markdown",
   "metadata": {},
   "source": [
    "### Decision Tree Classifier"
   ]
  },
  {
   "cell_type": "code",
   "execution_count": 32,
   "metadata": {},
   "outputs": [
    {
     "name": "stdout",
     "output_type": "stream",
     "text": [
      "              precision    recall  f1-score   support\n",
      "\n",
      "           0       0.83      0.79      0.81      4825\n",
      "           1       0.87      0.99      0.93      9834\n",
      "           2       0.77      0.58      0.66      4868\n",
      "\n",
      "    accuracy                           0.84     19527\n",
      "   macro avg       0.82      0.79      0.80     19527\n",
      "weighted avg       0.83      0.84      0.83     19527\n",
      "\n"
     ]
    }
   ],
   "source": [
    "dt = DecisionTreeClassifier(criterion='entropy',max_depth=8,random_state=0)\n",
    "\n",
    "dt.fit(X_train,y_train)\n",
    "\n",
    "y_pred_dt = dt.predict(X_test)\n",
    "y_pred_dt_train = dt.predict(X_train)\n",
    "\n",
    "print(classification_report(y_test,y_pred_dt))"
   ]
  },
  {
   "cell_type": "code",
   "execution_count": 33,
   "metadata": {},
   "outputs": [
    {
     "name": "stdout",
     "output_type": "stream",
     "text": [
      "Training Accuracy :- 0.8405284990013827\n",
      "Testing Accuracy :- 0.8422773863611422\n"
     ]
    }
   ],
   "source": [
    "print(\"Training Accuracy :-\" , accuracy_score(y_test,y_pred_dt))\n",
    "print(\"Testing Accuracy :-\" ,accuracy_score(y_train,y_pred_dt_train))"
   ]
  },
  {
   "cell_type": "code",
   "execution_count": 34,
   "metadata": {},
   "outputs": [
    {
     "data": {
      "text/plain": [
       "<BarContainer object of 5 artists>"
      ]
     },
     "execution_count": 34,
     "metadata": {},
     "output_type": "execute_result"
    },
    {
     "data": {
      "image/png": "[encoded data removed]",
      "text/plain": [
       "<Figure size 432x288 with 1 Axes>"
      ]
     },
     "metadata": {
      "needs_background": "light"
     },
     "output_type": "display_data"
    }
   ],
   "source": [
    "plt.barh(list(X),list(dt.feature_importances_))"
   ]
  },
  {
   "cell_type": "code",
   "execution_count": 35,
   "metadata": {},
   "outputs": [
    {
     "name": "stdout",
     "output_type": "stream",
     "text": [
      "0.8326265605398039\n"
     ]
    }
   ],
   "source": [
    "### Cross Validation Score\n",
    "\n",
    "dt_cv_score=cross_val_score(estimator=dt,X=X,y=y,cv=5)\n",
    "\n",
    "print(dt_cv_score.mean())"
   ]
  },
  {
   "cell_type": "markdown",
   "metadata": {},
   "source": [
    "### Random Forest Classifier"
   ]
  },
  {
   "cell_type": "code",
   "execution_count": 36,
   "metadata": {
    "colab": {},
    "colab_type": "code",
    "id": "ZzDZOFv4iogu"
   },
   "outputs": [],
   "source": [
    "rfc=RandomForestClassifier(criterion='entropy',max_depth=8,random_state=0)"
   ]
  },
  {
   "cell_type": "code",
   "execution_count": 37,
   "metadata": {
    "colab": {
     "base_uri": "https://localhost:8080/",
     "height": 164
    },
    "colab_type": "code",
    "id": "B8VCTxDqiog2",
    "outputId": "bfd38301-9729-4806-b5d7-41e8e84e9dd7"
   },
   "outputs": [
    {
     "data": {
      "text/plain": [
       "RandomForestClassifier(criterion='entropy', max_depth=8, random_state=0)"
      ]
     },
     "execution_count": 37,
     "metadata": {},
     "output_type": "execute_result"
    }
   ],
   "source": [
    "rfc.fit(X_train,y_train)"
   ]
  },
  {
   "cell_type": "code",
   "execution_count": 38,
   "metadata": {
    "colab": {},
    "colab_type": "code",
    "id": "ZbVkc4A0nG_4"
   },
   "outputs": [],
   "source": [
    "y_pred_rfc=rfc.predict(X_test)"
   ]
  },
  {
   "cell_type": "code",
   "execution_count": 39,
   "metadata": {
    "colab": {
     "base_uri": "https://localhost:8080/",
     "height": 201
    },
    "colab_type": "code",
    "id": "-05hvDOHnG51",
    "outputId": "a1a7f4ee-f404-4bce-f5ab-a93ffb5eb04c"
   },
   "outputs": [
    {
     "name": "stdout",
     "output_type": "stream",
     "text": [
      "              precision    recall  f1-score   support\n",
      "\n",
      "           0       0.92      0.70      0.80      4825\n",
      "           1       0.87      1.00      0.93      9834\n",
      "           2       0.72      0.68      0.70      4868\n",
      "\n",
      "    accuracy                           0.84     19527\n",
      "   macro avg       0.84      0.79      0.81     19527\n",
      "weighted avg       0.85      0.84      0.84     19527\n",
      "\n"
     ]
    }
   ],
   "source": [
    "print(classification_report(y_test,y_pred_rfc))"
   ]
  },
  {
   "cell_type": "code",
   "execution_count": 40,
   "metadata": {
    "colab": {
     "base_uri": "https://localhost:8080/",
     "height": 35
    },
    "colab_type": "code",
    "id": "klFBNiCKtTbg",
    "outputId": "a133eba7-be9c-4ab0-be29-ce30edc0917c"
   },
   "outputs": [
    {
     "data": {
      "text/plain": [
       "0.843857223331797"
      ]
     },
     "execution_count": 40,
     "metadata": {},
     "output_type": "execute_result"
    }
   ],
   "source": [
    "accuracy_score(y_test,y_pred_rfc)"
   ]
  },
  {
   "cell_type": "code",
   "execution_count": 41,
   "metadata": {
    "colab": {
     "base_uri": "https://localhost:8080/",
     "height": 283
    },
    "colab_type": "code",
    "id": "4fwkUghFiohi",
    "outputId": "86313c5f-fc45-4864-bbf9-d18a7c76c2e6"
   },
   "outputs": [
    {
     "data": {
      "text/plain": [
       "<BarContainer object of 5 artists>"
      ]
     },
     "execution_count": 41,
     "metadata": {},
     "output_type": "execute_result"
    },
    {
     "data": {
      "image/png": "[encoded data removed]",
      "text/plain": [
       "<Figure size 432x288 with 1 Axes>"
      ]
     },
     "metadata": {
      "needs_background": "light"
     },
     "output_type": "display_data"
    }
   ],
   "source": [
    "plt.barh(list(X),list(rfc.feature_importances_))"
   ]
  },
  {
   "cell_type": "code",
   "execution_count": 42,
   "metadata": {
    "colab": {},
    "colab_type": "code",
    "id": "seOC2uftioht"
   },
   "outputs": [],
   "source": [
    "score=cross_val_score(estimator=rfc,X=X,y=y,cv=5)"
   ]
  },
  {
   "cell_type": "code",
   "execution_count": 43,
   "metadata": {
    "colab": {
     "base_uri": "https://localhost:8080/",
     "height": 35
    },
    "colab_type": "code",
    "id": "s6AWsz8aioiL",
    "outputId": "64e6cbe7-1992-4965-f88a-beb4c14f1482"
   },
   "outputs": [
    {
     "data": {
      "text/plain": [
       "0.8095188981571342"
      ]
     },
     "execution_count": 43,
     "metadata": {},
     "output_type": "execute_result"
    }
   ],
   "source": [
    "score.mean()"
   ]
  },
  {
   "cell_type": "markdown",
   "metadata": {},
   "source": [
    "### XgBoost Classifier"
   ]
  },
  {
   "cell_type": "code",
   "execution_count": 44,
   "metadata": {
    "colab": {},
    "colab_type": "code",
    "id": "RytSQeZFioiP"
   },
   "outputs": [],
   "source": [
    "xgb=XGBClassifier()"
   ]
  },
  {
   "cell_type": "code",
   "execution_count": 45,
   "metadata": {
    "colab": {
     "base_uri": "https://localhost:8080/",
     "height": 146
    },
    "colab_type": "code",
    "id": "obo-rUrE5V6-",
    "outputId": "0eb0a767-d1df-4f09-a19a-c62d5e4d254f"
   },
   "outputs": [
    {
     "data": {
      "text/plain": [
       "XGBClassifier(base_score=0.5, booster='gbtree', colsample_bylevel=1,\n",
       "              colsample_bynode=1, colsample_bytree=1, gamma=0, gpu_id=-1,\n",
       "              importance_type='gain', interaction_constraints='',\n",
       "              learning_rate=0.300000012, max_delta_step=0, max_depth=6,\n",
       "              min_child_weight=1, missing=nan, monotone_constraints='()',\n",
       "              n_estimators=100, n_jobs=0, num_parallel_tree=1,\n",
       "              objective='multi:softprob', random_state=0, reg_alpha=0,\n",
       "              reg_lambda=1, scale_pos_weight=None, subsample=1,\n",
       "              tree_method='exact', validate_parameters=1, verbosity=None)"
      ]
     },
     "execution_count": 45,
     "metadata": {},
     "output_type": "execute_result"
    }
   ],
   "source": [
    "xgb.fit(X_train,y_train)"
   ]
  },
  {
   "cell_type": "code",
   "execution_count": 46,
   "metadata": {
    "colab": {},
    "colab_type": "code",
    "id": "_brbVeJ05V_O"
   },
   "outputs": [],
   "source": [
    "y_pred_xgb=xgb.predict(X_test)"
   ]
  },
  {
   "cell_type": "code",
   "execution_count": 47,
   "metadata": {
    "colab": {
     "base_uri": "https://localhost:8080/",
     "height": 35
    },
    "colab_type": "code",
    "id": "QOJEcWDz5V3n",
    "outputId": "3dbd30af-eeb2-4fd9-898c-82dc49df8e18"
   },
   "outputs": [
    {
     "data": {
      "text/plain": [
       "0.8588620883904338"
      ]
     },
     "execution_count": 47,
     "metadata": {},
     "output_type": "execute_result"
    }
   ],
   "source": [
    "accuracy_score(y_test,y_pred_xgb)"
   ]
  },
  {
   "cell_type": "code",
   "execution_count": 48,
   "metadata": {
    "colab": {
     "base_uri": "https://localhost:8080/",
     "height": 201
    },
    "colab_type": "code",
    "id": "xOR8IOTI5lGU",
    "outputId": "bc1da195-c545-40ee-9e47-8012040ebe70"
   },
   "outputs": [
    {
     "name": "stdout",
     "output_type": "stream",
     "text": [
      "              precision    recall  f1-score   support\n",
      "\n",
      "           0       0.91      0.74      0.82      4825\n",
      "           1       0.89      0.98      0.94      9834\n",
      "           2       0.74      0.72      0.73      4868\n",
      "\n",
      "    accuracy                           0.86     19527\n",
      "   macro avg       0.85      0.82      0.83     19527\n",
      "weighted avg       0.86      0.86      0.86     19527\n",
      "\n"
     ]
    }
   ],
   "source": [
    "print(classification_report(y_test,y_pred_xgb))"
   ]
  },
  {
   "cell_type": "code",
   "execution_count": 49,
   "metadata": {
    "colab": {},
    "colab_type": "code",
    "id": "VAiFbWLGjJDZ"
   },
   "outputs": [],
   "source": [
    "scores_xgb=cross_val_score(estimator=xgb,X=X,y=y,cv=5)"
   ]
  },
  {
   "cell_type": "code",
   "execution_count": 50,
   "metadata": {
    "colab": {
     "base_uri": "https://localhost:8080/",
     "height": 35
    },
    "colab_type": "code",
    "id": "MaYPl3D4ioiz",
    "outputId": "4111538b-9c9f-4fcd-faae-eb55478ef840"
   },
   "outputs": [
    {
     "data": {
      "text/plain": [
       "0.7795133992440462"
      ]
     },
     "execution_count": 50,
     "metadata": {},
     "output_type": "execute_result"
    }
   ],
   "source": [
    "scores_xgb.mean()"
   ]
  }
 ],
 "metadata": {
  "accelerator": "GPU",
  "colab": {
   "machine_shape": "hm",
   "name": "Capstone Project New.ipynb",
   "provenance": [],
   "toc_visible": true
  },
  "kernelspec": {
   "display_name": "Python 3",
   "language": "python",
   "name": "python3"
  },
  "language_info": {
   "codemirror_mode": {
    "name": "ipython",
    "version": 3
   },
   "file_extension": ".py",
   "mimetype": "text/x-python",
   "name": "python",
   "nbconvert_exporter": "python",
   "pygments_lexer": "ipython3",
   "version": "3.7.3"
  }
 },
 "nbformat": 4,
 "nbformat_minor": 1
}
